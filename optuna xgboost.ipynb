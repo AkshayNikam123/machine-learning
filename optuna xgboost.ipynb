{
 "cells": [
  {
   "cell_type": "code",
   "execution_count": 1,
   "id": "d4e95202",
   "metadata": {},
   "outputs": [
    {
     "name": "stdout",
     "output_type": "stream",
     "text": [
      "Collecting optuna\n",
      "  Downloading optuna-3.1.0-py3-none-any.whl (365 kB)\n",
      "Requirement already satisfied: tqdm in c:\\users\\akshay\\anaconda3\\lib\\site-packages (from optuna) (4.62.3)\n",
      "Requirement already satisfied: packaging>=20.0 in c:\\users\\akshay\\anaconda3\\lib\\site-packages (from optuna) (23.0)\n",
      "Requirement already satisfied: sqlalchemy>=1.3.0 in c:\\users\\akshay\\anaconda3\\lib\\site-packages (from optuna) (1.4.22)\n",
      "Collecting colorlog\n",
      "  Downloading colorlog-6.7.0-py2.py3-none-any.whl (11 kB)\n",
      "Requirement already satisfied: PyYAML in c:\\users\\akshay\\anaconda3\\lib\\site-packages (from optuna) (6.0)\n",
      "Collecting cmaes>=0.9.1\n",
      "  Downloading cmaes-0.9.1-py3-none-any.whl (21 kB)\n",
      "Requirement already satisfied: numpy in c:\\users\\akshay\\anaconda3\\lib\\site-packages (from optuna) (1.20.3)\n",
      "Collecting alembic>=1.5.0\n",
      "  Downloading alembic-1.9.3-py3-none-any.whl (210 kB)\n",
      "Collecting Mako\n",
      "  Downloading Mako-1.2.4-py3-none-any.whl (78 kB)\n",
      "Requirement already satisfied: greenlet!=0.4.17 in c:\\users\\akshay\\anaconda3\\lib\\site-packages (from sqlalchemy>=1.3.0->optuna) (1.1.1)\n",
      "Requirement already satisfied: colorama in c:\\users\\akshay\\anaconda3\\lib\\site-packages (from colorlog->optuna) (0.4.4)\n",
      "Requirement already satisfied: MarkupSafe>=0.9.2 in c:\\users\\akshay\\anaconda3\\lib\\site-packages (from Mako->alembic>=1.5.0->optuna) (1.1.1)\n",
      "Installing collected packages: Mako, colorlog, cmaes, alembic, optuna\n",
      "Successfully installed Mako-1.2.4 alembic-1.9.3 cmaes-0.9.1 colorlog-6.7.0 optuna-3.1.0\n",
      "Note: you may need to restart the kernel to use updated packages.\n"
     ]
    }
   ],
   "source": [
    "pip install optuna #best library for hyperparameter tunning"
   ]
  },
  {
   "cell_type": "code",
   "execution_count": 2,
   "id": "8dc01c85",
   "metadata": {},
   "outputs": [
    {
     "name": "stdout",
     "output_type": "stream",
     "text": [
      "Collecting xgboost\n",
      "  Downloading xgboost-1.7.3-py3-none-win_amd64.whl (89.1 MB)\n",
      "Requirement already satisfied: numpy in c:\\users\\akshay\\anaconda3\\lib\\site-packages (from xgboost) (1.20.3)\n",
      "Requirement already satisfied: scipy in c:\\users\\akshay\\anaconda3\\lib\\site-packages (from xgboost) (1.7.1)\n",
      "Installing collected packages: xgboost\n",
      "Successfully installed xgboost-1.7.3\n",
      "Note: you may need to restart the kernel to use updated packages.\n"
     ]
    }
   ],
   "source": [
    "pip install xgboost"
   ]
  },
  {
   "cell_type": "code",
   "execution_count": 65,
   "id": "e898f69b",
   "metadata": {},
   "outputs": [],
   "source": [
    "import optuna\n",
    "import xgboost as xgb\n",
    "import numpy as np\n",
    "import pandas as pd\n",
    "from sklearn.model_selection import train_test_split\n"
   ]
  },
  {
   "cell_type": "code",
   "execution_count": 66,
   "id": "616f7424",
   "metadata": {},
   "outputs": [],
   "source": [
    "df=pd.read_csv(r\"C:\\Users\\akshay\\Downloads\\Admission_Prediction.csv\")"
   ]
  },
  {
   "cell_type": "code",
   "execution_count": 67,
   "id": "317e6eb7",
   "metadata": {},
   "outputs": [
    {
     "data": {
      "text/html": [
       "<div>\n",
       "<style scoped>\n",
       "    .dataframe tbody tr th:only-of-type {\n",
       "        vertical-align: middle;\n",
       "    }\n",
       "\n",
       "    .dataframe tbody tr th {\n",
       "        vertical-align: top;\n",
       "    }\n",
       "\n",
       "    .dataframe thead th {\n",
       "        text-align: right;\n",
       "    }\n",
       "</style>\n",
       "<table border=\"1\" class=\"dataframe\">\n",
       "  <thead>\n",
       "    <tr style=\"text-align: right;\">\n",
       "      <th></th>\n",
       "      <th>Serial No.</th>\n",
       "      <th>GRE Score</th>\n",
       "      <th>TOEFL Score</th>\n",
       "      <th>University Rating</th>\n",
       "      <th>SOP</th>\n",
       "      <th>LOR</th>\n",
       "      <th>CGPA</th>\n",
       "      <th>Research</th>\n",
       "      <th>Chance of Admit</th>\n",
       "    </tr>\n",
       "  </thead>\n",
       "  <tbody>\n",
       "    <tr>\n",
       "      <th>0</th>\n",
       "      <td>1</td>\n",
       "      <td>337.0</td>\n",
       "      <td>118.0</td>\n",
       "      <td>4.0</td>\n",
       "      <td>4.5</td>\n",
       "      <td>4.5</td>\n",
       "      <td>9.65</td>\n",
       "      <td>1</td>\n",
       "      <td>0.92</td>\n",
       "    </tr>\n",
       "    <tr>\n",
       "      <th>1</th>\n",
       "      <td>2</td>\n",
       "      <td>324.0</td>\n",
       "      <td>107.0</td>\n",
       "      <td>4.0</td>\n",
       "      <td>4.0</td>\n",
       "      <td>4.5</td>\n",
       "      <td>8.87</td>\n",
       "      <td>1</td>\n",
       "      <td>0.76</td>\n",
       "    </tr>\n",
       "    <tr>\n",
       "      <th>2</th>\n",
       "      <td>3</td>\n",
       "      <td>NaN</td>\n",
       "      <td>104.0</td>\n",
       "      <td>3.0</td>\n",
       "      <td>3.0</td>\n",
       "      <td>3.5</td>\n",
       "      <td>8.00</td>\n",
       "      <td>1</td>\n",
       "      <td>0.72</td>\n",
       "    </tr>\n",
       "    <tr>\n",
       "      <th>3</th>\n",
       "      <td>4</td>\n",
       "      <td>322.0</td>\n",
       "      <td>110.0</td>\n",
       "      <td>3.0</td>\n",
       "      <td>3.5</td>\n",
       "      <td>2.5</td>\n",
       "      <td>8.67</td>\n",
       "      <td>1</td>\n",
       "      <td>0.80</td>\n",
       "    </tr>\n",
       "    <tr>\n",
       "      <th>4</th>\n",
       "      <td>5</td>\n",
       "      <td>314.0</td>\n",
       "      <td>103.0</td>\n",
       "      <td>2.0</td>\n",
       "      <td>2.0</td>\n",
       "      <td>3.0</td>\n",
       "      <td>8.21</td>\n",
       "      <td>0</td>\n",
       "      <td>0.65</td>\n",
       "    </tr>\n",
       "    <tr>\n",
       "      <th>...</th>\n",
       "      <td>...</td>\n",
       "      <td>...</td>\n",
       "      <td>...</td>\n",
       "      <td>...</td>\n",
       "      <td>...</td>\n",
       "      <td>...</td>\n",
       "      <td>...</td>\n",
       "      <td>...</td>\n",
       "      <td>...</td>\n",
       "    </tr>\n",
       "    <tr>\n",
       "      <th>495</th>\n",
       "      <td>496</td>\n",
       "      <td>332.0</td>\n",
       "      <td>108.0</td>\n",
       "      <td>5.0</td>\n",
       "      <td>4.5</td>\n",
       "      <td>4.0</td>\n",
       "      <td>9.02</td>\n",
       "      <td>1</td>\n",
       "      <td>0.87</td>\n",
       "    </tr>\n",
       "    <tr>\n",
       "      <th>496</th>\n",
       "      <td>497</td>\n",
       "      <td>337.0</td>\n",
       "      <td>117.0</td>\n",
       "      <td>5.0</td>\n",
       "      <td>5.0</td>\n",
       "      <td>5.0</td>\n",
       "      <td>9.87</td>\n",
       "      <td>1</td>\n",
       "      <td>0.96</td>\n",
       "    </tr>\n",
       "    <tr>\n",
       "      <th>497</th>\n",
       "      <td>498</td>\n",
       "      <td>330.0</td>\n",
       "      <td>120.0</td>\n",
       "      <td>5.0</td>\n",
       "      <td>4.5</td>\n",
       "      <td>5.0</td>\n",
       "      <td>9.56</td>\n",
       "      <td>1</td>\n",
       "      <td>0.93</td>\n",
       "    </tr>\n",
       "    <tr>\n",
       "      <th>498</th>\n",
       "      <td>499</td>\n",
       "      <td>312.0</td>\n",
       "      <td>103.0</td>\n",
       "      <td>4.0</td>\n",
       "      <td>4.0</td>\n",
       "      <td>5.0</td>\n",
       "      <td>8.43</td>\n",
       "      <td>0</td>\n",
       "      <td>0.73</td>\n",
       "    </tr>\n",
       "    <tr>\n",
       "      <th>499</th>\n",
       "      <td>500</td>\n",
       "      <td>327.0</td>\n",
       "      <td>113.0</td>\n",
       "      <td>4.0</td>\n",
       "      <td>4.5</td>\n",
       "      <td>4.5</td>\n",
       "      <td>9.04</td>\n",
       "      <td>0</td>\n",
       "      <td>0.84</td>\n",
       "    </tr>\n",
       "  </tbody>\n",
       "</table>\n",
       "<p>500 rows × 9 columns</p>\n",
       "</div>"
      ],
      "text/plain": [
       "     Serial No.  GRE Score  TOEFL Score  University Rating  SOP  LOR  CGPA  \\\n",
       "0             1      337.0        118.0                4.0  4.5  4.5  9.65   \n",
       "1             2      324.0        107.0                4.0  4.0  4.5  8.87   \n",
       "2             3        NaN        104.0                3.0  3.0  3.5  8.00   \n",
       "3             4      322.0        110.0                3.0  3.5  2.5  8.67   \n",
       "4             5      314.0        103.0                2.0  2.0  3.0  8.21   \n",
       "..          ...        ...          ...                ...  ...  ...   ...   \n",
       "495         496      332.0        108.0                5.0  4.5  4.0  9.02   \n",
       "496         497      337.0        117.0                5.0  5.0  5.0  9.87   \n",
       "497         498      330.0        120.0                5.0  4.5  5.0  9.56   \n",
       "498         499      312.0        103.0                4.0  4.0  5.0  8.43   \n",
       "499         500      327.0        113.0                4.0  4.5  4.5  9.04   \n",
       "\n",
       "     Research  Chance of Admit  \n",
       "0           1             0.92  \n",
       "1           1             0.76  \n",
       "2           1             0.72  \n",
       "3           1             0.80  \n",
       "4           0             0.65  \n",
       "..        ...              ...  \n",
       "495         1             0.87  \n",
       "496         1             0.96  \n",
       "497         1             0.93  \n",
       "498         0             0.73  \n",
       "499         0             0.84  \n",
       "\n",
       "[500 rows x 9 columns]"
      ]
     },
     "execution_count": 67,
     "metadata": {},
     "output_type": "execute_result"
    }
   ],
   "source": [
    "df"
   ]
  },
  {
   "cell_type": "code",
   "execution_count": 68,
   "id": "5ffda219",
   "metadata": {},
   "outputs": [],
   "source": [
    "df[\"GRE Score\"]=df['GRE Score'].fillna(df['GRE Score'].mean())\n",
    "df[\"TOEFEL Score\"]=df['GRE Score'].fillna(df['GRE Score'].mean())\n",
    "df[\"University Rating\"]=df['GRE Score'].fillna(df['GRE Score'].mean())"
   ]
  },
  {
   "cell_type": "code",
   "execution_count": 69,
   "id": "a761065f",
   "metadata": {},
   "outputs": [
    {
     "data": {
      "text/html": [
       "<div>\n",
       "<style scoped>\n",
       "    .dataframe tbody tr th:only-of-type {\n",
       "        vertical-align: middle;\n",
       "    }\n",
       "\n",
       "    .dataframe tbody tr th {\n",
       "        vertical-align: top;\n",
       "    }\n",
       "\n",
       "    .dataframe thead th {\n",
       "        text-align: right;\n",
       "    }\n",
       "</style>\n",
       "<table border=\"1\" class=\"dataframe\">\n",
       "  <thead>\n",
       "    <tr style=\"text-align: right;\">\n",
       "      <th></th>\n",
       "      <th>Serial No.</th>\n",
       "      <th>GRE Score</th>\n",
       "      <th>TOEFL Score</th>\n",
       "      <th>University Rating</th>\n",
       "      <th>SOP</th>\n",
       "      <th>LOR</th>\n",
       "      <th>CGPA</th>\n",
       "      <th>Research</th>\n",
       "      <th>Chance of Admit</th>\n",
       "      <th>TOEFEL Score</th>\n",
       "    </tr>\n",
       "  </thead>\n",
       "  <tbody>\n",
       "    <tr>\n",
       "      <th>count</th>\n",
       "      <td>500.000000</td>\n",
       "      <td>500.000000</td>\n",
       "      <td>490.000000</td>\n",
       "      <td>500.000000</td>\n",
       "      <td>500.000000</td>\n",
       "      <td>500.00000</td>\n",
       "      <td>500.000000</td>\n",
       "      <td>500.000000</td>\n",
       "      <td>500.00000</td>\n",
       "      <td>500.000000</td>\n",
       "    </tr>\n",
       "    <tr>\n",
       "      <th>mean</th>\n",
       "      <td>250.500000</td>\n",
       "      <td>316.558763</td>\n",
       "      <td>107.187755</td>\n",
       "      <td>316.558763</td>\n",
       "      <td>3.374000</td>\n",
       "      <td>3.48400</td>\n",
       "      <td>8.576440</td>\n",
       "      <td>0.560000</td>\n",
       "      <td>0.72174</td>\n",
       "      <td>316.558763</td>\n",
       "    </tr>\n",
       "    <tr>\n",
       "      <th>std</th>\n",
       "      <td>144.481833</td>\n",
       "      <td>11.103952</td>\n",
       "      <td>6.112899</td>\n",
       "      <td>11.103952</td>\n",
       "      <td>0.991004</td>\n",
       "      <td>0.92545</td>\n",
       "      <td>0.604813</td>\n",
       "      <td>0.496884</td>\n",
       "      <td>0.14114</td>\n",
       "      <td>11.103952</td>\n",
       "    </tr>\n",
       "    <tr>\n",
       "      <th>min</th>\n",
       "      <td>1.000000</td>\n",
       "      <td>290.000000</td>\n",
       "      <td>92.000000</td>\n",
       "      <td>290.000000</td>\n",
       "      <td>1.000000</td>\n",
       "      <td>1.00000</td>\n",
       "      <td>6.800000</td>\n",
       "      <td>0.000000</td>\n",
       "      <td>0.34000</td>\n",
       "      <td>290.000000</td>\n",
       "    </tr>\n",
       "    <tr>\n",
       "      <th>25%</th>\n",
       "      <td>125.750000</td>\n",
       "      <td>309.000000</td>\n",
       "      <td>103.000000</td>\n",
       "      <td>309.000000</td>\n",
       "      <td>2.500000</td>\n",
       "      <td>3.00000</td>\n",
       "      <td>8.127500</td>\n",
       "      <td>0.000000</td>\n",
       "      <td>0.63000</td>\n",
       "      <td>309.000000</td>\n",
       "    </tr>\n",
       "    <tr>\n",
       "      <th>50%</th>\n",
       "      <td>250.500000</td>\n",
       "      <td>316.558763</td>\n",
       "      <td>107.000000</td>\n",
       "      <td>316.558763</td>\n",
       "      <td>3.500000</td>\n",
       "      <td>3.50000</td>\n",
       "      <td>8.560000</td>\n",
       "      <td>1.000000</td>\n",
       "      <td>0.72000</td>\n",
       "      <td>316.558763</td>\n",
       "    </tr>\n",
       "    <tr>\n",
       "      <th>75%</th>\n",
       "      <td>375.250000</td>\n",
       "      <td>324.000000</td>\n",
       "      <td>112.000000</td>\n",
       "      <td>324.000000</td>\n",
       "      <td>4.000000</td>\n",
       "      <td>4.00000</td>\n",
       "      <td>9.040000</td>\n",
       "      <td>1.000000</td>\n",
       "      <td>0.82000</td>\n",
       "      <td>324.000000</td>\n",
       "    </tr>\n",
       "    <tr>\n",
       "      <th>max</th>\n",
       "      <td>500.000000</td>\n",
       "      <td>340.000000</td>\n",
       "      <td>120.000000</td>\n",
       "      <td>340.000000</td>\n",
       "      <td>5.000000</td>\n",
       "      <td>5.00000</td>\n",
       "      <td>9.920000</td>\n",
       "      <td>1.000000</td>\n",
       "      <td>0.97000</td>\n",
       "      <td>340.000000</td>\n",
       "    </tr>\n",
       "  </tbody>\n",
       "</table>\n",
       "</div>"
      ],
      "text/plain": [
       "       Serial No.   GRE Score  TOEFL Score  University Rating         SOP  \\\n",
       "count  500.000000  500.000000   490.000000         500.000000  500.000000   \n",
       "mean   250.500000  316.558763   107.187755         316.558763    3.374000   \n",
       "std    144.481833   11.103952     6.112899          11.103952    0.991004   \n",
       "min      1.000000  290.000000    92.000000         290.000000    1.000000   \n",
       "25%    125.750000  309.000000   103.000000         309.000000    2.500000   \n",
       "50%    250.500000  316.558763   107.000000         316.558763    3.500000   \n",
       "75%    375.250000  324.000000   112.000000         324.000000    4.000000   \n",
       "max    500.000000  340.000000   120.000000         340.000000    5.000000   \n",
       "\n",
       "             LOR        CGPA    Research  Chance of Admit  TOEFEL Score  \n",
       "count  500.00000  500.000000  500.000000        500.00000    500.000000  \n",
       "mean     3.48400    8.576440    0.560000          0.72174    316.558763  \n",
       "std      0.92545    0.604813    0.496884          0.14114     11.103952  \n",
       "min      1.00000    6.800000    0.000000          0.34000    290.000000  \n",
       "25%      3.00000    8.127500    0.000000          0.63000    309.000000  \n",
       "50%      3.50000    8.560000    1.000000          0.72000    316.558763  \n",
       "75%      4.00000    9.040000    1.000000          0.82000    324.000000  \n",
       "max      5.00000    9.920000    1.000000          0.97000    340.000000  "
      ]
     },
     "execution_count": 69,
     "metadata": {},
     "output_type": "execute_result"
    }
   ],
   "source": [
    "df.describe()"
   ]
  },
  {
   "cell_type": "code",
   "execution_count": 70,
   "id": "24ff74a7",
   "metadata": {},
   "outputs": [],
   "source": [
    "x=df.drop(columns=['Serial No.','Chance of Admit'])"
   ]
  },
  {
   "cell_type": "code",
   "execution_count": 71,
   "id": "3ef300cd",
   "metadata": {},
   "outputs": [
    {
     "data": {
      "text/html": [
       "<div>\n",
       "<style scoped>\n",
       "    .dataframe tbody tr th:only-of-type {\n",
       "        vertical-align: middle;\n",
       "    }\n",
       "\n",
       "    .dataframe tbody tr th {\n",
       "        vertical-align: top;\n",
       "    }\n",
       "\n",
       "    .dataframe thead th {\n",
       "        text-align: right;\n",
       "    }\n",
       "</style>\n",
       "<table border=\"1\" class=\"dataframe\">\n",
       "  <thead>\n",
       "    <tr style=\"text-align: right;\">\n",
       "      <th></th>\n",
       "      <th>GRE Score</th>\n",
       "      <th>TOEFL Score</th>\n",
       "      <th>University Rating</th>\n",
       "      <th>SOP</th>\n",
       "      <th>LOR</th>\n",
       "      <th>CGPA</th>\n",
       "      <th>Research</th>\n",
       "      <th>TOEFEL Score</th>\n",
       "    </tr>\n",
       "  </thead>\n",
       "  <tbody>\n",
       "    <tr>\n",
       "      <th>0</th>\n",
       "      <td>337.000000</td>\n",
       "      <td>118.0</td>\n",
       "      <td>337.000000</td>\n",
       "      <td>4.5</td>\n",
       "      <td>4.5</td>\n",
       "      <td>9.65</td>\n",
       "      <td>1</td>\n",
       "      <td>337.000000</td>\n",
       "    </tr>\n",
       "    <tr>\n",
       "      <th>1</th>\n",
       "      <td>324.000000</td>\n",
       "      <td>107.0</td>\n",
       "      <td>324.000000</td>\n",
       "      <td>4.0</td>\n",
       "      <td>4.5</td>\n",
       "      <td>8.87</td>\n",
       "      <td>1</td>\n",
       "      <td>324.000000</td>\n",
       "    </tr>\n",
       "    <tr>\n",
       "      <th>2</th>\n",
       "      <td>316.558763</td>\n",
       "      <td>104.0</td>\n",
       "      <td>316.558763</td>\n",
       "      <td>3.0</td>\n",
       "      <td>3.5</td>\n",
       "      <td>8.00</td>\n",
       "      <td>1</td>\n",
       "      <td>316.558763</td>\n",
       "    </tr>\n",
       "    <tr>\n",
       "      <th>3</th>\n",
       "      <td>322.000000</td>\n",
       "      <td>110.0</td>\n",
       "      <td>322.000000</td>\n",
       "      <td>3.5</td>\n",
       "      <td>2.5</td>\n",
       "      <td>8.67</td>\n",
       "      <td>1</td>\n",
       "      <td>322.000000</td>\n",
       "    </tr>\n",
       "    <tr>\n",
       "      <th>4</th>\n",
       "      <td>314.000000</td>\n",
       "      <td>103.0</td>\n",
       "      <td>314.000000</td>\n",
       "      <td>2.0</td>\n",
       "      <td>3.0</td>\n",
       "      <td>8.21</td>\n",
       "      <td>0</td>\n",
       "      <td>314.000000</td>\n",
       "    </tr>\n",
       "    <tr>\n",
       "      <th>...</th>\n",
       "      <td>...</td>\n",
       "      <td>...</td>\n",
       "      <td>...</td>\n",
       "      <td>...</td>\n",
       "      <td>...</td>\n",
       "      <td>...</td>\n",
       "      <td>...</td>\n",
       "      <td>...</td>\n",
       "    </tr>\n",
       "    <tr>\n",
       "      <th>495</th>\n",
       "      <td>332.000000</td>\n",
       "      <td>108.0</td>\n",
       "      <td>332.000000</td>\n",
       "      <td>4.5</td>\n",
       "      <td>4.0</td>\n",
       "      <td>9.02</td>\n",
       "      <td>1</td>\n",
       "      <td>332.000000</td>\n",
       "    </tr>\n",
       "    <tr>\n",
       "      <th>496</th>\n",
       "      <td>337.000000</td>\n",
       "      <td>117.0</td>\n",
       "      <td>337.000000</td>\n",
       "      <td>5.0</td>\n",
       "      <td>5.0</td>\n",
       "      <td>9.87</td>\n",
       "      <td>1</td>\n",
       "      <td>337.000000</td>\n",
       "    </tr>\n",
       "    <tr>\n",
       "      <th>497</th>\n",
       "      <td>330.000000</td>\n",
       "      <td>120.0</td>\n",
       "      <td>330.000000</td>\n",
       "      <td>4.5</td>\n",
       "      <td>5.0</td>\n",
       "      <td>9.56</td>\n",
       "      <td>1</td>\n",
       "      <td>330.000000</td>\n",
       "    </tr>\n",
       "    <tr>\n",
       "      <th>498</th>\n",
       "      <td>312.000000</td>\n",
       "      <td>103.0</td>\n",
       "      <td>312.000000</td>\n",
       "      <td>4.0</td>\n",
       "      <td>5.0</td>\n",
       "      <td>8.43</td>\n",
       "      <td>0</td>\n",
       "      <td>312.000000</td>\n",
       "    </tr>\n",
       "    <tr>\n",
       "      <th>499</th>\n",
       "      <td>327.000000</td>\n",
       "      <td>113.0</td>\n",
       "      <td>327.000000</td>\n",
       "      <td>4.5</td>\n",
       "      <td>4.5</td>\n",
       "      <td>9.04</td>\n",
       "      <td>0</td>\n",
       "      <td>327.000000</td>\n",
       "    </tr>\n",
       "  </tbody>\n",
       "</table>\n",
       "<p>500 rows × 8 columns</p>\n",
       "</div>"
      ],
      "text/plain": [
       "      GRE Score  TOEFL Score  University Rating  SOP  LOR  CGPA  Research  \\\n",
       "0    337.000000        118.0         337.000000  4.5  4.5  9.65         1   \n",
       "1    324.000000        107.0         324.000000  4.0  4.5  8.87         1   \n",
       "2    316.558763        104.0         316.558763  3.0  3.5  8.00         1   \n",
       "3    322.000000        110.0         322.000000  3.5  2.5  8.67         1   \n",
       "4    314.000000        103.0         314.000000  2.0  3.0  8.21         0   \n",
       "..          ...          ...                ...  ...  ...   ...       ...   \n",
       "495  332.000000        108.0         332.000000  4.5  4.0  9.02         1   \n",
       "496  337.000000        117.0         337.000000  5.0  5.0  9.87         1   \n",
       "497  330.000000        120.0         330.000000  4.5  5.0  9.56         1   \n",
       "498  312.000000        103.0         312.000000  4.0  5.0  8.43         0   \n",
       "499  327.000000        113.0         327.000000  4.5  4.5  9.04         0   \n",
       "\n",
       "     TOEFEL Score  \n",
       "0      337.000000  \n",
       "1      324.000000  \n",
       "2      316.558763  \n",
       "3      322.000000  \n",
       "4      314.000000  \n",
       "..            ...  \n",
       "495    332.000000  \n",
       "496    337.000000  \n",
       "497    330.000000  \n",
       "498    312.000000  \n",
       "499    327.000000  \n",
       "\n",
       "[500 rows x 8 columns]"
      ]
     },
     "execution_count": 71,
     "metadata": {},
     "output_type": "execute_result"
    }
   ],
   "source": [
    "x"
   ]
  },
  {
   "cell_type": "code",
   "execution_count": 72,
   "id": "f796b7a2",
   "metadata": {},
   "outputs": [],
   "source": [
    "y=df['Chance of Admit']"
   ]
  },
  {
   "cell_type": "code",
   "execution_count": 73,
   "id": "c52b29f3",
   "metadata": {},
   "outputs": [
    {
     "data": {
      "text/plain": [
       "0      0.92\n",
       "1      0.76\n",
       "2      0.72\n",
       "3      0.80\n",
       "4      0.65\n",
       "       ... \n",
       "495    0.87\n",
       "496    0.96\n",
       "497    0.93\n",
       "498    0.73\n",
       "499    0.84\n",
       "Name: Chance of Admit, Length: 500, dtype: float64"
      ]
     },
     "execution_count": 73,
     "metadata": {},
     "output_type": "execute_result"
    }
   ],
   "source": [
    "y"
   ]
  },
  {
   "cell_type": "code",
   "execution_count": 74,
   "id": "0ef5b5b5",
   "metadata": {},
   "outputs": [],
   "source": [
    "from sklearn.preprocessing import StandardScaler\n",
    "std_sca= StandardScaler()\n",
    "x=std_sca.fit_transform(x)"
   ]
  },
  {
   "cell_type": "code",
   "execution_count": 75,
   "id": "17011a8f",
   "metadata": {},
   "outputs": [],
   "source": [
    "parameter from documents\n",
    "from sklearn.metrics import mean_squared_error\n",
    "def objective(trail,data=x,target=y):\n",
    "    x_train,x_test,y_train,y_test=train_test_split(data,target,test_size=.10,random_state=30)\n",
    "    param={\n",
    "        'tree_method':'gpu_hist',\n",
    "        'lambda':trail.suggest_loguniform('lamba',le-4,10.0),\n",
    "        'alpha':trail.suggest_loguniform('alpha',le-4,10.0),\n",
    "        'colsample_bytree':trial.suggest_categorical('colsample_bytree',[.3,.4,.5,.6,.7,.8,.9,1]),\n",
    "        'subsample':trail.suggest_categorical('subsample',[.3,.4,.5,.6,.7,.8,.9,1]),\n",
    "        'colsample_bytree':trial.suggest_categorical('learningrate',[.00001,.00003,.008,1,10,20]),\n",
    "        'n_estimator':30000,\n",
    "        'max_depth':trail.suggest_categorical('max_depth',[3,4,5,6,7,8,9,10,11,12]),\n",
    "        'random_state':trail.suggest_catagorical('random_state',[10,20,30,2000,3454,243123]),\n",
    "        'min_child_weight':trial.suggest_int('min_child_weight',1,200),\n",
    "        'verbosity':3\n",
    "        \n",
    "    }\n",
    "    xgb_reg_model=xgb.XGBRegressor(**param)\n",
    "    xgb_reg_model.fit(train_x,train_y,eval_set=[(test_x,test_y)],verbose=True)\n",
    "    pred_xgb=xgb_reg_model.predict(test_x)\n",
    "    rmse=mean_squared_error(test_y,pred_xgb)\n",
    "    return rmse"
   ]
  },
  {
   "cell_type": "code",
   "execution_count": 76,
   "id": "609b4fa2",
   "metadata": {},
   "outputs": [
    {
     "name": "stderr",
     "output_type": "stream",
     "text": [
      "\u001b[32m[I 2023-02-10 18:11:30,587]\u001b[0m A new study created in memory with name: no-name-12e21baa-724b-4316-8c7e-8d74c4c581c2\u001b[0m\n",
      "\u001b[33m[W 2023-02-10 18:11:30,601]\u001b[0m Trial 0 failed with parameters: {} because of the following error: NameError(\"name 'le' is not defined\").\u001b[0m\n",
      "Traceback (most recent call last):\n",
      "  File \"C:\\Users\\akshay\\anaconda3\\lib\\site-packages\\optuna\\study\\_optimize.py\", line 200, in _run_trial\n",
      "    value_or_values = func(trial)\n",
      "  File \"C:\\Users\\akshay\\AppData\\Local\\Temp/ipykernel_40416/849649137.py\", line 6, in objective\n",
      "    'lambda':trail.suggest_loguniform('lamba',le-4,10.0),\n",
      "NameError: name 'le' is not defined\n",
      "\u001b[33m[W 2023-02-10 18:11:30,606]\u001b[0m Trial 0 failed with value None.\u001b[0m\n"
     ]
    },
    {
     "ename": "NameError",
     "evalue": "name 'le' is not defined",
     "output_type": "error",
     "traceback": [
      "\u001b[1;31m---------------------------------------------------------------------------\u001b[0m",
      "\u001b[1;31mNameError\u001b[0m                                 Traceback (most recent call last)",
      "\u001b[1;32m~\\AppData\\Local\\Temp/ipykernel_40416/1970958029.py\u001b[0m in \u001b[0;36m<module>\u001b[1;34m\u001b[0m\n\u001b[0;32m      1\u001b[0m \u001b[0mfind_params\u001b[0m\u001b[1;33m=\u001b[0m\u001b[0moptuna\u001b[0m\u001b[1;33m.\u001b[0m\u001b[0mcreate_study\u001b[0m\u001b[1;33m(\u001b[0m\u001b[0mdirection\u001b[0m\u001b[1;33m=\u001b[0m\u001b[1;34m'minimize'\u001b[0m\u001b[1;33m)\u001b[0m\u001b[1;33m\u001b[0m\u001b[1;33m\u001b[0m\u001b[0m\n\u001b[1;32m----> 2\u001b[1;33m \u001b[0mfind_params\u001b[0m\u001b[1;33m.\u001b[0m\u001b[0moptimize\u001b[0m\u001b[1;33m(\u001b[0m\u001b[0mobjective\u001b[0m\u001b[1;33m,\u001b[0m\u001b[0mn_trials\u001b[0m\u001b[1;33m=\u001b[0m\u001b[1;36m10\u001b[0m\u001b[1;33m)\u001b[0m\u001b[1;33m\u001b[0m\u001b[1;33m\u001b[0m\u001b[0m\n\u001b[0m\u001b[0;32m      3\u001b[0m \u001b[0mfind_params\u001b[0m\u001b[1;33m.\u001b[0m\u001b[0mbest_trial\u001b[0m\u001b[1;33m.\u001b[0m\u001b[0mparams\u001b[0m\u001b[1;33m\u001b[0m\u001b[1;33m\u001b[0m\u001b[0m\n",
      "\u001b[1;32m~\\anaconda3\\lib\\site-packages\\optuna\\study\\study.py\u001b[0m in \u001b[0;36moptimize\u001b[1;34m(self, func, n_trials, timeout, n_jobs, catch, callbacks, gc_after_trial, show_progress_bar)\u001b[0m\n\u001b[0;32m    423\u001b[0m         \"\"\"\n\u001b[0;32m    424\u001b[0m \u001b[1;33m\u001b[0m\u001b[0m\n\u001b[1;32m--> 425\u001b[1;33m         _optimize(\n\u001b[0m\u001b[0;32m    426\u001b[0m             \u001b[0mstudy\u001b[0m\u001b[1;33m=\u001b[0m\u001b[0mself\u001b[0m\u001b[1;33m,\u001b[0m\u001b[1;33m\u001b[0m\u001b[1;33m\u001b[0m\u001b[0m\n\u001b[0;32m    427\u001b[0m             \u001b[0mfunc\u001b[0m\u001b[1;33m=\u001b[0m\u001b[0mfunc\u001b[0m\u001b[1;33m,\u001b[0m\u001b[1;33m\u001b[0m\u001b[1;33m\u001b[0m\u001b[0m\n",
      "\u001b[1;32m~\\anaconda3\\lib\\site-packages\\optuna\\study\\_optimize.py\u001b[0m in \u001b[0;36m_optimize\u001b[1;34m(study, func, n_trials, timeout, n_jobs, catch, callbacks, gc_after_trial, show_progress_bar)\u001b[0m\n\u001b[0;32m     64\u001b[0m     \u001b[1;32mtry\u001b[0m\u001b[1;33m:\u001b[0m\u001b[1;33m\u001b[0m\u001b[1;33m\u001b[0m\u001b[0m\n\u001b[0;32m     65\u001b[0m         \u001b[1;32mif\u001b[0m \u001b[0mn_jobs\u001b[0m \u001b[1;33m==\u001b[0m \u001b[1;36m1\u001b[0m\u001b[1;33m:\u001b[0m\u001b[1;33m\u001b[0m\u001b[1;33m\u001b[0m\u001b[0m\n\u001b[1;32m---> 66\u001b[1;33m             _optimize_sequential(\n\u001b[0m\u001b[0;32m     67\u001b[0m                 \u001b[0mstudy\u001b[0m\u001b[1;33m,\u001b[0m\u001b[1;33m\u001b[0m\u001b[1;33m\u001b[0m\u001b[0m\n\u001b[0;32m     68\u001b[0m                 \u001b[0mfunc\u001b[0m\u001b[1;33m,\u001b[0m\u001b[1;33m\u001b[0m\u001b[1;33m\u001b[0m\u001b[0m\n",
      "\u001b[1;32m~\\anaconda3\\lib\\site-packages\\optuna\\study\\_optimize.py\u001b[0m in \u001b[0;36m_optimize_sequential\u001b[1;34m(study, func, n_trials, timeout, catch, callbacks, gc_after_trial, reseed_sampler_rng, time_start, progress_bar)\u001b[0m\n\u001b[0;32m    161\u001b[0m \u001b[1;33m\u001b[0m\u001b[0m\n\u001b[0;32m    162\u001b[0m         \u001b[1;32mtry\u001b[0m\u001b[1;33m:\u001b[0m\u001b[1;33m\u001b[0m\u001b[1;33m\u001b[0m\u001b[0m\n\u001b[1;32m--> 163\u001b[1;33m             \u001b[0mfrozen_trial\u001b[0m \u001b[1;33m=\u001b[0m \u001b[0m_run_trial\u001b[0m\u001b[1;33m(\u001b[0m\u001b[0mstudy\u001b[0m\u001b[1;33m,\u001b[0m \u001b[0mfunc\u001b[0m\u001b[1;33m,\u001b[0m \u001b[0mcatch\u001b[0m\u001b[1;33m)\u001b[0m\u001b[1;33m\u001b[0m\u001b[1;33m\u001b[0m\u001b[0m\n\u001b[0m\u001b[0;32m    164\u001b[0m         \u001b[1;32mfinally\u001b[0m\u001b[1;33m:\u001b[0m\u001b[1;33m\u001b[0m\u001b[1;33m\u001b[0m\u001b[0m\n\u001b[0;32m    165\u001b[0m             \u001b[1;31m# The following line mitigates memory problems that can be occurred in some\u001b[0m\u001b[1;33m\u001b[0m\u001b[1;33m\u001b[0m\u001b[0m\n",
      "\u001b[1;32m~\\anaconda3\\lib\\site-packages\\optuna\\study\\_optimize.py\u001b[0m in \u001b[0;36m_run_trial\u001b[1;34m(study, func, catch)\u001b[0m\n\u001b[0;32m    249\u001b[0m         \u001b[1;32mand\u001b[0m \u001b[1;32mnot\u001b[0m \u001b[0misinstance\u001b[0m\u001b[1;33m(\u001b[0m\u001b[0mfunc_err\u001b[0m\u001b[1;33m,\u001b[0m \u001b[0mcatch\u001b[0m\u001b[1;33m)\u001b[0m\u001b[1;33m\u001b[0m\u001b[1;33m\u001b[0m\u001b[0m\n\u001b[0;32m    250\u001b[0m     ):\n\u001b[1;32m--> 251\u001b[1;33m         \u001b[1;32mraise\u001b[0m \u001b[0mfunc_err\u001b[0m\u001b[1;33m\u001b[0m\u001b[1;33m\u001b[0m\u001b[0m\n\u001b[0m\u001b[0;32m    252\u001b[0m     \u001b[1;32mreturn\u001b[0m \u001b[0mfrozen_trial\u001b[0m\u001b[1;33m\u001b[0m\u001b[1;33m\u001b[0m\u001b[0m\n\u001b[0;32m    253\u001b[0m \u001b[1;33m\u001b[0m\u001b[0m\n",
      "\u001b[1;32m~\\anaconda3\\lib\\site-packages\\optuna\\study\\_optimize.py\u001b[0m in \u001b[0;36m_run_trial\u001b[1;34m(study, func, catch)\u001b[0m\n\u001b[0;32m    198\u001b[0m     \u001b[1;32mwith\u001b[0m \u001b[0mget_heartbeat_thread\u001b[0m\u001b[1;33m(\u001b[0m\u001b[0mtrial\u001b[0m\u001b[1;33m.\u001b[0m\u001b[0m_trial_id\u001b[0m\u001b[1;33m,\u001b[0m \u001b[0mstudy\u001b[0m\u001b[1;33m.\u001b[0m\u001b[0m_storage\u001b[0m\u001b[1;33m)\u001b[0m\u001b[1;33m:\u001b[0m\u001b[1;33m\u001b[0m\u001b[1;33m\u001b[0m\u001b[0m\n\u001b[0;32m    199\u001b[0m         \u001b[1;32mtry\u001b[0m\u001b[1;33m:\u001b[0m\u001b[1;33m\u001b[0m\u001b[1;33m\u001b[0m\u001b[0m\n\u001b[1;32m--> 200\u001b[1;33m             \u001b[0mvalue_or_values\u001b[0m \u001b[1;33m=\u001b[0m \u001b[0mfunc\u001b[0m\u001b[1;33m(\u001b[0m\u001b[0mtrial\u001b[0m\u001b[1;33m)\u001b[0m\u001b[1;33m\u001b[0m\u001b[1;33m\u001b[0m\u001b[0m\n\u001b[0m\u001b[0;32m    201\u001b[0m         \u001b[1;32mexcept\u001b[0m \u001b[0mexceptions\u001b[0m\u001b[1;33m.\u001b[0m\u001b[0mTrialPruned\u001b[0m \u001b[1;32mas\u001b[0m \u001b[0me\u001b[0m\u001b[1;33m:\u001b[0m\u001b[1;33m\u001b[0m\u001b[1;33m\u001b[0m\u001b[0m\n\u001b[0;32m    202\u001b[0m             \u001b[1;31m# TODO(mamu): Handle multi-objective cases.\u001b[0m\u001b[1;33m\u001b[0m\u001b[1;33m\u001b[0m\u001b[0m\n",
      "\u001b[1;32m~\\AppData\\Local\\Temp/ipykernel_40416/849649137.py\u001b[0m in \u001b[0;36mobjective\u001b[1;34m(trail, data, target)\u001b[0m\n\u001b[0;32m      4\u001b[0m     param={\n\u001b[0;32m      5\u001b[0m         \u001b[1;34m'tree_method'\u001b[0m\u001b[1;33m:\u001b[0m\u001b[1;34m'gpu_hist'\u001b[0m\u001b[1;33m,\u001b[0m\u001b[1;33m\u001b[0m\u001b[1;33m\u001b[0m\u001b[0m\n\u001b[1;32m----> 6\u001b[1;33m         \u001b[1;34m'lambda'\u001b[0m\u001b[1;33m:\u001b[0m\u001b[0mtrail\u001b[0m\u001b[1;33m.\u001b[0m\u001b[0msuggest_loguniform\u001b[0m\u001b[1;33m(\u001b[0m\u001b[1;34m'lamba'\u001b[0m\u001b[1;33m,\u001b[0m\u001b[0mle\u001b[0m\u001b[1;33m-\u001b[0m\u001b[1;36m4\u001b[0m\u001b[1;33m,\u001b[0m\u001b[1;36m10.0\u001b[0m\u001b[1;33m)\u001b[0m\u001b[1;33m,\u001b[0m\u001b[1;33m\u001b[0m\u001b[1;33m\u001b[0m\u001b[0m\n\u001b[0m\u001b[0;32m      7\u001b[0m         \u001b[1;34m'alpha'\u001b[0m\u001b[1;33m:\u001b[0m\u001b[0mtrail\u001b[0m\u001b[1;33m.\u001b[0m\u001b[0msuggest_loguniform\u001b[0m\u001b[1;33m(\u001b[0m\u001b[1;34m'alpha'\u001b[0m\u001b[1;33m,\u001b[0m\u001b[0mle\u001b[0m\u001b[1;33m-\u001b[0m\u001b[1;36m4\u001b[0m\u001b[1;33m,\u001b[0m\u001b[1;36m10.0\u001b[0m\u001b[1;33m)\u001b[0m\u001b[1;33m,\u001b[0m\u001b[1;33m\u001b[0m\u001b[1;33m\u001b[0m\u001b[0m\n\u001b[0;32m      8\u001b[0m         \u001b[1;34m'colsample_bytree'\u001b[0m\u001b[1;33m:\u001b[0m\u001b[0mtrial\u001b[0m\u001b[1;33m.\u001b[0m\u001b[0msuggest_categorical\u001b[0m\u001b[1;33m(\u001b[0m\u001b[1;34m'colsample_bytree'\u001b[0m\u001b[1;33m,\u001b[0m\u001b[1;33m[\u001b[0m\u001b[1;36m.3\u001b[0m\u001b[1;33m,\u001b[0m\u001b[1;36m.4\u001b[0m\u001b[1;33m,\u001b[0m\u001b[1;36m.5\u001b[0m\u001b[1;33m,\u001b[0m\u001b[1;36m.6\u001b[0m\u001b[1;33m,\u001b[0m\u001b[1;36m.7\u001b[0m\u001b[1;33m,\u001b[0m\u001b[1;36m.8\u001b[0m\u001b[1;33m,\u001b[0m\u001b[1;36m.9\u001b[0m\u001b[1;33m,\u001b[0m\u001b[1;36m1\u001b[0m\u001b[1;33m]\u001b[0m\u001b[1;33m)\u001b[0m\u001b[1;33m,\u001b[0m\u001b[1;33m\u001b[0m\u001b[1;33m\u001b[0m\u001b[0m\n",
      "\u001b[1;31mNameError\u001b[0m: name 'le' is not defined"
     ]
    }
   ],
   "source": [
    "find_params=optuna.create_study(direction='minimize')\n",
    "find_params.optimize(objective,n_trials=10)\n",
    "find_params.best_trial.params"
   ]
  },
  {
   "cell_type": "code",
   "execution_count": 77,
   "id": "752dcbec",
   "metadata": {},
   "outputs": [],
   "source": [
    "from sklearn.metrics import mean_squared_error\n",
    "def objective(trail , data = x , target = y ):\n",
    "    train_x , test_x ,train_y , test_y = train_test_split(data , target , test_size = .10,random_state = 30  )\n",
    "    param = {\n",
    "        'tree_method':'gpu_hist',\n",
    "        'lambda':trail.suggest_loguniform('lambda' , 1e-4,10.0),\n",
    "        'alpha' :trail.suggest_loguniform('alpha' , 1e-4 , 10.0),\n",
    "        'colsample_bytree' :trail.suggest_categorical('colsample_bytree' , [.1,.2,.3,.4,.5,.6,.7,.8,.9,1]),\n",
    "        'subsample' :trail.suggest_categorical('subsample' , [.1,.2,.3,.4,.5,.6,.7,.8,.9,1]),\n",
    "        'learning_rate' : trail.suggest_categorical('learning_rate' , [.00001,.0003,.008,.02,.01,1,8]),\n",
    "        'n_estimator' :30000,\n",
    "        'max_depth' :trail.suggest_categorical('max_depth', [3,4,5,6,7,8,9,10,11,12]),\n",
    "        'random_state' :trail.suggest_categorical('random_state' , [10,20,30 ,2000 , 3454,243123]),\n",
    "        'min_child_weight' :trail.suggest_int('min_child_weight' ,1,200)\n",
    "    }\n",
    "    xgb_reg_model = xgb.XGBRegressor(**param)\n",
    "    xgb_reg_model.fit(train_x,train_y,eval_set = [(test_x,test_y)] , verbose = True )\n",
    "    pred_xgb = xgb_reg_model.predict(test_x)\n",
    "    rmse = mean_squared_error(test_y,pred_xgb)\n",
    "    return rmse"
   ]
  },
  {
   "cell_type": "code",
   "execution_count": 78,
   "id": "c5b285c6",
   "metadata": {},
   "outputs": [
    {
     "name": "stderr",
     "output_type": "stream",
     "text": [
      "\u001b[32m[I 2023-02-10 18:11:35,393]\u001b[0m A new study created in memory with name: no-name-c3f426f3-0776-441e-ba73-5930af718103\u001b[0m\n",
      "C:\\Users\\akshay\\AppData\\Local\\Temp/ipykernel_40416/504234329.py:6: FutureWarning:\n",
      "\n",
      "suggest_loguniform has been deprecated in v3.0.0. This feature will be removed in v6.0.0. See https://github.com/optuna/optuna/releases/tag/v3.0.0. Use :func:`~optuna.trial.Trial.suggest_float` instead.\n",
      "\n",
      "C:\\Users\\akshay\\AppData\\Local\\Temp/ipykernel_40416/504234329.py:7: FutureWarning:\n",
      "\n",
      "suggest_loguniform has been deprecated in v3.0.0. This feature will be removed in v6.0.0. See https://github.com/optuna/optuna/releases/tag/v3.0.0. Use :func:`~optuna.trial.Trial.suggest_float` instead.\n",
      "\n"
     ]
    },
    {
     "name": "stdout",
     "output_type": "stream",
     "text": [
      "[18:11:35] WARNING: C:/buildkite-agent/builds/buildkite-windows-cpu-autoscaling-group-i-08de971ced8a8cdc6-1/xgboost/xgboost-ci-windows/src/learner.cc:767: \n",
      "Parameters: { \"n_estimator\" } are not used.\n",
      "\n",
      "[0]\tvalidation_0-rmse:1.39175\n",
      "[1]\tvalidation_0-rmse:9.26605\n",
      "[2]\tvalidation_0-rmse:64.90962\n",
      "[3]\tvalidation_0-rmse:453.90565\n",
      "[4]\tvalidation_0-rmse:3177.28459\n",
      "[5]\tvalidation_0-rmse:22238.94914\n",
      "[6]\tvalidation_0-rmse:155661.07340\n",
      "[7]\tvalidation_0-rmse:1089551.71116\n",
      "[8]\tvalidation_0-rmse:7626261.24513\n",
      "[9]\tvalidation_0-rmse:53380014.90143\n",
      "[10]\tvalidation_0-rmse:373634110.80639\n",
      "[11]\tvalidation_0-rmse:2615255018.12439\n",
      "[12]\tvalidation_0-rmse:18305482296.79357\n",
      "[13]\tvalidation_0-rmse:128128845288.83902\n",
      "[14]\tvalidation_0-rmse:896831971568.41589\n",
      "[15]\tvalidation_0-rmse:6277309594727.43164\n",
      "[16]\tvalidation_0-rmse:43938135957810.04688\n",
      "[17]\tvalidation_0-rmse:307544695833982.93750\n",
      "[18]\tvalidation_0-rmse:2152667433788680.00000\n",
      "[19]\tvalidation_0-rmse:15067534684857540.00000\n",
      "[20]\tvalidation_0-rmse:105465729024850656.00000\n",
      "[21]\tvalidation_0-rmse:738205168030571392.00000\n",
      "[22]\tvalidation_0-rmse:5167051657174719488.00000\n",
      "[23]\tvalidation_0-rmse:inf\n",
      "[24]\tvalidation_0-rmse:inf\n",
      "[25]\tvalidation_0-rmse:inf\n",
      "[26]\tvalidation_0-rmse:inf\n",
      "[27]\tvalidation_0-rmse:inf\n",
      "[28]\tvalidation_0-rmse:inf\n",
      "[29]\tvalidation_0-rmse:inf\n",
      "[30]\tvalidation_0-rmse:inf\n",
      "[31]\tvalidation_0-rmse:inf\n",
      "[32]\tvalidation_0-rmse:inf\n",
      "[33]\tvalidation_0-rmse:inf\n",
      "[34]\tvalidation_0-rmse:inf\n",
      "[35]\tvalidation_0-rmse:inf\n",
      "[36]\tvalidation_0-rmse:inf\n",
      "[37]\tvalidation_0-rmse:inf\n",
      "[38]\tvalidation_0-rmse:inf\n",
      "[39]\tvalidation_0-rmse:inf\n",
      "[40]\tvalidation_0-rmse:inf\n",
      "[41]\tvalidation_0-rmse:inf\n",
      "[42]\tvalidation_0-rmse:inf\n",
      "[43]\tvalidation_0-rmse:inf\n",
      "[44]\tvalidation_0-rmse:inf\n",
      "[45]\tvalidation_0-rmse:inf\n",
      "[46]\tvalidation_0-rmse:inf\n",
      "[47]\tvalidation_0-rmse:inf\n",
      "[48]\tvalidation_0-rmse:inf\n",
      "[49]\tvalidation_0-rmse:inf\n",
      "[50]\tvalidation_0-rmse:inf\n",
      "[51]\tvalidation_0-rmse:inf\n",
      "[52]\tvalidation_0-rmse:inf\n",
      "[53]\tvalidation_0-rmse:inf\n",
      "[54]\tvalidation_0-rmse:inf\n",
      "[55]\tvalidation_0-rmse:inf\n",
      "[56]\tvalidation_0-rmse:inf\n",
      "[57]\tvalidation_0-rmse:inf\n",
      "[58]\tvalidation_0-rmse:inf\n",
      "[59]\tvalidation_0-rmse:inf\n",
      "[60]\tvalidation_0-rmse:inf\n",
      "[61]\tvalidation_0-rmse:inf\n",
      "[62]\tvalidation_0-rmse:inf\n",
      "[63]\tvalidation_0-rmse:inf\n",
      "[64]\tvalidation_0-rmse:inf\n",
      "[65]\tvalidation_0-rmse:inf\n",
      "[66]\tvalidation_0-rmse:inf\n",
      "[67]\tvalidation_0-rmse:inf\n",
      "[68]\tvalidation_0-rmse:inf\n",
      "[69]\tvalidation_0-rmse:inf\n",
      "[70]\tvalidation_0-rmse:inf\n",
      "[71]\tvalidation_0-rmse:inf\n",
      "[72]\tvalidation_0-rmse:inf\n",
      "[73]\tvalidation_0-rmse:inf\n",
      "[74]\tvalidation_0-rmse:inf\n",
      "[75]\tvalidation_0-rmse:inf\n",
      "[76]\tvalidation_0-rmse:inf\n",
      "[77]\tvalidation_0-rmse:inf\n",
      "[78]\tvalidation_0-rmse:inf\n",
      "[79]\tvalidation_0-rmse:inf\n",
      "[80]\tvalidation_0-rmse:inf\n",
      "[81]\tvalidation_0-rmse:inf\n",
      "[82]\tvalidation_0-rmse:inf\n",
      "[83]\tvalidation_0-rmse:inf\n",
      "[84]\tvalidation_0-rmse:inf\n",
      "[85]\tvalidation_0-rmse:inf\n",
      "[86]\tvalidation_0-rmse:inf\n",
      "[87]\tvalidation_0-rmse:inf\n",
      "[88]\tvalidation_0-rmse:inf\n",
      "[89]\tvalidation_0-rmse:inf\n",
      "[90]\tvalidation_0-rmse:inf\n",
      "[91]\tvalidation_0-rmse:inf\n",
      "[92]\tvalidation_0-rmse:inf\n",
      "[93]\tvalidation_0-rmse:inf\n",
      "[94]\tvalidation_0-rmse:inf\n",
      "[95]\tvalidation_0-rmse:inf\n",
      "[96]\tvalidation_0-rmse:inf\n",
      "[97]\tvalidation_0-rmse:inf\n",
      "[98]\tvalidation_0-rmse:inf\n",
      "[99]\tvalidation_0-rmse:inf\n"
     ]
    },
    {
     "name": "stderr",
     "output_type": "stream",
     "text": [
      "\u001b[32m[I 2023-02-10 18:11:36,911]\u001b[0m Trial 0 finished with value: 8.303862686323146e+72 and parameters: {'lambda': 0.014196913209920862, 'alpha': 5.243727508262309, 'colsample_bytree': 0.3, 'subsample': 0.5, 'learning_rate': 8, 'max_depth': 7, 'random_state': 20, 'min_child_weight': 142}. Best is trial 0 with value: 8.303862686323146e+72.\u001b[0m\n"
     ]
    },
    {
     "name": "stdout",
     "output_type": "stream",
     "text": [
      "[18:11:36] WARNING: C:/buildkite-agent/builds/buildkite-windows-cpu-autoscaling-group-i-08de971ced8a8cdc6-1/xgboost/xgboost-ci-windows/src/learner.cc:767: \n",
      "Parameters: { \"n_estimator\" } are not used.\n",
      "\n",
      "[0]\tvalidation_0-rmse:0.23075\n",
      "[1]\tvalidation_0-rmse:0.22663\n",
      "[2]\tvalidation_0-rmse:0.22255\n",
      "[3]\tvalidation_0-rmse:0.21859\n",
      "[4]\tvalidation_0-rmse:0.21473\n"
     ]
    },
    {
     "name": "stderr",
     "output_type": "stream",
     "text": [
      "C:\\Users\\akshay\\AppData\\Local\\Temp/ipykernel_40416/504234329.py:6: FutureWarning:\n",
      "\n",
      "suggest_loguniform has been deprecated in v3.0.0. This feature will be removed in v6.0.0. See https://github.com/optuna/optuna/releases/tag/v3.0.0. Use :func:`~optuna.trial.Trial.suggest_float` instead.\n",
      "\n",
      "C:\\Users\\akshay\\AppData\\Local\\Temp/ipykernel_40416/504234329.py:7: FutureWarning:\n",
      "\n",
      "suggest_loguniform has been deprecated in v3.0.0. This feature will be removed in v6.0.0. See https://github.com/optuna/optuna/releases/tag/v3.0.0. Use :func:`~optuna.trial.Trial.suggest_float` instead.\n",
      "\n"
     ]
    },
    {
     "name": "stdout",
     "output_type": "stream",
     "text": [
      "[5]\tvalidation_0-rmse:0.21105\n",
      "[6]\tvalidation_0-rmse:0.20730\n",
      "[7]\tvalidation_0-rmse:0.20378\n",
      "[8]\tvalidation_0-rmse:0.20038\n",
      "[9]\tvalidation_0-rmse:0.19701\n",
      "[10]\tvalidation_0-rmse:0.19362\n",
      "[11]\tvalidation_0-rmse:0.19036\n",
      "[12]\tvalidation_0-rmse:0.18726\n",
      "[13]\tvalidation_0-rmse:0.18410\n",
      "[14]\tvalidation_0-rmse:0.18106\n",
      "[15]\tvalidation_0-rmse:0.17818\n",
      "[16]\tvalidation_0-rmse:0.17531\n",
      "[17]\tvalidation_0-rmse:0.17247\n",
      "[18]\tvalidation_0-rmse:0.16978\n",
      "[19]\tvalidation_0-rmse:0.16713\n",
      "[20]\tvalidation_0-rmse:0.16449\n",
      "[21]\tvalidation_0-rmse:0.16183\n",
      "[22]\tvalidation_0-rmse:0.15922\n",
      "[23]\tvalidation_0-rmse:0.15679\n",
      "[24]\tvalidation_0-rmse:0.15451\n",
      "[25]\tvalidation_0-rmse:0.15214\n",
      "[26]\tvalidation_0-rmse:0.14978\n",
      "[27]\tvalidation_0-rmse:0.14767\n",
      "[28]\tvalidation_0-rmse:0.14548\n",
      "[29]\tvalidation_0-rmse:0.14348\n",
      "[30]\tvalidation_0-rmse:0.14156\n",
      "[31]\tvalidation_0-rmse:0.13942\n",
      "[32]\tvalidation_0-rmse:0.13735\n",
      "[33]\tvalidation_0-rmse:0.13553\n",
      "[34]\tvalidation_0-rmse:0.13370\n",
      "[35]\tvalidation_0-rmse:0.13194\n",
      "[36]\tvalidation_0-rmse:0.13017\n",
      "[37]\tvalidation_0-rmse:0.12834\n",
      "[38]\tvalidation_0-rmse:0.12663\n",
      "[39]\tvalidation_0-rmse:0.12488\n",
      "[40]\tvalidation_0-rmse:0.12339\n",
      "[41]\tvalidation_0-rmse:0.12180\n",
      "[42]\tvalidation_0-rmse:0.12028\n",
      "[43]\tvalidation_0-rmse:0.11863\n",
      "[44]\tvalidation_0-rmse:0.11701\n",
      "[45]\tvalidation_0-rmse:0.11549\n",
      "[46]\tvalidation_0-rmse:0.11423\n",
      "[47]\tvalidation_0-rmse:0.11270\n",
      "[48]\tvalidation_0-rmse:0.11115\n",
      "[49]\tvalidation_0-rmse:0.11001\n",
      "[50]\tvalidation_0-rmse:0.10891\n",
      "[51]\tvalidation_0-rmse:0.10743\n",
      "[52]\tvalidation_0-rmse:0.10620\n",
      "[53]\tvalidation_0-rmse:0.10489\n",
      "[54]\tvalidation_0-rmse:0.10375\n",
      "[55]\tvalidation_0-rmse:0.10244\n",
      "[56]\tvalidation_0-rmse:0.10126\n",
      "[57]\tvalidation_0-rmse:0.10002\n",
      "[58]\tvalidation_0-rmse:0.09903\n",
      "[59]\tvalidation_0-rmse:0.09808\n",
      "[60]\tvalidation_0-rmse:0.09723\n",
      "[61]\tvalidation_0-rmse:0.09640\n",
      "[62]\tvalidation_0-rmse:0.09564\n",
      "[63]\tvalidation_0-rmse:0.09481\n",
      "[64]\tvalidation_0-rmse:0.09426\n",
      "[65]\tvalidation_0-rmse:0.09346\n",
      "[66]\tvalidation_0-rmse:0.09294\n",
      "[67]\tvalidation_0-rmse:0.09227\n",
      "[68]\tvalidation_0-rmse:0.09128\n",
      "[69]\tvalidation_0-rmse:0.09062\n",
      "[70]\tvalidation_0-rmse:0.09018\n",
      "[71]\tvalidation_0-rmse:0.08975\n",
      "[72]\tvalidation_0-rmse:0.08917\n",
      "[73]\tvalidation_0-rmse:0.08863\n",
      "[74]\tvalidation_0-rmse:0.08825\n",
      "[75]\tvalidation_0-rmse:0.08790\n",
      "[76]\tvalidation_0-rmse:0.08714\n",
      "[77]\tvalidation_0-rmse:0.08656\n",
      "[78]\tvalidation_0-rmse:0.08608\n",
      "[79]\tvalidation_0-rmse:0.08537\n",
      "[80]\tvalidation_0-rmse:0.08508\n",
      "[81]\tvalidation_0-rmse:0.08469\n",
      "[82]\tvalidation_0-rmse:0.08430\n",
      "[83]\tvalidation_0-rmse:0.08390\n",
      "[84]\tvalidation_0-rmse:0.08351\n",
      "[85]\tvalidation_0-rmse:0.08282\n",
      "[86]\tvalidation_0-rmse:0.08222\n",
      "[87]\tvalidation_0-rmse:0.08164\n",
      "[88]\tvalidation_0-rmse:0.08132\n",
      "[89]\tvalidation_0-rmse:0.08101\n",
      "[90]\tvalidation_0-rmse:0.08044\n",
      "[91]\tvalidation_0-rmse:0.07988\n",
      "[92]\tvalidation_0-rmse:0.07955\n",
      "[93]\tvalidation_0-rmse:0.07907\n",
      "[94]\tvalidation_0-rmse:0.07853\n",
      "[95]\tvalidation_0-rmse:0.07802\n",
      "[96]\tvalidation_0-rmse:0.07788\n",
      "[97]\tvalidation_0-rmse:0.07737\n",
      "[98]\tvalidation_0-rmse:0.07712\n",
      "[99]\tvalidation_0-rmse:0.07701\n"
     ]
    },
    {
     "name": "stderr",
     "output_type": "stream",
     "text": [
      "\u001b[32m[I 2023-02-10 18:11:38,551]\u001b[0m Trial 1 finished with value: 0.005930147395731221 and parameters: {'lambda': 0.0025704462445794328, 'alpha': 0.9995506024274605, 'colsample_bytree': 0.3, 'subsample': 0.9, 'learning_rate': 0.02, 'max_depth': 8, 'random_state': 243123, 'min_child_weight': 81}. Best is trial 1 with value: 0.005930147395731221.\u001b[0m\n"
     ]
    },
    {
     "name": "stdout",
     "output_type": "stream",
     "text": [
      "[18:11:38] WARNING: C:/buildkite-agent/builds/buildkite-windows-cpu-autoscaling-group-i-08de971ced8a8cdc6-1/xgboost/xgboost-ci-windows/src/learner.cc:767: \n",
      "Parameters: { \"n_estimator\" } are not used.\n",
      "\n",
      "[0]\tvalidation_0-rmse:1.60156\n",
      "[1]\tvalidation_0-rmse:11.09425\n",
      "[2]\tvalidation_0-rmse:78.39834\n",
      "[3]\tvalidation_0-rmse:545.31243\n"
     ]
    },
    {
     "name": "stderr",
     "output_type": "stream",
     "text": [
      "C:\\Users\\akshay\\AppData\\Local\\Temp/ipykernel_40416/504234329.py:6: FutureWarning:\n",
      "\n",
      "suggest_loguniform has been deprecated in v3.0.0. This feature will be removed in v6.0.0. See https://github.com/optuna/optuna/releases/tag/v3.0.0. Use :func:`~optuna.trial.Trial.suggest_float` instead.\n",
      "\n",
      "C:\\Users\\akshay\\AppData\\Local\\Temp/ipykernel_40416/504234329.py:7: FutureWarning:\n",
      "\n",
      "suggest_loguniform has been deprecated in v3.0.0. This feature will be removed in v6.0.0. See https://github.com/optuna/optuna/releases/tag/v3.0.0. Use :func:`~optuna.trial.Trial.suggest_float` instead.\n",
      "\n"
     ]
    },
    {
     "name": "stdout",
     "output_type": "stream",
     "text": [
      "[4]\tvalidation_0-rmse:3809.97393\n",
      "[5]\tvalidation_0-rmse:26597.25701\n",
      "[6]\tvalidation_0-rmse:185718.95526\n",
      "[7]\tvalidation_0-rmse:1296606.49415\n",
      "[8]\tvalidation_0-rmse:9054460.72829\n",
      "[9]\tvalidation_0-rmse:63221903.23113\n",
      "[10]\tvalidation_0-rmse:441490527.18525\n",
      "[11]\tvalidation_0-rmse:3082383665.07863\n",
      "[12]\tvalidation_0-rmse:21518414533.30077\n",
      "[13]\tvalidation_0-rmse:150215598542.34244\n",
      "[14]\tvalidation_0-rmse:1048792344304.28235\n",
      "[15]\tvalidation_0-rmse:7322375181881.92188\n",
      "[16]\tvalidation_0-rmse:51131901338903.69531\n",
      "[17]\tvalidation_0-rmse:357057126251020.68750\n",
      "[18]\tvalidation_0-rmse:2493266793454226.00000\n",
      "[19]\tvalidation_0-rmse:17406259130655242.00000\n",
      "[20]\tvalidation_0-rmse:121535597209046688.00000\n",
      "[21]\tvalidation_0-rmse:849516938453789056.00000\n",
      "[22]\tvalidation_0-rmse:5927716884522091520.00000\n",
      "[23]\tvalidation_0-rmse:inf\n",
      "[24]\tvalidation_0-rmse:inf\n",
      "[25]\tvalidation_0-rmse:inf\n",
      "[26]\tvalidation_0-rmse:inf\n",
      "[27]\tvalidation_0-rmse:inf\n",
      "[28]\tvalidation_0-rmse:inf\n",
      "[29]\tvalidation_0-rmse:inf\n",
      "[30]\tvalidation_0-rmse:inf\n",
      "[31]\tvalidation_0-rmse:inf\n",
      "[32]\tvalidation_0-rmse:inf\n",
      "[33]\tvalidation_0-rmse:inf\n",
      "[34]\tvalidation_0-rmse:inf\n",
      "[35]\tvalidation_0-rmse:inf\n",
      "[36]\tvalidation_0-rmse:inf\n",
      "[37]\tvalidation_0-rmse:inf\n",
      "[38]\tvalidation_0-rmse:inf\n",
      "[39]\tvalidation_0-rmse:inf\n",
      "[40]\tvalidation_0-rmse:inf\n",
      "[41]\tvalidation_0-rmse:inf\n",
      "[42]\tvalidation_0-rmse:inf\n",
      "[43]\tvalidation_0-rmse:inf\n",
      "[44]\tvalidation_0-rmse:inf\n",
      "[45]\tvalidation_0-rmse:inf\n",
      "[46]\tvalidation_0-rmse:inf\n",
      "[47]\tvalidation_0-rmse:inf\n",
      "[48]\tvalidation_0-rmse:inf\n",
      "[49]\tvalidation_0-rmse:inf\n",
      "[50]\tvalidation_0-rmse:inf\n",
      "[51]\tvalidation_0-rmse:inf\n",
      "[52]\tvalidation_0-rmse:inf\n",
      "[53]\tvalidation_0-rmse:inf\n",
      "[54]\tvalidation_0-rmse:inf\n",
      "[55]\tvalidation_0-rmse:inf\n",
      "[56]\tvalidation_0-rmse:inf\n",
      "[57]\tvalidation_0-rmse:inf\n",
      "[58]\tvalidation_0-rmse:inf\n",
      "[59]\tvalidation_0-rmse:inf\n",
      "[60]\tvalidation_0-rmse:inf\n",
      "[61]\tvalidation_0-rmse:inf\n",
      "[62]\tvalidation_0-rmse:inf\n",
      "[63]\tvalidation_0-rmse:inf\n",
      "[64]\tvalidation_0-rmse:inf\n",
      "[65]\tvalidation_0-rmse:inf\n",
      "[66]\tvalidation_0-rmse:inf\n",
      "[67]\tvalidation_0-rmse:inf\n",
      "[68]\tvalidation_0-rmse:inf\n",
      "[69]\tvalidation_0-rmse:inf\n",
      "[70]\tvalidation_0-rmse:inf\n",
      "[71]\tvalidation_0-rmse:inf\n",
      "[72]\tvalidation_0-rmse:inf\n",
      "[73]\tvalidation_0-rmse:inf\n",
      "[74]\tvalidation_0-rmse:inf\n",
      "[75]\tvalidation_0-rmse:inf\n",
      "[76]\tvalidation_0-rmse:inf\n",
      "[77]\tvalidation_0-rmse:inf\n",
      "[78]\tvalidation_0-rmse:inf\n",
      "[79]\tvalidation_0-rmse:inf\n",
      "[80]\tvalidation_0-rmse:inf\n",
      "[81]\tvalidation_0-rmse:inf\n",
      "[82]\tvalidation_0-rmse:inf\n",
      "[83]\tvalidation_0-rmse:inf\n",
      "[84]\tvalidation_0-rmse:inf\n",
      "[85]\tvalidation_0-rmse:inf\n",
      "[86]\tvalidation_0-rmse:inf\n",
      "[87]\tvalidation_0-rmse:inf\n",
      "[88]\tvalidation_0-rmse:inf\n",
      "[89]\tvalidation_0-rmse:inf\n",
      "[90]\tvalidation_0-rmse:inf\n",
      "[91]\tvalidation_0-rmse:inf\n",
      "[92]\tvalidation_0-rmse:inf\n",
      "[93]\tvalidation_0-rmse:inf\n",
      "[94]\tvalidation_0-rmse:inf\n",
      "[95]\tvalidation_0-rmse:inf\n",
      "[96]\tvalidation_0-rmse:inf\n",
      "[97]\tvalidation_0-rmse:inf\n",
      "[98]\tvalidation_0-rmse:inf\n",
      "[99]\tvalidation_0-rmse:inf\n"
     ]
    },
    {
     "name": "stderr",
     "output_type": "stream",
     "text": [
      "\u001b[32m[I 2023-02-10 18:11:40,233]\u001b[0m Trial 2 finished with value: 9.028579821821336e+72 and parameters: {'lambda': 0.350606819393763, 'alpha': 0.001159057281885609, 'colsample_bytree': 0.6, 'subsample': 0.8, 'learning_rate': 8, 'max_depth': 10, 'random_state': 10, 'min_child_weight': 66}. Best is trial 1 with value: 0.005930147395731221.\u001b[0m\n"
     ]
    },
    {
     "name": "stdout",
     "output_type": "stream",
     "text": [
      "[18:11:40] WARNING: C:/buildkite-agent/builds/buildkite-windows-cpu-autoscaling-group-i-08de971ced8a8cdc6-1/xgboost/xgboost-ci-windows/src/learner.cc:767: \n",
      "Parameters: { \"n_estimator\" } are not used.\n",
      "\n",
      "[0]\tvalidation_0-rmse:0.09538\n",
      "[1]\tvalidation_0-rmse:0.09573\n",
      "[2]\tvalidation_0-rmse:0.09315\n",
      "[3]\tvalidation_0-rmse:0.09269\n",
      "[4]\tvalidation_0-rmse:0.08579\n",
      "[5]\tvalidation_0-rmse:0.08467\n"
     ]
    },
    {
     "name": "stderr",
     "output_type": "stream",
     "text": [
      "C:\\Users\\akshay\\AppData\\Local\\Temp/ipykernel_40416/504234329.py:6: FutureWarning:\n",
      "\n",
      "suggest_loguniform has been deprecated in v3.0.0. This feature will be removed in v6.0.0. See https://github.com/optuna/optuna/releases/tag/v3.0.0. Use :func:`~optuna.trial.Trial.suggest_float` instead.\n",
      "\n",
      "C:\\Users\\akshay\\AppData\\Local\\Temp/ipykernel_40416/504234329.py:7: FutureWarning:\n",
      "\n",
      "suggest_loguniform has been deprecated in v3.0.0. This feature will be removed in v6.0.0. See https://github.com/optuna/optuna/releases/tag/v3.0.0. Use :func:`~optuna.trial.Trial.suggest_float` instead.\n",
      "\n"
     ]
    },
    {
     "name": "stdout",
     "output_type": "stream",
     "text": [
      "[6]\tvalidation_0-rmse:0.08467\n",
      "[7]\tvalidation_0-rmse:0.08464\n",
      "[8]\tvalidation_0-rmse:0.08494\n",
      "[9]\tvalidation_0-rmse:0.08471\n",
      "[10]\tvalidation_0-rmse:0.08462\n",
      "[11]\tvalidation_0-rmse:0.08485\n",
      "[12]\tvalidation_0-rmse:0.08497\n",
      "[13]\tvalidation_0-rmse:0.08463\n",
      "[14]\tvalidation_0-rmse:0.08484\n",
      "[15]\tvalidation_0-rmse:0.08125\n",
      "[16]\tvalidation_0-rmse:0.08106\n",
      "[17]\tvalidation_0-rmse:0.08106\n",
      "[18]\tvalidation_0-rmse:0.08084\n",
      "[19]\tvalidation_0-rmse:0.08055\n",
      "[20]\tvalidation_0-rmse:0.08085\n",
      "[21]\tvalidation_0-rmse:0.08060\n",
      "[22]\tvalidation_0-rmse:0.08063\n",
      "[23]\tvalidation_0-rmse:0.08079\n",
      "[24]\tvalidation_0-rmse:0.08071\n",
      "[25]\tvalidation_0-rmse:0.08072\n",
      "[26]\tvalidation_0-rmse:0.08016\n",
      "[27]\tvalidation_0-rmse:0.08005\n",
      "[28]\tvalidation_0-rmse:0.07971\n",
      "[29]\tvalidation_0-rmse:0.08015\n",
      "[30]\tvalidation_0-rmse:0.07990\n",
      "[31]\tvalidation_0-rmse:0.08009\n",
      "[32]\tvalidation_0-rmse:0.07956\n",
      "[33]\tvalidation_0-rmse:0.07964\n",
      "[34]\tvalidation_0-rmse:0.07939\n",
      "[35]\tvalidation_0-rmse:0.07943\n",
      "[36]\tvalidation_0-rmse:0.08020\n",
      "[37]\tvalidation_0-rmse:0.08000\n",
      "[38]\tvalidation_0-rmse:0.08019\n",
      "[39]\tvalidation_0-rmse:0.07999\n",
      "[40]\tvalidation_0-rmse:0.08018\n",
      "[41]\tvalidation_0-rmse:0.08031\n",
      "[42]\tvalidation_0-rmse:0.08013\n",
      "[43]\tvalidation_0-rmse:0.07989\n",
      "[44]\tvalidation_0-rmse:0.08003\n",
      "[45]\tvalidation_0-rmse:0.07991\n",
      "[46]\tvalidation_0-rmse:0.08029\n",
      "[47]\tvalidation_0-rmse:0.08005\n",
      "[48]\tvalidation_0-rmse:0.07925\n",
      "[49]\tvalidation_0-rmse:0.07936\n",
      "[50]\tvalidation_0-rmse:0.07992\n",
      "[51]\tvalidation_0-rmse:0.07972\n",
      "[52]\tvalidation_0-rmse:0.07981\n",
      "[53]\tvalidation_0-rmse:0.07974\n",
      "[54]\tvalidation_0-rmse:0.07953\n",
      "[55]\tvalidation_0-rmse:0.07948\n",
      "[56]\tvalidation_0-rmse:0.07977\n",
      "[57]\tvalidation_0-rmse:0.07959\n",
      "[58]\tvalidation_0-rmse:0.08008\n",
      "[59]\tvalidation_0-rmse:0.07970\n",
      "[60]\tvalidation_0-rmse:0.07964\n",
      "[61]\tvalidation_0-rmse:0.07897\n",
      "[62]\tvalidation_0-rmse:0.07903\n",
      "[63]\tvalidation_0-rmse:0.07955\n",
      "[64]\tvalidation_0-rmse:0.07948\n",
      "[65]\tvalidation_0-rmse:0.07894\n",
      "[66]\tvalidation_0-rmse:0.07960\n",
      "[67]\tvalidation_0-rmse:0.07926\n",
      "[68]\tvalidation_0-rmse:0.07902\n",
      "[69]\tvalidation_0-rmse:0.07879\n",
      "[70]\tvalidation_0-rmse:0.07899\n",
      "[71]\tvalidation_0-rmse:0.07920\n",
      "[72]\tvalidation_0-rmse:0.07890\n",
      "[73]\tvalidation_0-rmse:0.07879\n",
      "[74]\tvalidation_0-rmse:0.07898\n",
      "[75]\tvalidation_0-rmse:0.07858\n",
      "[76]\tvalidation_0-rmse:0.07866\n",
      "[77]\tvalidation_0-rmse:0.07906\n",
      "[78]\tvalidation_0-rmse:0.07852\n",
      "[79]\tvalidation_0-rmse:0.07862\n",
      "[80]\tvalidation_0-rmse:0.07836\n",
      "[81]\tvalidation_0-rmse:0.07836\n",
      "[82]\tvalidation_0-rmse:0.07841\n",
      "[83]\tvalidation_0-rmse:0.07842\n",
      "[84]\tvalidation_0-rmse:0.07871\n",
      "[85]\tvalidation_0-rmse:0.07829\n",
      "[86]\tvalidation_0-rmse:0.07805\n",
      "[87]\tvalidation_0-rmse:0.07832\n",
      "[88]\tvalidation_0-rmse:0.07871\n",
      "[89]\tvalidation_0-rmse:0.07806\n",
      "[90]\tvalidation_0-rmse:0.07851\n",
      "[91]\tvalidation_0-rmse:0.07809\n",
      "[92]\tvalidation_0-rmse:0.07837\n",
      "[93]\tvalidation_0-rmse:0.07826\n",
      "[94]\tvalidation_0-rmse:0.07792\n",
      "[95]\tvalidation_0-rmse:0.07767\n",
      "[96]\tvalidation_0-rmse:0.07791\n",
      "[97]\tvalidation_0-rmse:0.07841\n",
      "[98]\tvalidation_0-rmse:0.07796\n",
      "[99]\tvalidation_0-rmse:0.07823\n"
     ]
    },
    {
     "name": "stderr",
     "output_type": "stream",
     "text": [
      "\u001b[32m[I 2023-02-10 18:11:41,798]\u001b[0m Trial 3 finished with value: 0.006119618690723678 and parameters: {'lambda': 0.01505916471731097, 'alpha': 0.010213825209498817, 'colsample_bytree': 0.4, 'subsample': 0.9, 'learning_rate': 1, 'max_depth': 5, 'random_state': 10, 'min_child_weight': 101}. Best is trial 1 with value: 0.005930147395731221.\u001b[0m\n"
     ]
    },
    {
     "name": "stdout",
     "output_type": "stream",
     "text": [
      "[18:11:41] WARNING: C:/buildkite-agent/builds/buildkite-windows-cpu-autoscaling-group-i-08de971ced8a8cdc6-1/xgboost/xgboost-ci-windows/src/learner.cc:767: \n",
      "Parameters: { \"n_estimator\" } are not used.\n",
      "\n",
      "[0]\tvalidation_0-rmse:0.23493\n",
      "[1]\tvalidation_0-rmse:0.23488\n",
      "[2]\tvalidation_0-rmse:0.23482\n",
      "[3]\tvalidation_0-rmse:0.23476\n",
      "[4]\tvalidation_0-rmse:0.23471\n",
      "[5]\tvalidation_0-rmse:0.23466\n",
      "[6]\tvalidation_0-rmse:0.23460\n",
      "[7]\tvalidation_0-rmse:0.23454\n",
      "[8]\tvalidation_0-rmse:0.23449\n"
     ]
    },
    {
     "name": "stderr",
     "output_type": "stream",
     "text": [
      "C:\\Users\\akshay\\AppData\\Local\\Temp/ipykernel_40416/504234329.py:6: FutureWarning:\n",
      "\n",
      "suggest_loguniform has been deprecated in v3.0.0. This feature will be removed in v6.0.0. See https://github.com/optuna/optuna/releases/tag/v3.0.0. Use :func:`~optuna.trial.Trial.suggest_float` instead.\n",
      "\n",
      "C:\\Users\\akshay\\AppData\\Local\\Temp/ipykernel_40416/504234329.py:7: FutureWarning:\n",
      "\n",
      "suggest_loguniform has been deprecated in v3.0.0. This feature will be removed in v6.0.0. See https://github.com/optuna/optuna/releases/tag/v3.0.0. Use :func:`~optuna.trial.Trial.suggest_float` instead.\n",
      "\n"
     ]
    },
    {
     "name": "stdout",
     "output_type": "stream",
     "text": [
      "[9]\tvalidation_0-rmse:0.23443\n",
      "[10]\tvalidation_0-rmse:0.23438\n",
      "[11]\tvalidation_0-rmse:0.23432\n",
      "[12]\tvalidation_0-rmse:0.23427\n",
      "[13]\tvalidation_0-rmse:0.23421\n",
      "[14]\tvalidation_0-rmse:0.23416\n",
      "[15]\tvalidation_0-rmse:0.23410\n",
      "[16]\tvalidation_0-rmse:0.23405\n",
      "[17]\tvalidation_0-rmse:0.23399\n",
      "[18]\tvalidation_0-rmse:0.23394\n",
      "[19]\tvalidation_0-rmse:0.23389\n",
      "[20]\tvalidation_0-rmse:0.23383\n",
      "[21]\tvalidation_0-rmse:0.23377\n",
      "[22]\tvalidation_0-rmse:0.23372\n",
      "[23]\tvalidation_0-rmse:0.23366\n",
      "[24]\tvalidation_0-rmse:0.23361\n",
      "[25]\tvalidation_0-rmse:0.23355\n",
      "[26]\tvalidation_0-rmse:0.23350\n",
      "[27]\tvalidation_0-rmse:0.23345\n",
      "[28]\tvalidation_0-rmse:0.23339\n",
      "[29]\tvalidation_0-rmse:0.23334\n",
      "[30]\tvalidation_0-rmse:0.23329\n",
      "[31]\tvalidation_0-rmse:0.23323\n",
      "[32]\tvalidation_0-rmse:0.23318\n",
      "[33]\tvalidation_0-rmse:0.23312\n",
      "[34]\tvalidation_0-rmse:0.23307\n",
      "[35]\tvalidation_0-rmse:0.23302\n",
      "[36]\tvalidation_0-rmse:0.23296\n",
      "[37]\tvalidation_0-rmse:0.23291\n",
      "[38]\tvalidation_0-rmse:0.23285\n",
      "[39]\tvalidation_0-rmse:0.23280\n",
      "[40]\tvalidation_0-rmse:0.23275\n",
      "[41]\tvalidation_0-rmse:0.23269\n",
      "[42]\tvalidation_0-rmse:0.23264\n",
      "[43]\tvalidation_0-rmse:0.23258\n",
      "[44]\tvalidation_0-rmse:0.23253\n",
      "[45]\tvalidation_0-rmse:0.23247\n",
      "[46]\tvalidation_0-rmse:0.23242\n",
      "[47]\tvalidation_0-rmse:0.23237\n",
      "[48]\tvalidation_0-rmse:0.23231\n",
      "[49]\tvalidation_0-rmse:0.23225\n",
      "[50]\tvalidation_0-rmse:0.23220\n",
      "[51]\tvalidation_0-rmse:0.23214\n",
      "[52]\tvalidation_0-rmse:0.23209\n",
      "[53]\tvalidation_0-rmse:0.23204\n",
      "[54]\tvalidation_0-rmse:0.23198\n",
      "[55]\tvalidation_0-rmse:0.23193\n",
      "[56]\tvalidation_0-rmse:0.23187\n",
      "[57]\tvalidation_0-rmse:0.23182\n",
      "[58]\tvalidation_0-rmse:0.23177\n",
      "[59]\tvalidation_0-rmse:0.23171\n",
      "[60]\tvalidation_0-rmse:0.23166\n",
      "[61]\tvalidation_0-rmse:0.23160\n",
      "[62]\tvalidation_0-rmse:0.23155\n",
      "[63]\tvalidation_0-rmse:0.23149\n",
      "[64]\tvalidation_0-rmse:0.23144\n",
      "[65]\tvalidation_0-rmse:0.23138\n",
      "[66]\tvalidation_0-rmse:0.23133\n",
      "[67]\tvalidation_0-rmse:0.23128\n",
      "[68]\tvalidation_0-rmse:0.23122\n",
      "[69]\tvalidation_0-rmse:0.23117\n",
      "[70]\tvalidation_0-rmse:0.23111\n",
      "[71]\tvalidation_0-rmse:0.23106\n",
      "[72]\tvalidation_0-rmse:0.23101\n",
      "[73]\tvalidation_0-rmse:0.23095\n",
      "[74]\tvalidation_0-rmse:0.23089\n",
      "[75]\tvalidation_0-rmse:0.23084\n",
      "[76]\tvalidation_0-rmse:0.23079\n",
      "[77]\tvalidation_0-rmse:0.23073\n",
      "[78]\tvalidation_0-rmse:0.23068\n",
      "[79]\tvalidation_0-rmse:0.23063\n",
      "[80]\tvalidation_0-rmse:0.23057\n",
      "[81]\tvalidation_0-rmse:0.23052\n",
      "[82]\tvalidation_0-rmse:0.23047\n",
      "[83]\tvalidation_0-rmse:0.23041\n",
      "[84]\tvalidation_0-rmse:0.23036\n",
      "[85]\tvalidation_0-rmse:0.23031\n",
      "[86]\tvalidation_0-rmse:0.23026\n",
      "[87]\tvalidation_0-rmse:0.23021\n",
      "[88]\tvalidation_0-rmse:0.23015\n",
      "[89]\tvalidation_0-rmse:0.23010\n",
      "[90]\tvalidation_0-rmse:0.23004\n",
      "[91]\tvalidation_0-rmse:0.22999\n",
      "[92]\tvalidation_0-rmse:0.22994\n",
      "[93]\tvalidation_0-rmse:0.22989\n",
      "[94]\tvalidation_0-rmse:0.22983\n",
      "[95]\tvalidation_0-rmse:0.22978\n",
      "[96]\tvalidation_0-rmse:0.22972\n",
      "[97]\tvalidation_0-rmse:0.22967\n",
      "[98]\tvalidation_0-rmse:0.22962\n",
      "[99]\tvalidation_0-rmse:0.22957\n"
     ]
    },
    {
     "name": "stderr",
     "output_type": "stream",
     "text": [
      "\u001b[32m[I 2023-02-10 18:11:43,227]\u001b[0m Trial 4 finished with value: 0.052701122779549366 and parameters: {'lambda': 0.13982004622695032, 'alpha': 0.009368214306835458, 'colsample_bytree': 0.4, 'subsample': 0.5, 'learning_rate': 0.0003, 'max_depth': 5, 'random_state': 243123, 'min_child_weight': 173}. Best is trial 1 with value: 0.005930147395731221.\u001b[0m\n"
     ]
    },
    {
     "name": "stdout",
     "output_type": "stream",
     "text": [
      "[18:11:43] WARNING: C:/buildkite-agent/builds/buildkite-windows-cpu-autoscaling-group-i-08de971ced8a8cdc6-1/xgboost/xgboost-ci-windows/src/learner.cc:767: \n",
      "Parameters: { \"n_estimator\" } are not used.\n",
      "\n",
      "[0]\tvalidation_0-rmse:0.23326\n",
      "[1]\tvalidation_0-rmse:0.23154\n",
      "[2]\tvalidation_0-rmse:0.22984\n",
      "[3]\tvalidation_0-rmse:0.22807\n",
      "[4]\tvalidation_0-rmse:0.22633\n",
      "[5]\tvalidation_0-rmse:0.22468\n"
     ]
    },
    {
     "name": "stderr",
     "output_type": "stream",
     "text": [
      "C:\\Users\\akshay\\AppData\\Local\\Temp/ipykernel_40416/504234329.py:6: FutureWarning:\n",
      "\n",
      "suggest_loguniform has been deprecated in v3.0.0. This feature will be removed in v6.0.0. See https://github.com/optuna/optuna/releases/tag/v3.0.0. Use :func:`~optuna.trial.Trial.suggest_float` instead.\n",
      "\n",
      "C:\\Users\\akshay\\AppData\\Local\\Temp/ipykernel_40416/504234329.py:7: FutureWarning:\n",
      "\n",
      "suggest_loguniform has been deprecated in v3.0.0. This feature will be removed in v6.0.0. See https://github.com/optuna/optuna/releases/tag/v3.0.0. Use :func:`~optuna.trial.Trial.suggest_float` instead.\n",
      "\n"
     ]
    },
    {
     "name": "stdout",
     "output_type": "stream",
     "text": [
      "[6]\tvalidation_0-rmse:0.22300\n",
      "[7]\tvalidation_0-rmse:0.22136\n",
      "[8]\tvalidation_0-rmse:0.21971\n",
      "[9]\tvalidation_0-rmse:0.21804\n",
      "[10]\tvalidation_0-rmse:0.21646\n",
      "[11]\tvalidation_0-rmse:0.21488\n",
      "[12]\tvalidation_0-rmse:0.21325\n",
      "[13]\tvalidation_0-rmse:0.21168\n",
      "[14]\tvalidation_0-rmse:0.21013\n",
      "[15]\tvalidation_0-rmse:0.20858\n",
      "[16]\tvalidation_0-rmse:0.20704\n",
      "[17]\tvalidation_0-rmse:0.20554\n",
      "[18]\tvalidation_0-rmse:0.20407\n",
      "[19]\tvalidation_0-rmse:0.20260\n",
      "[20]\tvalidation_0-rmse:0.20121\n",
      "[21]\tvalidation_0-rmse:0.19971\n",
      "[22]\tvalidation_0-rmse:0.19828\n",
      "[23]\tvalidation_0-rmse:0.19680\n",
      "[24]\tvalidation_0-rmse:0.19537\n",
      "[25]\tvalidation_0-rmse:0.19395\n",
      "[26]\tvalidation_0-rmse:0.19258\n",
      "[27]\tvalidation_0-rmse:0.19112\n",
      "[28]\tvalidation_0-rmse:0.18970\n",
      "[29]\tvalidation_0-rmse:0.18837\n",
      "[30]\tvalidation_0-rmse:0.18703\n",
      "[31]\tvalidation_0-rmse:0.18571\n",
      "[32]\tvalidation_0-rmse:0.18440\n",
      "[33]\tvalidation_0-rmse:0.18310\n",
      "[34]\tvalidation_0-rmse:0.18183\n",
      "[35]\tvalidation_0-rmse:0.18055\n",
      "[36]\tvalidation_0-rmse:0.17923\n",
      "[37]\tvalidation_0-rmse:0.17804\n",
      "[38]\tvalidation_0-rmse:0.17673\n",
      "[39]\tvalidation_0-rmse:0.17547\n",
      "[40]\tvalidation_0-rmse:0.17423\n",
      "[41]\tvalidation_0-rmse:0.17303\n",
      "[42]\tvalidation_0-rmse:0.17179\n",
      "[43]\tvalidation_0-rmse:0.17060\n",
      "[44]\tvalidation_0-rmse:0.16944\n",
      "[45]\tvalidation_0-rmse:0.16829\n",
      "[46]\tvalidation_0-rmse:0.16708\n",
      "[47]\tvalidation_0-rmse:0.16592\n",
      "[48]\tvalidation_0-rmse:0.16484\n",
      "[49]\tvalidation_0-rmse:0.16372\n",
      "[50]\tvalidation_0-rmse:0.16263\n",
      "[51]\tvalidation_0-rmse:0.16154\n",
      "[52]\tvalidation_0-rmse:0.16048\n",
      "[53]\tvalidation_0-rmse:0.15936\n",
      "[54]\tvalidation_0-rmse:0.15827\n",
      "[55]\tvalidation_0-rmse:0.15720\n",
      "[56]\tvalidation_0-rmse:0.15621\n",
      "[57]\tvalidation_0-rmse:0.15519\n",
      "[58]\tvalidation_0-rmse:0.15415\n",
      "[59]\tvalidation_0-rmse:0.15313\n",
      "[60]\tvalidation_0-rmse:0.15215\n",
      "[61]\tvalidation_0-rmse:0.15113\n",
      "[62]\tvalidation_0-rmse:0.15014\n",
      "[63]\tvalidation_0-rmse:0.14917\n",
      "[64]\tvalidation_0-rmse:0.14818\n",
      "[65]\tvalidation_0-rmse:0.14721\n",
      "[66]\tvalidation_0-rmse:0.14625\n",
      "[67]\tvalidation_0-rmse:0.14531\n",
      "[68]\tvalidation_0-rmse:0.14436\n",
      "[69]\tvalidation_0-rmse:0.14341\n",
      "[70]\tvalidation_0-rmse:0.14251\n",
      "[71]\tvalidation_0-rmse:0.14161\n",
      "[72]\tvalidation_0-rmse:0.14074\n",
      "[73]\tvalidation_0-rmse:0.13984\n",
      "[74]\tvalidation_0-rmse:0.13898\n",
      "[75]\tvalidation_0-rmse:0.13810\n",
      "[76]\tvalidation_0-rmse:0.13724\n",
      "[77]\tvalidation_0-rmse:0.13637\n",
      "[78]\tvalidation_0-rmse:0.13554\n",
      "[79]\tvalidation_0-rmse:0.13471\n",
      "[80]\tvalidation_0-rmse:0.13390\n",
      "[81]\tvalidation_0-rmse:0.13307\n",
      "[82]\tvalidation_0-rmse:0.13226\n",
      "[83]\tvalidation_0-rmse:0.13146\n",
      "[84]\tvalidation_0-rmse:0.13065\n",
      "[85]\tvalidation_0-rmse:0.12986\n",
      "[86]\tvalidation_0-rmse:0.12914\n",
      "[87]\tvalidation_0-rmse:0.12837\n",
      "[88]\tvalidation_0-rmse:0.12765\n",
      "[89]\tvalidation_0-rmse:0.12694\n",
      "[90]\tvalidation_0-rmse:0.12620\n",
      "[91]\tvalidation_0-rmse:0.12546\n",
      "[92]\tvalidation_0-rmse:0.12471\n",
      "[93]\tvalidation_0-rmse:0.12402\n",
      "[94]\tvalidation_0-rmse:0.12330\n",
      "[95]\tvalidation_0-rmse:0.12257\n",
      "[96]\tvalidation_0-rmse:0.12181\n",
      "[97]\tvalidation_0-rmse:0.12112\n",
      "[98]\tvalidation_0-rmse:0.12039\n",
      "[99]\tvalidation_0-rmse:0.11971\n"
     ]
    },
    {
     "name": "stderr",
     "output_type": "stream",
     "text": [
      "\u001b[32m[I 2023-02-10 18:11:45,143]\u001b[0m Trial 5 finished with value: 0.014330310988065397 and parameters: {'lambda': 0.00016611553729766674, 'alpha': 0.01569132847003637, 'colsample_bytree': 0.9, 'subsample': 0.9, 'learning_rate': 0.008, 'max_depth': 12, 'random_state': 243123, 'min_child_weight': 75}. Best is trial 1 with value: 0.005930147395731221.\u001b[0m\n"
     ]
    },
    {
     "name": "stdout",
     "output_type": "stream",
     "text": [
      "[18:11:45] WARNING: C:/buildkite-agent/builds/buildkite-windows-cpu-autoscaling-group-i-08de971ced8a8cdc6-1/xgboost/xgboost-ci-windows/src/learner.cc:767: \n",
      "Parameters: { \"n_estimator\" } are not used.\n",
      "\n",
      "[0]\tvalidation_0-rmse:0.23310\n",
      "[1]\tvalidation_0-rmse:0.23116\n",
      "[2]\tvalidation_0-rmse:0.22930\n",
      "[3]\tvalidation_0-rmse:0.22737\n"
     ]
    },
    {
     "name": "stderr",
     "output_type": "stream",
     "text": [
      "C:\\Users\\akshay\\AppData\\Local\\Temp/ipykernel_40416/504234329.py:6: FutureWarning:\n",
      "\n",
      "suggest_loguniform has been deprecated in v3.0.0. This feature will be removed in v6.0.0. See https://github.com/optuna/optuna/releases/tag/v3.0.0. Use :func:`~optuna.trial.Trial.suggest_float` instead.\n",
      "\n",
      "C:\\Users\\akshay\\AppData\\Local\\Temp/ipykernel_40416/504234329.py:7: FutureWarning:\n",
      "\n",
      "suggest_loguniform has been deprecated in v3.0.0. This feature will be removed in v6.0.0. See https://github.com/optuna/optuna/releases/tag/v3.0.0. Use :func:`~optuna.trial.Trial.suggest_float` instead.\n",
      "\n"
     ]
    },
    {
     "name": "stdout",
     "output_type": "stream",
     "text": [
      "[4]\tvalidation_0-rmse:0.22551\n",
      "[5]\tvalidation_0-rmse:0.22368\n",
      "[6]\tvalidation_0-rmse:0.22187\n",
      "[7]\tvalidation_0-rmse:0.22008\n",
      "[8]\tvalidation_0-rmse:0.21845\n",
      "[9]\tvalidation_0-rmse:0.21669\n",
      "[10]\tvalidation_0-rmse:0.21487\n",
      "[11]\tvalidation_0-rmse:0.21319\n",
      "[12]\tvalidation_0-rmse:0.21151\n",
      "[13]\tvalidation_0-rmse:0.20980\n",
      "[14]\tvalidation_0-rmse:0.20810\n",
      "[15]\tvalidation_0-rmse:0.20640\n",
      "[16]\tvalidation_0-rmse:0.20477\n",
      "[17]\tvalidation_0-rmse:0.20317\n",
      "[18]\tvalidation_0-rmse:0.20157\n",
      "[19]\tvalidation_0-rmse:0.19993\n",
      "[20]\tvalidation_0-rmse:0.19840\n",
      "[21]\tvalidation_0-rmse:0.19683\n",
      "[22]\tvalidation_0-rmse:0.19544\n",
      "[23]\tvalidation_0-rmse:0.19396\n",
      "[24]\tvalidation_0-rmse:0.19249\n",
      "[25]\tvalidation_0-rmse:0.19101\n",
      "[26]\tvalidation_0-rmse:0.18958\n",
      "[27]\tvalidation_0-rmse:0.18813\n",
      "[28]\tvalidation_0-rmse:0.18672\n",
      "[29]\tvalidation_0-rmse:0.18530\n",
      "[30]\tvalidation_0-rmse:0.18396\n",
      "[31]\tvalidation_0-rmse:0.18277\n",
      "[32]\tvalidation_0-rmse:0.18135\n",
      "[33]\tvalidation_0-rmse:0.17999\n",
      "[34]\tvalidation_0-rmse:0.17866\n",
      "[35]\tvalidation_0-rmse:0.17737\n",
      "[36]\tvalidation_0-rmse:0.17603\n",
      "[37]\tvalidation_0-rmse:0.17488\n",
      "[38]\tvalidation_0-rmse:0.17358\n",
      "[39]\tvalidation_0-rmse:0.17246\n",
      "[40]\tvalidation_0-rmse:0.17143\n",
      "[41]\tvalidation_0-rmse:0.17038\n",
      "[42]\tvalidation_0-rmse:0.16912\n",
      "[43]\tvalidation_0-rmse:0.16808\n",
      "[44]\tvalidation_0-rmse:0.16701\n",
      "[45]\tvalidation_0-rmse:0.16601\n",
      "[46]\tvalidation_0-rmse:0.16483\n",
      "[47]\tvalidation_0-rmse:0.16384\n",
      "[48]\tvalidation_0-rmse:0.16271\n",
      "[49]\tvalidation_0-rmse:0.16173\n",
      "[50]\tvalidation_0-rmse:0.16076\n",
      "[51]\tvalidation_0-rmse:0.15962\n",
      "[52]\tvalidation_0-rmse:0.15860\n",
      "[53]\tvalidation_0-rmse:0.15751\n",
      "[54]\tvalidation_0-rmse:0.15661\n",
      "[55]\tvalidation_0-rmse:0.15571\n",
      "[56]\tvalidation_0-rmse:0.15483\n",
      "[57]\tvalidation_0-rmse:0.15377\n",
      "[58]\tvalidation_0-rmse:0.15274\n",
      "[59]\tvalidation_0-rmse:0.15189\n",
      "[60]\tvalidation_0-rmse:0.15086\n",
      "[61]\tvalidation_0-rmse:0.14985\n",
      "[62]\tvalidation_0-rmse:0.14904\n",
      "[63]\tvalidation_0-rmse:0.14807\n",
      "[64]\tvalidation_0-rmse:0.14718\n",
      "[65]\tvalidation_0-rmse:0.14642\n",
      "[66]\tvalidation_0-rmse:0.14566\n",
      "[67]\tvalidation_0-rmse:0.14492\n",
      "[68]\tvalidation_0-rmse:0.14400\n",
      "[69]\tvalidation_0-rmse:0.14331\n",
      "[70]\tvalidation_0-rmse:0.14257\n",
      "[71]\tvalidation_0-rmse:0.14175\n",
      "[72]\tvalidation_0-rmse:0.14095\n",
      "[73]\tvalidation_0-rmse:0.14027\n",
      "[74]\tvalidation_0-rmse:0.13947\n",
      "[75]\tvalidation_0-rmse:0.13860\n",
      "[76]\tvalidation_0-rmse:0.13793\n",
      "[77]\tvalidation_0-rmse:0.13719\n",
      "[78]\tvalidation_0-rmse:0.13658\n",
      "[79]\tvalidation_0-rmse:0.13579\n",
      "[80]\tvalidation_0-rmse:0.13504\n",
      "[81]\tvalidation_0-rmse:0.13443\n",
      "[82]\tvalidation_0-rmse:0.13371\n",
      "[83]\tvalidation_0-rmse:0.13304\n",
      "[84]\tvalidation_0-rmse:0.13225\n",
      "[85]\tvalidation_0-rmse:0.13168\n",
      "[86]\tvalidation_0-rmse:0.13104\n",
      "[87]\tvalidation_0-rmse:0.13050\n",
      "[88]\tvalidation_0-rmse:0.12975\n",
      "[89]\tvalidation_0-rmse:0.12921\n",
      "[90]\tvalidation_0-rmse:0.12871\n",
      "[91]\tvalidation_0-rmse:0.12806\n",
      "[92]\tvalidation_0-rmse:0.12756\n",
      "[93]\tvalidation_0-rmse:0.12690\n",
      "[94]\tvalidation_0-rmse:0.12620\n",
      "[95]\tvalidation_0-rmse:0.12551\n",
      "[96]\tvalidation_0-rmse:0.12480\n",
      "[97]\tvalidation_0-rmse:0.12433\n",
      "[98]\tvalidation_0-rmse:0.12373\n",
      "[99]\tvalidation_0-rmse:0.12330\n"
     ]
    },
    {
     "name": "stderr",
     "output_type": "stream",
     "text": [
      "\u001b[32m[I 2023-02-10 18:11:46,673]\u001b[0m Trial 6 finished with value: 0.015203831216800577 and parameters: {'lambda': 7.01576329586579, 'alpha': 1.622432331738912, 'colsample_bytree': 0.4, 'subsample': 0.7, 'learning_rate': 0.01, 'max_depth': 12, 'random_state': 2000, 'min_child_weight': 127}. Best is trial 1 with value: 0.005930147395731221.\u001b[0m\n"
     ]
    },
    {
     "name": "stdout",
     "output_type": "stream",
     "text": [
      "[18:11:46] WARNING: C:/buildkite-agent/builds/buildkite-windows-cpu-autoscaling-group-i-08de971ced8a8cdc6-1/xgboost/xgboost-ci-windows/src/learner.cc:767: \n",
      "Parameters: { \"n_estimator\" } are not used.\n",
      "\n",
      "[0]\tvalidation_0-rmse:0.23124\n",
      "[1]\tvalidation_0-rmse:0.22770\n",
      "[2]\tvalidation_0-rmse:0.22413\n",
      "[3]\tvalidation_0-rmse:0.22074\n",
      "[4]\tvalidation_0-rmse:0.21762\n",
      "[5]\tvalidation_0-rmse:0.21450\n",
      "[6]\tvalidation_0-rmse:0.21146\n",
      "[7]\tvalidation_0-rmse:0.20845\n"
     ]
    },
    {
     "name": "stderr",
     "output_type": "stream",
     "text": [
      "C:\\Users\\akshay\\AppData\\Local\\Temp/ipykernel_40416/504234329.py:6: FutureWarning:\n",
      "\n",
      "suggest_loguniform has been deprecated in v3.0.0. This feature will be removed in v6.0.0. See https://github.com/optuna/optuna/releases/tag/v3.0.0. Use :func:`~optuna.trial.Trial.suggest_float` instead.\n",
      "\n",
      "C:\\Users\\akshay\\AppData\\Local\\Temp/ipykernel_40416/504234329.py:7: FutureWarning:\n",
      "\n",
      "suggest_loguniform has been deprecated in v3.0.0. This feature will be removed in v6.0.0. See https://github.com/optuna/optuna/releases/tag/v3.0.0. Use :func:`~optuna.trial.Trial.suggest_float` instead.\n",
      "\n"
     ]
    },
    {
     "name": "stdout",
     "output_type": "stream",
     "text": [
      "[8]\tvalidation_0-rmse:0.20552\n",
      "[9]\tvalidation_0-rmse:0.20269\n",
      "[10]\tvalidation_0-rmse:0.19994\n",
      "[11]\tvalidation_0-rmse:0.19729\n",
      "[12]\tvalidation_0-rmse:0.19470\n",
      "[13]\tvalidation_0-rmse:0.19216\n",
      "[14]\tvalidation_0-rmse:0.18975\n",
      "[15]\tvalidation_0-rmse:0.18751\n",
      "[16]\tvalidation_0-rmse:0.18521\n",
      "[17]\tvalidation_0-rmse:0.18301\n",
      "[18]\tvalidation_0-rmse:0.18098\n",
      "[19]\tvalidation_0-rmse:0.17895\n",
      "[20]\tvalidation_0-rmse:0.17693\n",
      "[21]\tvalidation_0-rmse:0.17496\n",
      "[22]\tvalidation_0-rmse:0.17307\n",
      "[23]\tvalidation_0-rmse:0.17140\n",
      "[24]\tvalidation_0-rmse:0.16973\n",
      "[25]\tvalidation_0-rmse:0.16809\n",
      "[26]\tvalidation_0-rmse:0.16653\n",
      "[27]\tvalidation_0-rmse:0.16497\n",
      "[28]\tvalidation_0-rmse:0.16351\n",
      "[29]\tvalidation_0-rmse:0.16213\n",
      "[30]\tvalidation_0-rmse:0.16085\n",
      "[31]\tvalidation_0-rmse:0.15954\n",
      "[32]\tvalidation_0-rmse:0.15826\n",
      "[33]\tvalidation_0-rmse:0.15705\n",
      "[34]\tvalidation_0-rmse:0.15590\n",
      "[35]\tvalidation_0-rmse:0.15478\n",
      "[36]\tvalidation_0-rmse:0.15368\n",
      "[37]\tvalidation_0-rmse:0.15267\n",
      "[38]\tvalidation_0-rmse:0.15168\n",
      "[39]\tvalidation_0-rmse:0.15079\n",
      "[40]\tvalidation_0-rmse:0.14991\n",
      "[41]\tvalidation_0-rmse:0.14901\n",
      "[42]\tvalidation_0-rmse:0.14812\n",
      "[43]\tvalidation_0-rmse:0.14733\n",
      "[44]\tvalidation_0-rmse:0.14659\n",
      "[45]\tvalidation_0-rmse:0.14589\n",
      "[46]\tvalidation_0-rmse:0.14521\n",
      "[47]\tvalidation_0-rmse:0.14458\n",
      "[48]\tvalidation_0-rmse:0.14390\n",
      "[49]\tvalidation_0-rmse:0.14332\n",
      "[50]\tvalidation_0-rmse:0.14272\n",
      "[51]\tvalidation_0-rmse:0.14217\n",
      "[52]\tvalidation_0-rmse:0.14167\n",
      "[53]\tvalidation_0-rmse:0.14118\n",
      "[54]\tvalidation_0-rmse:0.14070\n",
      "[55]\tvalidation_0-rmse:0.14025\n",
      "[56]\tvalidation_0-rmse:0.13980\n",
      "[57]\tvalidation_0-rmse:0.13943\n",
      "[58]\tvalidation_0-rmse:0.13907\n",
      "[59]\tvalidation_0-rmse:0.13871\n",
      "[60]\tvalidation_0-rmse:0.13834\n",
      "[61]\tvalidation_0-rmse:0.13802\n",
      "[62]\tvalidation_0-rmse:0.13770\n",
      "[63]\tvalidation_0-rmse:0.13742\n",
      "[64]\tvalidation_0-rmse:0.13716\n",
      "[65]\tvalidation_0-rmse:0.13690\n",
      "[66]\tvalidation_0-rmse:0.13665\n",
      "[67]\tvalidation_0-rmse:0.13640\n",
      "[68]\tvalidation_0-rmse:0.13616\n",
      "[69]\tvalidation_0-rmse:0.13596\n",
      "[70]\tvalidation_0-rmse:0.13576\n",
      "[71]\tvalidation_0-rmse:0.13558\n",
      "[72]\tvalidation_0-rmse:0.13541\n",
      "[73]\tvalidation_0-rmse:0.13525\n",
      "[74]\tvalidation_0-rmse:0.13507\n",
      "[75]\tvalidation_0-rmse:0.13495\n",
      "[76]\tvalidation_0-rmse:0.13484\n",
      "[77]\tvalidation_0-rmse:0.13472\n",
      "[78]\tvalidation_0-rmse:0.13464\n",
      "[79]\tvalidation_0-rmse:0.13453\n",
      "[80]\tvalidation_0-rmse:0.13443\n",
      "[81]\tvalidation_0-rmse:0.13436\n",
      "[82]\tvalidation_0-rmse:0.13428\n",
      "[83]\tvalidation_0-rmse:0.13422\n",
      "[84]\tvalidation_0-rmse:0.13415\n",
      "[85]\tvalidation_0-rmse:0.13410\n",
      "[86]\tvalidation_0-rmse:0.13405\n",
      "[87]\tvalidation_0-rmse:0.13400\n",
      "[88]\tvalidation_0-rmse:0.13396\n",
      "[89]\tvalidation_0-rmse:0.13393\n",
      "[90]\tvalidation_0-rmse:0.13390\n",
      "[91]\tvalidation_0-rmse:0.13387\n",
      "[92]\tvalidation_0-rmse:0.13384\n",
      "[93]\tvalidation_0-rmse:0.13382\n",
      "[94]\tvalidation_0-rmse:0.13380\n",
      "[95]\tvalidation_0-rmse:0.13379\n",
      "[96]\tvalidation_0-rmse:0.13378\n",
      "[97]\tvalidation_0-rmse:0.13377\n",
      "[98]\tvalidation_0-rmse:0.13377\n",
      "[99]\tvalidation_0-rmse:0.13377\n"
     ]
    },
    {
     "name": "stderr",
     "output_type": "stream",
     "text": [
      "\u001b[32m[I 2023-02-10 18:11:47,957]\u001b[0m Trial 7 finished with value: 0.017893792635816478 and parameters: {'lambda': 0.008951729841361741, 'alpha': 0.520041367568177, 'colsample_bytree': 0.8, 'subsample': 0.7, 'learning_rate': 0.02, 'max_depth': 3, 'random_state': 243123, 'min_child_weight': 183}. Best is trial 1 with value: 0.005930147395731221.\u001b[0m\n"
     ]
    },
    {
     "name": "stdout",
     "output_type": "stream",
     "text": [
      "[18:11:48] WARNING: C:/buildkite-agent/builds/buildkite-windows-cpu-autoscaling-group-i-08de971ced8a8cdc6-1/xgboost/xgboost-ci-windows/src/learner.cc:767: \n",
      "Parameters: { \"n_estimator\" } are not used.\n",
      "\n",
      "[0]\tvalidation_0-rmse:0.23300\n",
      "[1]\tvalidation_0-rmse:0.23119\n",
      "[2]\tvalidation_0-rmse:0.22952\n",
      "[3]\tvalidation_0-rmse:0.22786\n",
      "[4]\tvalidation_0-rmse:0.22605\n",
      "[5]\tvalidation_0-rmse:0.22442\n"
     ]
    },
    {
     "name": "stderr",
     "output_type": "stream",
     "text": [
      "C:\\Users\\akshay\\AppData\\Local\\Temp/ipykernel_40416/504234329.py:6: FutureWarning:\n",
      "\n",
      "suggest_loguniform has been deprecated in v3.0.0. This feature will be removed in v6.0.0. See https://github.com/optuna/optuna/releases/tag/v3.0.0. Use :func:`~optuna.trial.Trial.suggest_float` instead.\n",
      "\n",
      "C:\\Users\\akshay\\AppData\\Local\\Temp/ipykernel_40416/504234329.py:7: FutureWarning:\n",
      "\n",
      "suggest_loguniform has been deprecated in v3.0.0. This feature will be removed in v6.0.0. See https://github.com/optuna/optuna/releases/tag/v3.0.0. Use :func:`~optuna.trial.Trial.suggest_float` instead.\n",
      "\n"
     ]
    },
    {
     "name": "stdout",
     "output_type": "stream",
     "text": [
      "[6]\tvalidation_0-rmse:0.22263\n",
      "[7]\tvalidation_0-rmse:0.22093\n",
      "[8]\tvalidation_0-rmse:0.21914\n",
      "[9]\tvalidation_0-rmse:0.21735\n",
      "[10]\tvalidation_0-rmse:0.21570\n",
      "[11]\tvalidation_0-rmse:0.21406\n",
      "[12]\tvalidation_0-rmse:0.21234\n",
      "[13]\tvalidation_0-rmse:0.21078\n",
      "[14]\tvalidation_0-rmse:0.20928\n",
      "[15]\tvalidation_0-rmse:0.20768\n",
      "[16]\tvalidation_0-rmse:0.20652\n",
      "[17]\tvalidation_0-rmse:0.20512\n",
      "[18]\tvalidation_0-rmse:0.20376\n",
      "[19]\tvalidation_0-rmse:0.20238\n",
      "[20]\tvalidation_0-rmse:0.20085\n",
      "[21]\tvalidation_0-rmse:0.19951\n",
      "[22]\tvalidation_0-rmse:0.19809\n",
      "[23]\tvalidation_0-rmse:0.19674\n",
      "[24]\tvalidation_0-rmse:0.19562\n",
      "[25]\tvalidation_0-rmse:0.19419\n",
      "[26]\tvalidation_0-rmse:0.19287\n",
      "[27]\tvalidation_0-rmse:0.19156\n",
      "[28]\tvalidation_0-rmse:0.19044\n",
      "[29]\tvalidation_0-rmse:0.18931\n",
      "[30]\tvalidation_0-rmse:0.18816\n",
      "[31]\tvalidation_0-rmse:0.18714\n",
      "[32]\tvalidation_0-rmse:0.18590\n",
      "[33]\tvalidation_0-rmse:0.18475\n",
      "[34]\tvalidation_0-rmse:0.18361\n",
      "[35]\tvalidation_0-rmse:0.18267\n",
      "[36]\tvalidation_0-rmse:0.18153\n",
      "[37]\tvalidation_0-rmse:0.18049\n",
      "[38]\tvalidation_0-rmse:0.17938\n",
      "[39]\tvalidation_0-rmse:0.17845\n",
      "[40]\tvalidation_0-rmse:0.17767\n",
      "[41]\tvalidation_0-rmse:0.17668\n",
      "[42]\tvalidation_0-rmse:0.17572\n",
      "[43]\tvalidation_0-rmse:0.17476\n",
      "[44]\tvalidation_0-rmse:0.17386\n",
      "[45]\tvalidation_0-rmse:0.17298\n",
      "[46]\tvalidation_0-rmse:0.17214\n",
      "[47]\tvalidation_0-rmse:0.17122\n",
      "[48]\tvalidation_0-rmse:0.17043\n",
      "[49]\tvalidation_0-rmse:0.16955\n",
      "[50]\tvalidation_0-rmse:0.16877\n",
      "[51]\tvalidation_0-rmse:0.16784\n",
      "[52]\tvalidation_0-rmse:0.16704\n",
      "[53]\tvalidation_0-rmse:0.16614\n",
      "[54]\tvalidation_0-rmse:0.16545\n",
      "[55]\tvalidation_0-rmse:0.16471\n",
      "[56]\tvalidation_0-rmse:0.16397\n",
      "[57]\tvalidation_0-rmse:0.16320\n",
      "[58]\tvalidation_0-rmse:0.16239\n",
      "[59]\tvalidation_0-rmse:0.16179\n",
      "[60]\tvalidation_0-rmse:0.16111\n",
      "[61]\tvalidation_0-rmse:0.16037\n",
      "[62]\tvalidation_0-rmse:0.15968\n",
      "[63]\tvalidation_0-rmse:0.15894\n",
      "[64]\tvalidation_0-rmse:0.15830\n",
      "[65]\tvalidation_0-rmse:0.15769\n",
      "[66]\tvalidation_0-rmse:0.15723\n",
      "[67]\tvalidation_0-rmse:0.15661\n",
      "[68]\tvalidation_0-rmse:0.15595\n",
      "[69]\tvalidation_0-rmse:0.15538\n",
      "[70]\tvalidation_0-rmse:0.15483\n",
      "[71]\tvalidation_0-rmse:0.15428\n",
      "[72]\tvalidation_0-rmse:0.15365\n",
      "[73]\tvalidation_0-rmse:0.15314\n",
      "[74]\tvalidation_0-rmse:0.15255\n",
      "[75]\tvalidation_0-rmse:0.15219\n",
      "[76]\tvalidation_0-rmse:0.15161\n",
      "[77]\tvalidation_0-rmse:0.15112\n",
      "[78]\tvalidation_0-rmse:0.15065\n",
      "[79]\tvalidation_0-rmse:0.15022\n",
      "[80]\tvalidation_0-rmse:0.14987\n",
      "[81]\tvalidation_0-rmse:0.14936\n",
      "[82]\tvalidation_0-rmse:0.14889\n",
      "[83]\tvalidation_0-rmse:0.14854\n",
      "[84]\tvalidation_0-rmse:0.14816\n",
      "[85]\tvalidation_0-rmse:0.14778\n",
      "[86]\tvalidation_0-rmse:0.14740\n",
      "[87]\tvalidation_0-rmse:0.14692\n",
      "[88]\tvalidation_0-rmse:0.14666\n",
      "[89]\tvalidation_0-rmse:0.14631\n",
      "[90]\tvalidation_0-rmse:0.14598\n",
      "[91]\tvalidation_0-rmse:0.14560\n",
      "[92]\tvalidation_0-rmse:0.14531\n",
      "[93]\tvalidation_0-rmse:0.14493\n",
      "[94]\tvalidation_0-rmse:0.14458\n",
      "[95]\tvalidation_0-rmse:0.14414\n",
      "[96]\tvalidation_0-rmse:0.14379\n",
      "[97]\tvalidation_0-rmse:0.14354\n",
      "[98]\tvalidation_0-rmse:0.14321\n",
      "[99]\tvalidation_0-rmse:0.14296\n"
     ]
    },
    {
     "name": "stderr",
     "output_type": "stream",
     "text": [
      "\u001b[32m[I 2023-02-10 18:11:49,333]\u001b[0m Trial 8 finished with value: 0.020438803633784794 and parameters: {'lambda': 0.02206793877957743, 'alpha': 0.08535460217348156, 'colsample_bytree': 0.3, 'subsample': 0.2, 'learning_rate': 0.01, 'max_depth': 5, 'random_state': 2000, 'min_child_weight': 55}. Best is trial 1 with value: 0.005930147395731221.\u001b[0m\n"
     ]
    },
    {
     "name": "stdout",
     "output_type": "stream",
     "text": [
      "[18:11:49] WARNING: C:/buildkite-agent/builds/buildkite-windows-cpu-autoscaling-group-i-08de971ced8a8cdc6-1/xgboost/xgboost-ci-windows/src/learner.cc:767: \n",
      "Parameters: { \"n_estimator\" } are not used.\n",
      "\n",
      "[0]\tvalidation_0-rmse:0.08364\n",
      "[1]\tvalidation_0-rmse:0.07530\n",
      "[2]\tvalidation_0-rmse:0.07835\n",
      "[3]\tvalidation_0-rmse:0.07590\n",
      "[4]\tvalidation_0-rmse:0.07354\n"
     ]
    },
    {
     "name": "stderr",
     "output_type": "stream",
     "text": [
      "C:\\Users\\akshay\\AppData\\Local\\Temp/ipykernel_40416/504234329.py:6: FutureWarning:\n",
      "\n",
      "suggest_loguniform has been deprecated in v3.0.0. This feature will be removed in v6.0.0. See https://github.com/optuna/optuna/releases/tag/v3.0.0. Use :func:`~optuna.trial.Trial.suggest_float` instead.\n",
      "\n",
      "C:\\Users\\akshay\\AppData\\Local\\Temp/ipykernel_40416/504234329.py:7: FutureWarning:\n",
      "\n",
      "suggest_loguniform has been deprecated in v3.0.0. This feature will be removed in v6.0.0. See https://github.com/optuna/optuna/releases/tag/v3.0.0. Use :func:`~optuna.trial.Trial.suggest_float` instead.\n",
      "\n"
     ]
    },
    {
     "name": "stdout",
     "output_type": "stream",
     "text": [
      "[5]\tvalidation_0-rmse:0.07281\n",
      "[6]\tvalidation_0-rmse:0.07112\n",
      "[7]\tvalidation_0-rmse:0.07181\n",
      "[8]\tvalidation_0-rmse:0.07036\n",
      "[9]\tvalidation_0-rmse:0.07035\n",
      "[10]\tvalidation_0-rmse:0.07157\n",
      "[11]\tvalidation_0-rmse:0.07070\n",
      "[12]\tvalidation_0-rmse:0.07180\n",
      "[13]\tvalidation_0-rmse:0.07430\n",
      "[14]\tvalidation_0-rmse:0.07299\n",
      "[15]\tvalidation_0-rmse:0.07265\n",
      "[16]\tvalidation_0-rmse:0.07253\n",
      "[17]\tvalidation_0-rmse:0.07259\n",
      "[18]\tvalidation_0-rmse:0.07310\n",
      "[19]\tvalidation_0-rmse:0.07203\n",
      "[20]\tvalidation_0-rmse:0.07263\n",
      "[21]\tvalidation_0-rmse:0.07457\n",
      "[22]\tvalidation_0-rmse:0.07273\n",
      "[23]\tvalidation_0-rmse:0.07280\n",
      "[24]\tvalidation_0-rmse:0.07241\n",
      "[25]\tvalidation_0-rmse:0.07132\n",
      "[26]\tvalidation_0-rmse:0.07264\n",
      "[27]\tvalidation_0-rmse:0.07213\n",
      "[28]\tvalidation_0-rmse:0.07198\n",
      "[29]\tvalidation_0-rmse:0.07233\n",
      "[30]\tvalidation_0-rmse:0.07146\n",
      "[31]\tvalidation_0-rmse:0.07348\n",
      "[32]\tvalidation_0-rmse:0.07243\n",
      "[33]\tvalidation_0-rmse:0.07325\n",
      "[34]\tvalidation_0-rmse:0.07219\n",
      "[35]\tvalidation_0-rmse:0.07267\n",
      "[36]\tvalidation_0-rmse:0.07165\n",
      "[37]\tvalidation_0-rmse:0.07284\n",
      "[38]\tvalidation_0-rmse:0.07410\n",
      "[39]\tvalidation_0-rmse:0.07342\n",
      "[40]\tvalidation_0-rmse:0.07268\n",
      "[41]\tvalidation_0-rmse:0.07219\n",
      "[42]\tvalidation_0-rmse:0.07198\n",
      "[43]\tvalidation_0-rmse:0.07153\n",
      "[44]\tvalidation_0-rmse:0.07246\n",
      "[45]\tvalidation_0-rmse:0.07278\n",
      "[46]\tvalidation_0-rmse:0.07280\n",
      "[47]\tvalidation_0-rmse:0.07288\n",
      "[48]\tvalidation_0-rmse:0.07233\n",
      "[49]\tvalidation_0-rmse:0.07449\n",
      "[50]\tvalidation_0-rmse:0.07491\n",
      "[51]\tvalidation_0-rmse:0.07395\n",
      "[52]\tvalidation_0-rmse:0.07388\n",
      "[53]\tvalidation_0-rmse:0.07441\n",
      "[54]\tvalidation_0-rmse:0.07311\n",
      "[55]\tvalidation_0-rmse:0.07317\n",
      "[56]\tvalidation_0-rmse:0.07294\n",
      "[57]\tvalidation_0-rmse:0.07210\n",
      "[58]\tvalidation_0-rmse:0.07148\n",
      "[59]\tvalidation_0-rmse:0.07129\n",
      "[60]\tvalidation_0-rmse:0.07196\n",
      "[61]\tvalidation_0-rmse:0.07234\n",
      "[62]\tvalidation_0-rmse:0.07242\n",
      "[63]\tvalidation_0-rmse:0.07116\n",
      "[64]\tvalidation_0-rmse:0.07153\n",
      "[65]\tvalidation_0-rmse:0.07069\n",
      "[66]\tvalidation_0-rmse:0.07129\n",
      "[67]\tvalidation_0-rmse:0.07265\n",
      "[68]\tvalidation_0-rmse:0.07255\n",
      "[69]\tvalidation_0-rmse:0.07294\n",
      "[70]\tvalidation_0-rmse:0.07303\n",
      "[71]\tvalidation_0-rmse:0.07228\n",
      "[72]\tvalidation_0-rmse:0.07137\n",
      "[73]\tvalidation_0-rmse:0.07335\n",
      "[74]\tvalidation_0-rmse:0.07181\n",
      "[75]\tvalidation_0-rmse:0.07145\n",
      "[76]\tvalidation_0-rmse:0.07057\n",
      "[77]\tvalidation_0-rmse:0.07059\n",
      "[78]\tvalidation_0-rmse:0.07203\n",
      "[79]\tvalidation_0-rmse:0.07034\n",
      "[80]\tvalidation_0-rmse:0.07085\n",
      "[81]\tvalidation_0-rmse:0.06992\n",
      "[82]\tvalidation_0-rmse:0.06979\n",
      "[83]\tvalidation_0-rmse:0.07091\n",
      "[84]\tvalidation_0-rmse:0.07028\n",
      "[85]\tvalidation_0-rmse:0.06999\n",
      "[86]\tvalidation_0-rmse:0.07073\n",
      "[87]\tvalidation_0-rmse:0.07163\n",
      "[88]\tvalidation_0-rmse:0.06970\n",
      "[89]\tvalidation_0-rmse:0.06968\n",
      "[90]\tvalidation_0-rmse:0.06992\n",
      "[91]\tvalidation_0-rmse:0.06920\n",
      "[92]\tvalidation_0-rmse:0.06965\n",
      "[93]\tvalidation_0-rmse:0.06970\n",
      "[94]\tvalidation_0-rmse:0.07058\n",
      "[95]\tvalidation_0-rmse:0.07017\n",
      "[96]\tvalidation_0-rmse:0.07038\n",
      "[97]\tvalidation_0-rmse:0.06929\n",
      "[98]\tvalidation_0-rmse:0.06934\n",
      "[99]\tvalidation_0-rmse:0.06927\n"
     ]
    },
    {
     "name": "stderr",
     "output_type": "stream",
     "text": [
      "\u001b[32m[I 2023-02-10 18:11:51,107]\u001b[0m Trial 9 finished with value: 0.004798704541338985 and parameters: {'lambda': 0.0021989489904092083, 'alpha': 0.023857162070464837, 'colsample_bytree': 1, 'subsample': 0.8, 'learning_rate': 1, 'max_depth': 5, 'random_state': 20, 'min_child_weight': 64}. Best is trial 9 with value: 0.004798704541338985.\u001b[0m\n"
     ]
    },
    {
     "data": {
      "text/plain": [
       "{'lambda': 0.0021989489904092083,\n",
       " 'alpha': 0.023857162070464837,\n",
       " 'colsample_bytree': 1,\n",
       " 'subsample': 0.8,\n",
       " 'learning_rate': 1,\n",
       " 'max_depth': 5,\n",
       " 'random_state': 20,\n",
       " 'min_child_weight': 64}"
      ]
     },
     "execution_count": 78,
     "metadata": {},
     "output_type": "execute_result"
    }
   ],
   "source": [
    "find_params=optuna.create_study(direction='minimize')\n",
    "find_params.optimize(objective,n_trials=10)\n",
    "find_params.best_trial.params"
   ]
  },
  {
   "cell_type": "code",
   "execution_count": 79,
   "id": "0f6e556d",
   "metadata": {},
   "outputs": [
    {
     "data": {
      "text/plain": [
       "{'lambda': 0.009664478610044897,\n",
       " 'alpha': 1.212494550192719,\n",
       " 'colsample_bytree': 0.8,\n",
       " 'subsample': 0.8,\n",
       " 'learning_rate': 0.008,\n",
       " 'max_depth': 7,\n",
       " 'random_state': 10,\n",
       " 'min_child_weight': 5}"
      ]
     },
     "execution_count": 79,
     "metadata": {},
     "output_type": "execute_result"
    }
   ],
   "source": [
    "{'lambda': 0.009664478610044897,\n",
    " 'alpha': 1.212494550192719,\n",
    " 'colsample_bytree': 0.8,\n",
    " 'subsample': 0.8,\n",
    " 'learning_rate': 0.008,\n",
    " 'max_depth': 7,\n",
    " 'random_state': 10,\n",
    " 'min_child_weight': 5}"
   ]
  },
  {
   "cell_type": "code",
   "execution_count": 80,
   "id": "eadaac99",
   "metadata": {},
   "outputs": [
    {
     "data": {
      "text/html": [
       "<div>\n",
       "<style scoped>\n",
       "    .dataframe tbody tr th:only-of-type {\n",
       "        vertical-align: middle;\n",
       "    }\n",
       "\n",
       "    .dataframe tbody tr th {\n",
       "        vertical-align: top;\n",
       "    }\n",
       "\n",
       "    .dataframe thead th {\n",
       "        text-align: right;\n",
       "    }\n",
       "</style>\n",
       "<table border=\"1\" class=\"dataframe\">\n",
       "  <thead>\n",
       "    <tr style=\"text-align: right;\">\n",
       "      <th></th>\n",
       "      <th>number</th>\n",
       "      <th>value</th>\n",
       "      <th>datetime_start</th>\n",
       "      <th>datetime_complete</th>\n",
       "      <th>duration</th>\n",
       "      <th>params_alpha</th>\n",
       "      <th>params_colsample_bytree</th>\n",
       "      <th>params_lambda</th>\n",
       "      <th>params_learning_rate</th>\n",
       "      <th>params_max_depth</th>\n",
       "      <th>params_min_child_weight</th>\n",
       "      <th>params_random_state</th>\n",
       "      <th>params_subsample</th>\n",
       "      <th>state</th>\n",
       "    </tr>\n",
       "  </thead>\n",
       "  <tbody>\n",
       "    <tr>\n",
       "      <th>0</th>\n",
       "      <td>0</td>\n",
       "      <td>8.303863e+72</td>\n",
       "      <td>2023-02-10 18:11:35.400726</td>\n",
       "      <td>2023-02-10 18:11:36.908279</td>\n",
       "      <td>0 days 00:00:01.507553</td>\n",
       "      <td>5.243728</td>\n",
       "      <td>0.3</td>\n",
       "      <td>0.014197</td>\n",
       "      <td>8.0000</td>\n",
       "      <td>7</td>\n",
       "      <td>142</td>\n",
       "      <td>20</td>\n",
       "      <td>0.5</td>\n",
       "      <td>COMPLETE</td>\n",
       "    </tr>\n",
       "    <tr>\n",
       "      <th>1</th>\n",
       "      <td>1</td>\n",
       "      <td>5.930147e-03</td>\n",
       "      <td>2023-02-10 18:11:36.916333</td>\n",
       "      <td>2023-02-10 18:11:38.548146</td>\n",
       "      <td>0 days 00:00:01.631813</td>\n",
       "      <td>0.999551</td>\n",
       "      <td>0.3</td>\n",
       "      <td>0.002570</td>\n",
       "      <td>0.0200</td>\n",
       "      <td>8</td>\n",
       "      <td>81</td>\n",
       "      <td>243123</td>\n",
       "      <td>0.9</td>\n",
       "      <td>COMPLETE</td>\n",
       "    </tr>\n",
       "    <tr>\n",
       "      <th>2</th>\n",
       "      <td>2</td>\n",
       "      <td>9.028580e+72</td>\n",
       "      <td>2023-02-10 18:11:38.555145</td>\n",
       "      <td>2023-02-10 18:11:40.229181</td>\n",
       "      <td>0 days 00:00:01.674036</td>\n",
       "      <td>0.001159</td>\n",
       "      <td>0.6</td>\n",
       "      <td>0.350607</td>\n",
       "      <td>8.0000</td>\n",
       "      <td>10</td>\n",
       "      <td>66</td>\n",
       "      <td>10</td>\n",
       "      <td>0.8</td>\n",
       "      <td>COMPLETE</td>\n",
       "    </tr>\n",
       "    <tr>\n",
       "      <th>3</th>\n",
       "      <td>3</td>\n",
       "      <td>6.119619e-03</td>\n",
       "      <td>2023-02-10 18:11:40.237178</td>\n",
       "      <td>2023-02-10 18:11:41.795127</td>\n",
       "      <td>0 days 00:00:01.557949</td>\n",
       "      <td>0.010214</td>\n",
       "      <td>0.4</td>\n",
       "      <td>0.015059</td>\n",
       "      <td>1.0000</td>\n",
       "      <td>5</td>\n",
       "      <td>101</td>\n",
       "      <td>10</td>\n",
       "      <td>0.9</td>\n",
       "      <td>COMPLETE</td>\n",
       "    </tr>\n",
       "    <tr>\n",
       "      <th>4</th>\n",
       "      <td>4</td>\n",
       "      <td>5.270112e-02</td>\n",
       "      <td>2023-02-10 18:11:41.801393</td>\n",
       "      <td>2023-02-10 18:11:43.224599</td>\n",
       "      <td>0 days 00:00:01.423206</td>\n",
       "      <td>0.009368</td>\n",
       "      <td>0.4</td>\n",
       "      <td>0.139820</td>\n",
       "      <td>0.0003</td>\n",
       "      <td>5</td>\n",
       "      <td>173</td>\n",
       "      <td>243123</td>\n",
       "      <td>0.5</td>\n",
       "      <td>COMPLETE</td>\n",
       "    </tr>\n",
       "    <tr>\n",
       "      <th>5</th>\n",
       "      <td>5</td>\n",
       "      <td>1.433031e-02</td>\n",
       "      <td>2023-02-10 18:11:43.230957</td>\n",
       "      <td>2023-02-10 18:11:45.139885</td>\n",
       "      <td>0 days 00:00:01.908928</td>\n",
       "      <td>0.015691</td>\n",
       "      <td>0.9</td>\n",
       "      <td>0.000166</td>\n",
       "      <td>0.0080</td>\n",
       "      <td>12</td>\n",
       "      <td>75</td>\n",
       "      <td>243123</td>\n",
       "      <td>0.9</td>\n",
       "      <td>COMPLETE</td>\n",
       "    </tr>\n",
       "    <tr>\n",
       "      <th>6</th>\n",
       "      <td>6</td>\n",
       "      <td>1.520383e-02</td>\n",
       "      <td>2023-02-10 18:11:45.146884</td>\n",
       "      <td>2023-02-10 18:11:46.671550</td>\n",
       "      <td>0 days 00:00:01.524666</td>\n",
       "      <td>1.622432</td>\n",
       "      <td>0.4</td>\n",
       "      <td>7.015763</td>\n",
       "      <td>0.0100</td>\n",
       "      <td>12</td>\n",
       "      <td>127</td>\n",
       "      <td>2000</td>\n",
       "      <td>0.7</td>\n",
       "      <td>COMPLETE</td>\n",
       "    </tr>\n",
       "    <tr>\n",
       "      <th>7</th>\n",
       "      <td>7</td>\n",
       "      <td>1.789379e-02</td>\n",
       "      <td>2023-02-10 18:11:46.677548</td>\n",
       "      <td>2023-02-10 18:11:47.955095</td>\n",
       "      <td>0 days 00:00:01.277547</td>\n",
       "      <td>0.520041</td>\n",
       "      <td>0.8</td>\n",
       "      <td>0.008952</td>\n",
       "      <td>0.0200</td>\n",
       "      <td>3</td>\n",
       "      <td>183</td>\n",
       "      <td>243123</td>\n",
       "      <td>0.7</td>\n",
       "      <td>COMPLETE</td>\n",
       "    </tr>\n",
       "    <tr>\n",
       "      <th>8</th>\n",
       "      <td>8</td>\n",
       "      <td>2.043880e-02</td>\n",
       "      <td>2023-02-10 18:11:47.961095</td>\n",
       "      <td>2023-02-10 18:11:49.330904</td>\n",
       "      <td>0 days 00:00:01.369809</td>\n",
       "      <td>0.085355</td>\n",
       "      <td>0.3</td>\n",
       "      <td>0.022068</td>\n",
       "      <td>0.0100</td>\n",
       "      <td>5</td>\n",
       "      <td>55</td>\n",
       "      <td>2000</td>\n",
       "      <td>0.2</td>\n",
       "      <td>COMPLETE</td>\n",
       "    </tr>\n",
       "    <tr>\n",
       "      <th>9</th>\n",
       "      <td>9</td>\n",
       "      <td>4.798705e-03</td>\n",
       "      <td>2023-02-10 18:11:49.336902</td>\n",
       "      <td>2023-02-10 18:11:51.105437</td>\n",
       "      <td>0 days 00:00:01.768535</td>\n",
       "      <td>0.023857</td>\n",
       "      <td>1.0</td>\n",
       "      <td>0.002199</td>\n",
       "      <td>1.0000</td>\n",
       "      <td>5</td>\n",
       "      <td>64</td>\n",
       "      <td>20</td>\n",
       "      <td>0.8</td>\n",
       "      <td>COMPLETE</td>\n",
       "    </tr>\n",
       "  </tbody>\n",
       "</table>\n",
       "</div>"
      ],
      "text/plain": [
       "   number         value             datetime_start          datetime_complete  \\\n",
       "0       0  8.303863e+72 2023-02-10 18:11:35.400726 2023-02-10 18:11:36.908279   \n",
       "1       1  5.930147e-03 2023-02-10 18:11:36.916333 2023-02-10 18:11:38.548146   \n",
       "2       2  9.028580e+72 2023-02-10 18:11:38.555145 2023-02-10 18:11:40.229181   \n",
       "3       3  6.119619e-03 2023-02-10 18:11:40.237178 2023-02-10 18:11:41.795127   \n",
       "4       4  5.270112e-02 2023-02-10 18:11:41.801393 2023-02-10 18:11:43.224599   \n",
       "5       5  1.433031e-02 2023-02-10 18:11:43.230957 2023-02-10 18:11:45.139885   \n",
       "6       6  1.520383e-02 2023-02-10 18:11:45.146884 2023-02-10 18:11:46.671550   \n",
       "7       7  1.789379e-02 2023-02-10 18:11:46.677548 2023-02-10 18:11:47.955095   \n",
       "8       8  2.043880e-02 2023-02-10 18:11:47.961095 2023-02-10 18:11:49.330904   \n",
       "9       9  4.798705e-03 2023-02-10 18:11:49.336902 2023-02-10 18:11:51.105437   \n",
       "\n",
       "                duration  params_alpha  params_colsample_bytree  \\\n",
       "0 0 days 00:00:01.507553      5.243728                      0.3   \n",
       "1 0 days 00:00:01.631813      0.999551                      0.3   \n",
       "2 0 days 00:00:01.674036      0.001159                      0.6   \n",
       "3 0 days 00:00:01.557949      0.010214                      0.4   \n",
       "4 0 days 00:00:01.423206      0.009368                      0.4   \n",
       "5 0 days 00:00:01.908928      0.015691                      0.9   \n",
       "6 0 days 00:00:01.524666      1.622432                      0.4   \n",
       "7 0 days 00:00:01.277547      0.520041                      0.8   \n",
       "8 0 days 00:00:01.369809      0.085355                      0.3   \n",
       "9 0 days 00:00:01.768535      0.023857                      1.0   \n",
       "\n",
       "   params_lambda  params_learning_rate  params_max_depth  \\\n",
       "0       0.014197                8.0000                 7   \n",
       "1       0.002570                0.0200                 8   \n",
       "2       0.350607                8.0000                10   \n",
       "3       0.015059                1.0000                 5   \n",
       "4       0.139820                0.0003                 5   \n",
       "5       0.000166                0.0080                12   \n",
       "6       7.015763                0.0100                12   \n",
       "7       0.008952                0.0200                 3   \n",
       "8       0.022068                0.0100                 5   \n",
       "9       0.002199                1.0000                 5   \n",
       "\n",
       "   params_min_child_weight  params_random_state  params_subsample     state  \n",
       "0                      142                   20               0.5  COMPLETE  \n",
       "1                       81               243123               0.9  COMPLETE  \n",
       "2                       66                   10               0.8  COMPLETE  \n",
       "3                      101                   10               0.9  COMPLETE  \n",
       "4                      173               243123               0.5  COMPLETE  \n",
       "5                       75               243123               0.9  COMPLETE  \n",
       "6                      127                 2000               0.7  COMPLETE  \n",
       "7                      183               243123               0.7  COMPLETE  \n",
       "8                       55                 2000               0.2  COMPLETE  \n",
       "9                       64                   20               0.8  COMPLETE  "
      ]
     },
     "execution_count": 80,
     "metadata": {},
     "output_type": "execute_result"
    }
   ],
   "source": [
    "find_params.trials_dataframe()"
   ]
  },
  {
   "cell_type": "code",
   "execution_count": 81,
   "id": "6d39afbc",
   "metadata": {},
   "outputs": [
    {
     "name": "stdout",
     "output_type": "stream",
     "text": [
      "Invalid combination of input arguments. Please run 'nvidia-smi -h' for help.\n",
      "\n"
     ]
    }
   ],
   "source": [
    "!NVIDIA-SMI #TO KNOW GPU SO IN CASE OF TWO GPU U CAN GIVE ID"
   ]
  },
  {
   "cell_type": "code",
   "execution_count": 82,
   "id": "19ee8aab",
   "metadata": {},
   "outputs": [
    {
     "data": {
      "application/vnd.plotly.v1+json": {
       "config": {
        "plotlyServerURL": "https://plot.ly"
       },
       "data": [
        {
         "mode": "markers",
         "name": "Objective Value",
         "type": "scatter",
         "x": [
          0,
          1,
          2,
          3,
          4,
          5,
          6,
          7,
          8,
          9
         ],
         "y": [
          8.303862686323146e+72,
          0.005930147395731221,
          9.028579821821336e+72,
          0.006119618690723678,
          0.052701122779549366,
          0.014330310988065397,
          0.015203831216800577,
          0.017893792635816478,
          0.020438803633784794,
          0.004798704541338985
         ]
        },
        {
         "name": "Best Value",
         "type": "scatter",
         "x": [
          0,
          1,
          2,
          3,
          4,
          5,
          6,
          7,
          8,
          9
         ],
         "y": [
          8.303862686323146e+72,
          0.005930147395731221,
          0.005930147395731221,
          0.005930147395731221,
          0.005930147395731221,
          0.005930147395731221,
          0.005930147395731221,
          0.005930147395731221,
          0.005930147395731221,
          0.004798704541338985
         ]
        }
       ],
       "layout": {
        "template": {
         "data": {
          "bar": [
           {
            "error_x": {
             "color": "#2a3f5f"
            },
            "error_y": {
             "color": "#2a3f5f"
            },
            "marker": {
             "line": {
              "color": "#E5ECF6",
              "width": 0.5
             },
             "pattern": {
              "fillmode": "overlay",
              "size": 10,
              "solidity": 0.2
             }
            },
            "type": "bar"
           }
          ],
          "barpolar": [
           {
            "marker": {
             "line": {
              "color": "#E5ECF6",
              "width": 0.5
             },
             "pattern": {
              "fillmode": "overlay",
              "size": 10,
              "solidity": 0.2
             }
            },
            "type": "barpolar"
           }
          ],
          "carpet": [
           {
            "aaxis": {
             "endlinecolor": "#2a3f5f",
             "gridcolor": "white",
             "linecolor": "white",
             "minorgridcolor": "white",
             "startlinecolor": "#2a3f5f"
            },
            "baxis": {
             "endlinecolor": "#2a3f5f",
             "gridcolor": "white",
             "linecolor": "white",
             "minorgridcolor": "white",
             "startlinecolor": "#2a3f5f"
            },
            "type": "carpet"
           }
          ],
          "choropleth": [
           {
            "colorbar": {
             "outlinewidth": 0,
             "ticks": ""
            },
            "type": "choropleth"
           }
          ],
          "contour": [
           {
            "colorbar": {
             "outlinewidth": 0,
             "ticks": ""
            },
            "colorscale": [
             [
              0,
              "#0d0887"
             ],
             [
              0.1111111111111111,
              "#46039f"
             ],
             [
              0.2222222222222222,
              "#7201a8"
             ],
             [
              0.3333333333333333,
              "#9c179e"
             ],
             [
              0.4444444444444444,
              "#bd3786"
             ],
             [
              0.5555555555555556,
              "#d8576b"
             ],
             [
              0.6666666666666666,
              "#ed7953"
             ],
             [
              0.7777777777777778,
              "#fb9f3a"
             ],
             [
              0.8888888888888888,
              "#fdca26"
             ],
             [
              1,
              "#f0f921"
             ]
            ],
            "type": "contour"
           }
          ],
          "contourcarpet": [
           {
            "colorbar": {
             "outlinewidth": 0,
             "ticks": ""
            },
            "type": "contourcarpet"
           }
          ],
          "heatmap": [
           {
            "colorbar": {
             "outlinewidth": 0,
             "ticks": ""
            },
            "colorscale": [
             [
              0,
              "#0d0887"
             ],
             [
              0.1111111111111111,
              "#46039f"
             ],
             [
              0.2222222222222222,
              "#7201a8"
             ],
             [
              0.3333333333333333,
              "#9c179e"
             ],
             [
              0.4444444444444444,
              "#bd3786"
             ],
             [
              0.5555555555555556,
              "#d8576b"
             ],
             [
              0.6666666666666666,
              "#ed7953"
             ],
             [
              0.7777777777777778,
              "#fb9f3a"
             ],
             [
              0.8888888888888888,
              "#fdca26"
             ],
             [
              1,
              "#f0f921"
             ]
            ],
            "type": "heatmap"
           }
          ],
          "heatmapgl": [
           {
            "colorbar": {
             "outlinewidth": 0,
             "ticks": ""
            },
            "colorscale": [
             [
              0,
              "#0d0887"
             ],
             [
              0.1111111111111111,
              "#46039f"
             ],
             [
              0.2222222222222222,
              "#7201a8"
             ],
             [
              0.3333333333333333,
              "#9c179e"
             ],
             [
              0.4444444444444444,
              "#bd3786"
             ],
             [
              0.5555555555555556,
              "#d8576b"
             ],
             [
              0.6666666666666666,
              "#ed7953"
             ],
             [
              0.7777777777777778,
              "#fb9f3a"
             ],
             [
              0.8888888888888888,
              "#fdca26"
             ],
             [
              1,
              "#f0f921"
             ]
            ],
            "type": "heatmapgl"
           }
          ],
          "histogram": [
           {
            "marker": {
             "pattern": {
              "fillmode": "overlay",
              "size": 10,
              "solidity": 0.2
             }
            },
            "type": "histogram"
           }
          ],
          "histogram2d": [
           {
            "colorbar": {
             "outlinewidth": 0,
             "ticks": ""
            },
            "colorscale": [
             [
              0,
              "#0d0887"
             ],
             [
              0.1111111111111111,
              "#46039f"
             ],
             [
              0.2222222222222222,
              "#7201a8"
             ],
             [
              0.3333333333333333,
              "#9c179e"
             ],
             [
              0.4444444444444444,
              "#bd3786"
             ],
             [
              0.5555555555555556,
              "#d8576b"
             ],
             [
              0.6666666666666666,
              "#ed7953"
             ],
             [
              0.7777777777777778,
              "#fb9f3a"
             ],
             [
              0.8888888888888888,
              "#fdca26"
             ],
             [
              1,
              "#f0f921"
             ]
            ],
            "type": "histogram2d"
           }
          ],
          "histogram2dcontour": [
           {
            "colorbar": {
             "outlinewidth": 0,
             "ticks": ""
            },
            "colorscale": [
             [
              0,
              "#0d0887"
             ],
             [
              0.1111111111111111,
              "#46039f"
             ],
             [
              0.2222222222222222,
              "#7201a8"
             ],
             [
              0.3333333333333333,
              "#9c179e"
             ],
             [
              0.4444444444444444,
              "#bd3786"
             ],
             [
              0.5555555555555556,
              "#d8576b"
             ],
             [
              0.6666666666666666,
              "#ed7953"
             ],
             [
              0.7777777777777778,
              "#fb9f3a"
             ],
             [
              0.8888888888888888,
              "#fdca26"
             ],
             [
              1,
              "#f0f921"
             ]
            ],
            "type": "histogram2dcontour"
           }
          ],
          "mesh3d": [
           {
            "colorbar": {
             "outlinewidth": 0,
             "ticks": ""
            },
            "type": "mesh3d"
           }
          ],
          "parcoords": [
           {
            "line": {
             "colorbar": {
              "outlinewidth": 0,
              "ticks": ""
             }
            },
            "type": "parcoords"
           }
          ],
          "pie": [
           {
            "automargin": true,
            "type": "pie"
           }
          ],
          "scatter": [
           {
            "fillpattern": {
             "fillmode": "overlay",
             "size": 10,
             "solidity": 0.2
            },
            "type": "scatter"
           }
          ],
          "scatter3d": [
           {
            "line": {
             "colorbar": {
              "outlinewidth": 0,
              "ticks": ""
             }
            },
            "marker": {
             "colorbar": {
              "outlinewidth": 0,
              "ticks": ""
             }
            },
            "type": "scatter3d"
           }
          ],
          "scattercarpet": [
           {
            "marker": {
             "colorbar": {
              "outlinewidth": 0,
              "ticks": ""
             }
            },
            "type": "scattercarpet"
           }
          ],
          "scattergeo": [
           {
            "marker": {
             "colorbar": {
              "outlinewidth": 0,
              "ticks": ""
             }
            },
            "type": "scattergeo"
           }
          ],
          "scattergl": [
           {
            "marker": {
             "colorbar": {
              "outlinewidth": 0,
              "ticks": ""
             }
            },
            "type": "scattergl"
           }
          ],
          "scattermapbox": [
           {
            "marker": {
             "colorbar": {
              "outlinewidth": 0,
              "ticks": ""
             }
            },
            "type": "scattermapbox"
           }
          ],
          "scatterpolar": [
           {
            "marker": {
             "colorbar": {
              "outlinewidth": 0,
              "ticks": ""
             }
            },
            "type": "scatterpolar"
           }
          ],
          "scatterpolargl": [
           {
            "marker": {
             "colorbar": {
              "outlinewidth": 0,
              "ticks": ""
             }
            },
            "type": "scatterpolargl"
           }
          ],
          "scatterternary": [
           {
            "marker": {
             "colorbar": {
              "outlinewidth": 0,
              "ticks": ""
             }
            },
            "type": "scatterternary"
           }
          ],
          "surface": [
           {
            "colorbar": {
             "outlinewidth": 0,
             "ticks": ""
            },
            "colorscale": [
             [
              0,
              "#0d0887"
             ],
             [
              0.1111111111111111,
              "#46039f"
             ],
             [
              0.2222222222222222,
              "#7201a8"
             ],
             [
              0.3333333333333333,
              "#9c179e"
             ],
             [
              0.4444444444444444,
              "#bd3786"
             ],
             [
              0.5555555555555556,
              "#d8576b"
             ],
             [
              0.6666666666666666,
              "#ed7953"
             ],
             [
              0.7777777777777778,
              "#fb9f3a"
             ],
             [
              0.8888888888888888,
              "#fdca26"
             ],
             [
              1,
              "#f0f921"
             ]
            ],
            "type": "surface"
           }
          ],
          "table": [
           {
            "cells": {
             "fill": {
              "color": "#EBF0F8"
             },
             "line": {
              "color": "white"
             }
            },
            "header": {
             "fill": {
              "color": "#C8D4E3"
             },
             "line": {
              "color": "white"
             }
            },
            "type": "table"
           }
          ]
         },
         "layout": {
          "annotationdefaults": {
           "arrowcolor": "#2a3f5f",
           "arrowhead": 0,
           "arrowwidth": 1
          },
          "autotypenumbers": "strict",
          "coloraxis": {
           "colorbar": {
            "outlinewidth": 0,
            "ticks": ""
           }
          },
          "colorscale": {
           "diverging": [
            [
             0,
             "#8e0152"
            ],
            [
             0.1,
             "#c51b7d"
            ],
            [
             0.2,
             "#de77ae"
            ],
            [
             0.3,
             "#f1b6da"
            ],
            [
             0.4,
             "#fde0ef"
            ],
            [
             0.5,
             "#f7f7f7"
            ],
            [
             0.6,
             "#e6f5d0"
            ],
            [
             0.7,
             "#b8e186"
            ],
            [
             0.8,
             "#7fbc41"
            ],
            [
             0.9,
             "#4d9221"
            ],
            [
             1,
             "#276419"
            ]
           ],
           "sequential": [
            [
             0,
             "#0d0887"
            ],
            [
             0.1111111111111111,
             "#46039f"
            ],
            [
             0.2222222222222222,
             "#7201a8"
            ],
            [
             0.3333333333333333,
             "#9c179e"
            ],
            [
             0.4444444444444444,
             "#bd3786"
            ],
            [
             0.5555555555555556,
             "#d8576b"
            ],
            [
             0.6666666666666666,
             "#ed7953"
            ],
            [
             0.7777777777777778,
             "#fb9f3a"
            ],
            [
             0.8888888888888888,
             "#fdca26"
            ],
            [
             1,
             "#f0f921"
            ]
           ],
           "sequentialminus": [
            [
             0,
             "#0d0887"
            ],
            [
             0.1111111111111111,
             "#46039f"
            ],
            [
             0.2222222222222222,
             "#7201a8"
            ],
            [
             0.3333333333333333,
             "#9c179e"
            ],
            [
             0.4444444444444444,
             "#bd3786"
            ],
            [
             0.5555555555555556,
             "#d8576b"
            ],
            [
             0.6666666666666666,
             "#ed7953"
            ],
            [
             0.7777777777777778,
             "#fb9f3a"
            ],
            [
             0.8888888888888888,
             "#fdca26"
            ],
            [
             1,
             "#f0f921"
            ]
           ]
          },
          "colorway": [
           "#636efa",
           "#EF553B",
           "#00cc96",
           "#ab63fa",
           "#FFA15A",
           "#19d3f3",
           "#FF6692",
           "#B6E880",
           "#FF97FF",
           "#FECB52"
          ],
          "font": {
           "color": "#2a3f5f"
          },
          "geo": {
           "bgcolor": "white",
           "lakecolor": "white",
           "landcolor": "#E5ECF6",
           "showlakes": true,
           "showland": true,
           "subunitcolor": "white"
          },
          "hoverlabel": {
           "align": "left"
          },
          "hovermode": "closest",
          "mapbox": {
           "style": "light"
          },
          "paper_bgcolor": "white",
          "plot_bgcolor": "#E5ECF6",
          "polar": {
           "angularaxis": {
            "gridcolor": "white",
            "linecolor": "white",
            "ticks": ""
           },
           "bgcolor": "#E5ECF6",
           "radialaxis": {
            "gridcolor": "white",
            "linecolor": "white",
            "ticks": ""
           }
          },
          "scene": {
           "xaxis": {
            "backgroundcolor": "#E5ECF6",
            "gridcolor": "white",
            "gridwidth": 2,
            "linecolor": "white",
            "showbackground": true,
            "ticks": "",
            "zerolinecolor": "white"
           },
           "yaxis": {
            "backgroundcolor": "#E5ECF6",
            "gridcolor": "white",
            "gridwidth": 2,
            "linecolor": "white",
            "showbackground": true,
            "ticks": "",
            "zerolinecolor": "white"
           },
           "zaxis": {
            "backgroundcolor": "#E5ECF6",
            "gridcolor": "white",
            "gridwidth": 2,
            "linecolor": "white",
            "showbackground": true,
            "ticks": "",
            "zerolinecolor": "white"
           }
          },
          "shapedefaults": {
           "line": {
            "color": "#2a3f5f"
           }
          },
          "ternary": {
           "aaxis": {
            "gridcolor": "white",
            "linecolor": "white",
            "ticks": ""
           },
           "baxis": {
            "gridcolor": "white",
            "linecolor": "white",
            "ticks": ""
           },
           "bgcolor": "#E5ECF6",
           "caxis": {
            "gridcolor": "white",
            "linecolor": "white",
            "ticks": ""
           }
          },
          "title": {
           "x": 0.05
          },
          "xaxis": {
           "automargin": true,
           "gridcolor": "white",
           "linecolor": "white",
           "ticks": "",
           "title": {
            "standoff": 15
           },
           "zerolinecolor": "white",
           "zerolinewidth": 2
          },
          "yaxis": {
           "automargin": true,
           "gridcolor": "white",
           "linecolor": "white",
           "ticks": "",
           "title": {
            "standoff": 15
           },
           "zerolinecolor": "white",
           "zerolinewidth": 2
          }
         }
        },
        "title": {
         "text": "Optimization History Plot"
        },
        "xaxis": {
         "title": {
          "text": "Trial"
         }
        },
        "yaxis": {
         "title": {
          "text": "Objective Value"
         }
        }
       }
      },
      "text/html": [
       "<div>                            <div id=\"27290f9f-4174-4350-8527-6524b29151e3\" class=\"plotly-graph-div\" style=\"height:525px; width:100%;\"></div>            <script type=\"text/javascript\">                require([\"plotly\"], function(Plotly) {                    window.PLOTLYENV=window.PLOTLYENV || {};                                    if (document.getElementById(\"27290f9f-4174-4350-8527-6524b29151e3\")) {                    Plotly.newPlot(                        \"27290f9f-4174-4350-8527-6524b29151e3\",                        [{\"mode\":\"markers\",\"name\":\"Objective Value\",\"x\":[0,1,2,3,4,5,6,7,8,9],\"y\":[8.303862686323146e+72,0.005930147395731221,9.028579821821336e+72,0.006119618690723678,0.052701122779549366,0.014330310988065397,0.015203831216800577,0.017893792635816478,0.020438803633784794,0.004798704541338985],\"type\":\"scatter\"},{\"name\":\"Best Value\",\"x\":[0,1,2,3,4,5,6,7,8,9],\"y\":[8.303862686323146e+72,0.005930147395731221,0.005930147395731221,0.005930147395731221,0.005930147395731221,0.005930147395731221,0.005930147395731221,0.005930147395731221,0.005930147395731221,0.004798704541338985],\"type\":\"scatter\"}],                        {\"title\":{\"text\":\"Optimization History Plot\"},\"xaxis\":{\"title\":{\"text\":\"Trial\"}},\"yaxis\":{\"title\":{\"text\":\"Objective Value\"}},\"template\":{\"data\":{\"histogram2dcontour\":[{\"type\":\"histogram2dcontour\",\"colorbar\":{\"outlinewidth\":0,\"ticks\":\"\"},\"colorscale\":[[0.0,\"#0d0887\"],[0.1111111111111111,\"#46039f\"],[0.2222222222222222,\"#7201a8\"],[0.3333333333333333,\"#9c179e\"],[0.4444444444444444,\"#bd3786\"],[0.5555555555555556,\"#d8576b\"],[0.6666666666666666,\"#ed7953\"],[0.7777777777777778,\"#fb9f3a\"],[0.8888888888888888,\"#fdca26\"],[1.0,\"#f0f921\"]]}],\"choropleth\":[{\"type\":\"choropleth\",\"colorbar\":{\"outlinewidth\":0,\"ticks\":\"\"}}],\"histogram2d\":[{\"type\":\"histogram2d\",\"colorbar\":{\"outlinewidth\":0,\"ticks\":\"\"},\"colorscale\":[[0.0,\"#0d0887\"],[0.1111111111111111,\"#46039f\"],[0.2222222222222222,\"#7201a8\"],[0.3333333333333333,\"#9c179e\"],[0.4444444444444444,\"#bd3786\"],[0.5555555555555556,\"#d8576b\"],[0.6666666666666666,\"#ed7953\"],[0.7777777777777778,\"#fb9f3a\"],[0.8888888888888888,\"#fdca26\"],[1.0,\"#f0f921\"]]}],\"heatmap\":[{\"type\":\"heatmap\",\"colorbar\":{\"outlinewidth\":0,\"ticks\":\"\"},\"colorscale\":[[0.0,\"#0d0887\"],[0.1111111111111111,\"#46039f\"],[0.2222222222222222,\"#7201a8\"],[0.3333333333333333,\"#9c179e\"],[0.4444444444444444,\"#bd3786\"],[0.5555555555555556,\"#d8576b\"],[0.6666666666666666,\"#ed7953\"],[0.7777777777777778,\"#fb9f3a\"],[0.8888888888888888,\"#fdca26\"],[1.0,\"#f0f921\"]]}],\"heatmapgl\":[{\"type\":\"heatmapgl\",\"colorbar\":{\"outlinewidth\":0,\"ticks\":\"\"},\"colorscale\":[[0.0,\"#0d0887\"],[0.1111111111111111,\"#46039f\"],[0.2222222222222222,\"#7201a8\"],[0.3333333333333333,\"#9c179e\"],[0.4444444444444444,\"#bd3786\"],[0.5555555555555556,\"#d8576b\"],[0.6666666666666666,\"#ed7953\"],[0.7777777777777778,\"#fb9f3a\"],[0.8888888888888888,\"#fdca26\"],[1.0,\"#f0f921\"]]}],\"contourcarpet\":[{\"type\":\"contourcarpet\",\"colorbar\":{\"outlinewidth\":0,\"ticks\":\"\"}}],\"contour\":[{\"type\":\"contour\",\"colorbar\":{\"outlinewidth\":0,\"ticks\":\"\"},\"colorscale\":[[0.0,\"#0d0887\"],[0.1111111111111111,\"#46039f\"],[0.2222222222222222,\"#7201a8\"],[0.3333333333333333,\"#9c179e\"],[0.4444444444444444,\"#bd3786\"],[0.5555555555555556,\"#d8576b\"],[0.6666666666666666,\"#ed7953\"],[0.7777777777777778,\"#fb9f3a\"],[0.8888888888888888,\"#fdca26\"],[1.0,\"#f0f921\"]]}],\"surface\":[{\"type\":\"surface\",\"colorbar\":{\"outlinewidth\":0,\"ticks\":\"\"},\"colorscale\":[[0.0,\"#0d0887\"],[0.1111111111111111,\"#46039f\"],[0.2222222222222222,\"#7201a8\"],[0.3333333333333333,\"#9c179e\"],[0.4444444444444444,\"#bd3786\"],[0.5555555555555556,\"#d8576b\"],[0.6666666666666666,\"#ed7953\"],[0.7777777777777778,\"#fb9f3a\"],[0.8888888888888888,\"#fdca26\"],[1.0,\"#f0f921\"]]}],\"mesh3d\":[{\"type\":\"mesh3d\",\"colorbar\":{\"outlinewidth\":0,\"ticks\":\"\"}}],\"scatter\":[{\"fillpattern\":{\"fillmode\":\"overlay\",\"size\":10,\"solidity\":0.2},\"type\":\"scatter\"}],\"parcoords\":[{\"type\":\"parcoords\",\"line\":{\"colorbar\":{\"outlinewidth\":0,\"ticks\":\"\"}}}],\"scatterpolargl\":[{\"type\":\"scatterpolargl\",\"marker\":{\"colorbar\":{\"outlinewidth\":0,\"ticks\":\"\"}}}],\"bar\":[{\"error_x\":{\"color\":\"#2a3f5f\"},\"error_y\":{\"color\":\"#2a3f5f\"},\"marker\":{\"line\":{\"color\":\"#E5ECF6\",\"width\":0.5},\"pattern\":{\"fillmode\":\"overlay\",\"size\":10,\"solidity\":0.2}},\"type\":\"bar\"}],\"scattergeo\":[{\"type\":\"scattergeo\",\"marker\":{\"colorbar\":{\"outlinewidth\":0,\"ticks\":\"\"}}}],\"scatterpolar\":[{\"type\":\"scatterpolar\",\"marker\":{\"colorbar\":{\"outlinewidth\":0,\"ticks\":\"\"}}}],\"histogram\":[{\"marker\":{\"pattern\":{\"fillmode\":\"overlay\",\"size\":10,\"solidity\":0.2}},\"type\":\"histogram\"}],\"scattergl\":[{\"type\":\"scattergl\",\"marker\":{\"colorbar\":{\"outlinewidth\":0,\"ticks\":\"\"}}}],\"scatter3d\":[{\"type\":\"scatter3d\",\"line\":{\"colorbar\":{\"outlinewidth\":0,\"ticks\":\"\"}},\"marker\":{\"colorbar\":{\"outlinewidth\":0,\"ticks\":\"\"}}}],\"scattermapbox\":[{\"type\":\"scattermapbox\",\"marker\":{\"colorbar\":{\"outlinewidth\":0,\"ticks\":\"\"}}}],\"scatterternary\":[{\"type\":\"scatterternary\",\"marker\":{\"colorbar\":{\"outlinewidth\":0,\"ticks\":\"\"}}}],\"scattercarpet\":[{\"type\":\"scattercarpet\",\"marker\":{\"colorbar\":{\"outlinewidth\":0,\"ticks\":\"\"}}}],\"carpet\":[{\"aaxis\":{\"endlinecolor\":\"#2a3f5f\",\"gridcolor\":\"white\",\"linecolor\":\"white\",\"minorgridcolor\":\"white\",\"startlinecolor\":\"#2a3f5f\"},\"baxis\":{\"endlinecolor\":\"#2a3f5f\",\"gridcolor\":\"white\",\"linecolor\":\"white\",\"minorgridcolor\":\"white\",\"startlinecolor\":\"#2a3f5f\"},\"type\":\"carpet\"}],\"table\":[{\"cells\":{\"fill\":{\"color\":\"#EBF0F8\"},\"line\":{\"color\":\"white\"}},\"header\":{\"fill\":{\"color\":\"#C8D4E3\"},\"line\":{\"color\":\"white\"}},\"type\":\"table\"}],\"barpolar\":[{\"marker\":{\"line\":{\"color\":\"#E5ECF6\",\"width\":0.5},\"pattern\":{\"fillmode\":\"overlay\",\"size\":10,\"solidity\":0.2}},\"type\":\"barpolar\"}],\"pie\":[{\"automargin\":true,\"type\":\"pie\"}]},\"layout\":{\"autotypenumbers\":\"strict\",\"colorway\":[\"#636efa\",\"#EF553B\",\"#00cc96\",\"#ab63fa\",\"#FFA15A\",\"#19d3f3\",\"#FF6692\",\"#B6E880\",\"#FF97FF\",\"#FECB52\"],\"font\":{\"color\":\"#2a3f5f\"},\"hovermode\":\"closest\",\"hoverlabel\":{\"align\":\"left\"},\"paper_bgcolor\":\"white\",\"plot_bgcolor\":\"#E5ECF6\",\"polar\":{\"bgcolor\":\"#E5ECF6\",\"angularaxis\":{\"gridcolor\":\"white\",\"linecolor\":\"white\",\"ticks\":\"\"},\"radialaxis\":{\"gridcolor\":\"white\",\"linecolor\":\"white\",\"ticks\":\"\"}},\"ternary\":{\"bgcolor\":\"#E5ECF6\",\"aaxis\":{\"gridcolor\":\"white\",\"linecolor\":\"white\",\"ticks\":\"\"},\"baxis\":{\"gridcolor\":\"white\",\"linecolor\":\"white\",\"ticks\":\"\"},\"caxis\":{\"gridcolor\":\"white\",\"linecolor\":\"white\",\"ticks\":\"\"}},\"coloraxis\":{\"colorbar\":{\"outlinewidth\":0,\"ticks\":\"\"}},\"colorscale\":{\"sequential\":[[0.0,\"#0d0887\"],[0.1111111111111111,\"#46039f\"],[0.2222222222222222,\"#7201a8\"],[0.3333333333333333,\"#9c179e\"],[0.4444444444444444,\"#bd3786\"],[0.5555555555555556,\"#d8576b\"],[0.6666666666666666,\"#ed7953\"],[0.7777777777777778,\"#fb9f3a\"],[0.8888888888888888,\"#fdca26\"],[1.0,\"#f0f921\"]],\"sequentialminus\":[[0.0,\"#0d0887\"],[0.1111111111111111,\"#46039f\"],[0.2222222222222222,\"#7201a8\"],[0.3333333333333333,\"#9c179e\"],[0.4444444444444444,\"#bd3786\"],[0.5555555555555556,\"#d8576b\"],[0.6666666666666666,\"#ed7953\"],[0.7777777777777778,\"#fb9f3a\"],[0.8888888888888888,\"#fdca26\"],[1.0,\"#f0f921\"]],\"diverging\":[[0,\"#8e0152\"],[0.1,\"#c51b7d\"],[0.2,\"#de77ae\"],[0.3,\"#f1b6da\"],[0.4,\"#fde0ef\"],[0.5,\"#f7f7f7\"],[0.6,\"#e6f5d0\"],[0.7,\"#b8e186\"],[0.8,\"#7fbc41\"],[0.9,\"#4d9221\"],[1,\"#276419\"]]},\"xaxis\":{\"gridcolor\":\"white\",\"linecolor\":\"white\",\"ticks\":\"\",\"title\":{\"standoff\":15},\"zerolinecolor\":\"white\",\"automargin\":true,\"zerolinewidth\":2},\"yaxis\":{\"gridcolor\":\"white\",\"linecolor\":\"white\",\"ticks\":\"\",\"title\":{\"standoff\":15},\"zerolinecolor\":\"white\",\"automargin\":true,\"zerolinewidth\":2},\"scene\":{\"xaxis\":{\"backgroundcolor\":\"#E5ECF6\",\"gridcolor\":\"white\",\"linecolor\":\"white\",\"showbackground\":true,\"ticks\":\"\",\"zerolinecolor\":\"white\",\"gridwidth\":2},\"yaxis\":{\"backgroundcolor\":\"#E5ECF6\",\"gridcolor\":\"white\",\"linecolor\":\"white\",\"showbackground\":true,\"ticks\":\"\",\"zerolinecolor\":\"white\",\"gridwidth\":2},\"zaxis\":{\"backgroundcolor\":\"#E5ECF6\",\"gridcolor\":\"white\",\"linecolor\":\"white\",\"showbackground\":true,\"ticks\":\"\",\"zerolinecolor\":\"white\",\"gridwidth\":2}},\"shapedefaults\":{\"line\":{\"color\":\"#2a3f5f\"}},\"annotationdefaults\":{\"arrowcolor\":\"#2a3f5f\",\"arrowhead\":0,\"arrowwidth\":1},\"geo\":{\"bgcolor\":\"white\",\"landcolor\":\"#E5ECF6\",\"subunitcolor\":\"white\",\"showland\":true,\"showlakes\":true,\"lakecolor\":\"white\"},\"title\":{\"x\":0.05},\"mapbox\":{\"style\":\"light\"}}}},                        {\"responsive\": true}                    ).then(function(){\n",
       "                            \n",
       "var gd = document.getElementById('27290f9f-4174-4350-8527-6524b29151e3');\n",
       "var x = new MutationObserver(function (mutations, observer) {{\n",
       "        var display = window.getComputedStyle(gd).display;\n",
       "        if (!display || display === 'none') {{\n",
       "            console.log([gd, 'removed!']);\n",
       "            Plotly.purge(gd);\n",
       "            observer.disconnect();\n",
       "        }}\n",
       "}});\n",
       "\n",
       "// Listen for the removal of the full notebook cells\n",
       "var notebookContainer = gd.closest('#notebook-container');\n",
       "if (notebookContainer) {{\n",
       "    x.observe(notebookContainer, {childList: true});\n",
       "}}\n",
       "\n",
       "// Listen for the clearing of the current output cell\n",
       "var outputEl = gd.closest('.output');\n",
       "if (outputEl) {{\n",
       "    x.observe(outputEl, {childList: true});\n",
       "}}\n",
       "\n",
       "                        })                };                });            </script>        </div>"
      ]
     },
     "metadata": {},
     "output_type": "display_data"
    }
   ],
   "source": [
    "optuna.visualization.plot_optimization_history(find_params)"
   ]
  },
  {
   "cell_type": "code",
   "execution_count": 83,
   "id": "4da5c862",
   "metadata": {},
   "outputs": [
    {
     "data": {
      "application/vnd.plotly.v1+json": {
       "config": {
        "plotlyServerURL": "https://plot.ly"
       },
       "data": [
        {
         "marker": {
          "color": [
           0,
           1,
           2,
           3,
           4,
           5,
           6,
           7,
           8,
           9
          ],
          "colorbar": {
           "title": {
            "text": "Trial"
           },
           "x": 1,
           "xpad": 40
          },
          "colorscale": [
           [
            0,
            "rgb(247,251,255)"
           ],
           [
            0.125,
            "rgb(222,235,247)"
           ],
           [
            0.25,
            "rgb(198,219,239)"
           ],
           [
            0.375,
            "rgb(158,202,225)"
           ],
           [
            0.5,
            "rgb(107,174,214)"
           ],
           [
            0.625,
            "rgb(66,146,198)"
           ],
           [
            0.75,
            "rgb(33,113,181)"
           ],
           [
            0.875,
            "rgb(8,81,156)"
           ],
           [
            1,
            "rgb(8,48,107)"
           ]
          ],
          "line": {
           "color": "Grey",
           "width": 0.5
          },
          "showscale": true
         },
         "mode": "markers",
         "showlegend": false,
         "type": "scatter",
         "x": [
          5.243727508262309,
          0.9995506024274605,
          0.001159057281885609,
          0.010213825209498817,
          0.009368214306835458,
          0.01569132847003637,
          1.622432331738912,
          0.520041367568177,
          0.08535460217348156,
          0.023857162070464837
         ],
         "xaxis": "x",
         "y": [
          8.303862686323146e+72,
          0.005930147395731221,
          9.028579821821336e+72,
          0.006119618690723678,
          0.052701122779549366,
          0.014330310988065397,
          0.015203831216800577,
          0.017893792635816478,
          0.020438803633784794,
          0.004798704541338985
         ],
         "yaxis": "y"
        },
        {
         "marker": {
          "color": [
           0,
           1,
           2,
           3,
           4,
           5,
           6,
           7,
           8,
           9
          ],
          "colorbar": {
           "title": {
            "text": "Trial"
           },
           "x": 1,
           "xpad": 40
          },
          "colorscale": [
           [
            0,
            "rgb(247,251,255)"
           ],
           [
            0.125,
            "rgb(222,235,247)"
           ],
           [
            0.25,
            "rgb(198,219,239)"
           ],
           [
            0.375,
            "rgb(158,202,225)"
           ],
           [
            0.5,
            "rgb(107,174,214)"
           ],
           [
            0.625,
            "rgb(66,146,198)"
           ],
           [
            0.75,
            "rgb(33,113,181)"
           ],
           [
            0.875,
            "rgb(8,81,156)"
           ],
           [
            1,
            "rgb(8,48,107)"
           ]
          ],
          "line": {
           "color": "Grey",
           "width": 0.5
          },
          "showscale": false
         },
         "mode": "markers",
         "showlegend": false,
         "type": "scatter",
         "x": [
          0.3,
          0.3,
          0.6,
          0.4,
          0.4,
          0.9,
          0.4,
          0.8,
          0.3,
          1
         ],
         "xaxis": "x2",
         "y": [
          8.303862686323146e+72,
          0.005930147395731221,
          9.028579821821336e+72,
          0.006119618690723678,
          0.052701122779549366,
          0.014330310988065397,
          0.015203831216800577,
          0.017893792635816478,
          0.020438803633784794,
          0.004798704541338985
         ],
         "yaxis": "y2"
        },
        {
         "marker": {
          "color": [
           0,
           1,
           2,
           3,
           4,
           5,
           6,
           7,
           8,
           9
          ],
          "colorbar": {
           "title": {
            "text": "Trial"
           },
           "x": 1,
           "xpad": 40
          },
          "colorscale": [
           [
            0,
            "rgb(247,251,255)"
           ],
           [
            0.125,
            "rgb(222,235,247)"
           ],
           [
            0.25,
            "rgb(198,219,239)"
           ],
           [
            0.375,
            "rgb(158,202,225)"
           ],
           [
            0.5,
            "rgb(107,174,214)"
           ],
           [
            0.625,
            "rgb(66,146,198)"
           ],
           [
            0.75,
            "rgb(33,113,181)"
           ],
           [
            0.875,
            "rgb(8,81,156)"
           ],
           [
            1,
            "rgb(8,48,107)"
           ]
          ],
          "line": {
           "color": "Grey",
           "width": 0.5
          },
          "showscale": false
         },
         "mode": "markers",
         "showlegend": false,
         "type": "scatter",
         "x": [
          0.014196913209920862,
          0.0025704462445794328,
          0.350606819393763,
          0.01505916471731097,
          0.13982004622695032,
          0.00016611553729766674,
          7.01576329586579,
          0.008951729841361741,
          0.02206793877957743,
          0.0021989489904092083
         ],
         "xaxis": "x3",
         "y": [
          8.303862686323146e+72,
          0.005930147395731221,
          9.028579821821336e+72,
          0.006119618690723678,
          0.052701122779549366,
          0.014330310988065397,
          0.015203831216800577,
          0.017893792635816478,
          0.020438803633784794,
          0.004798704541338985
         ],
         "yaxis": "y3"
        },
        {
         "marker": {
          "color": [
           0,
           1,
           2,
           3,
           4,
           5,
           6,
           7,
           8,
           9
          ],
          "colorbar": {
           "title": {
            "text": "Trial"
           },
           "x": 1,
           "xpad": 40
          },
          "colorscale": [
           [
            0,
            "rgb(247,251,255)"
           ],
           [
            0.125,
            "rgb(222,235,247)"
           ],
           [
            0.25,
            "rgb(198,219,239)"
           ],
           [
            0.375,
            "rgb(158,202,225)"
           ],
           [
            0.5,
            "rgb(107,174,214)"
           ],
           [
            0.625,
            "rgb(66,146,198)"
           ],
           [
            0.75,
            "rgb(33,113,181)"
           ],
           [
            0.875,
            "rgb(8,81,156)"
           ],
           [
            1,
            "rgb(8,48,107)"
           ]
          ],
          "line": {
           "color": "Grey",
           "width": 0.5
          },
          "showscale": false
         },
         "mode": "markers",
         "showlegend": false,
         "type": "scatter",
         "x": [
          8,
          0.02,
          8,
          1,
          0.0003,
          0.008,
          0.01,
          0.02,
          0.01,
          1
         ],
         "xaxis": "x4",
         "y": [
          8.303862686323146e+72,
          0.005930147395731221,
          9.028579821821336e+72,
          0.006119618690723678,
          0.052701122779549366,
          0.014330310988065397,
          0.015203831216800577,
          0.017893792635816478,
          0.020438803633784794,
          0.004798704541338985
         ],
         "yaxis": "y4"
        },
        {
         "marker": {
          "color": [
           0,
           1,
           2,
           3,
           4,
           5,
           6,
           7,
           8,
           9
          ],
          "colorbar": {
           "title": {
            "text": "Trial"
           },
           "x": 1,
           "xpad": 40
          },
          "colorscale": [
           [
            0,
            "rgb(247,251,255)"
           ],
           [
            0.125,
            "rgb(222,235,247)"
           ],
           [
            0.25,
            "rgb(198,219,239)"
           ],
           [
            0.375,
            "rgb(158,202,225)"
           ],
           [
            0.5,
            "rgb(107,174,214)"
           ],
           [
            0.625,
            "rgb(66,146,198)"
           ],
           [
            0.75,
            "rgb(33,113,181)"
           ],
           [
            0.875,
            "rgb(8,81,156)"
           ],
           [
            1,
            "rgb(8,48,107)"
           ]
          ],
          "line": {
           "color": "Grey",
           "width": 0.5
          },
          "showscale": false
         },
         "mode": "markers",
         "showlegend": false,
         "type": "scatter",
         "x": [
          7,
          8,
          10,
          5,
          5,
          12,
          12,
          3,
          5,
          5
         ],
         "xaxis": "x5",
         "y": [
          8.303862686323146e+72,
          0.005930147395731221,
          9.028579821821336e+72,
          0.006119618690723678,
          0.052701122779549366,
          0.014330310988065397,
          0.015203831216800577,
          0.017893792635816478,
          0.020438803633784794,
          0.004798704541338985
         ],
         "yaxis": "y5"
        },
        {
         "marker": {
          "color": [
           0,
           1,
           2,
           3,
           4,
           5,
           6,
           7,
           8,
           9
          ],
          "colorbar": {
           "title": {
            "text": "Trial"
           },
           "x": 1,
           "xpad": 40
          },
          "colorscale": [
           [
            0,
            "rgb(247,251,255)"
           ],
           [
            0.125,
            "rgb(222,235,247)"
           ],
           [
            0.25,
            "rgb(198,219,239)"
           ],
           [
            0.375,
            "rgb(158,202,225)"
           ],
           [
            0.5,
            "rgb(107,174,214)"
           ],
           [
            0.625,
            "rgb(66,146,198)"
           ],
           [
            0.75,
            "rgb(33,113,181)"
           ],
           [
            0.875,
            "rgb(8,81,156)"
           ],
           [
            1,
            "rgb(8,48,107)"
           ]
          ],
          "line": {
           "color": "Grey",
           "width": 0.5
          },
          "showscale": false
         },
         "mode": "markers",
         "showlegend": false,
         "type": "scatter",
         "x": [
          142,
          81,
          66,
          101,
          173,
          75,
          127,
          183,
          55,
          64
         ],
         "xaxis": "x6",
         "y": [
          8.303862686323146e+72,
          0.005930147395731221,
          9.028579821821336e+72,
          0.006119618690723678,
          0.052701122779549366,
          0.014330310988065397,
          0.015203831216800577,
          0.017893792635816478,
          0.020438803633784794,
          0.004798704541338985
         ],
         "yaxis": "y6"
        },
        {
         "marker": {
          "color": [
           0,
           1,
           2,
           3,
           4,
           5,
           6,
           7,
           8,
           9
          ],
          "colorbar": {
           "title": {
            "text": "Trial"
           },
           "x": 1,
           "xpad": 40
          },
          "colorscale": [
           [
            0,
            "rgb(247,251,255)"
           ],
           [
            0.125,
            "rgb(222,235,247)"
           ],
           [
            0.25,
            "rgb(198,219,239)"
           ],
           [
            0.375,
            "rgb(158,202,225)"
           ],
           [
            0.5,
            "rgb(107,174,214)"
           ],
           [
            0.625,
            "rgb(66,146,198)"
           ],
           [
            0.75,
            "rgb(33,113,181)"
           ],
           [
            0.875,
            "rgb(8,81,156)"
           ],
           [
            1,
            "rgb(8,48,107)"
           ]
          ],
          "line": {
           "color": "Grey",
           "width": 0.5
          },
          "showscale": false
         },
         "mode": "markers",
         "showlegend": false,
         "type": "scatter",
         "x": [
          20,
          243123,
          10,
          10,
          243123,
          243123,
          2000,
          243123,
          2000,
          20
         ],
         "xaxis": "x7",
         "y": [
          8.303862686323146e+72,
          0.005930147395731221,
          9.028579821821336e+72,
          0.006119618690723678,
          0.052701122779549366,
          0.014330310988065397,
          0.015203831216800577,
          0.017893792635816478,
          0.020438803633784794,
          0.004798704541338985
         ],
         "yaxis": "y7"
        },
        {
         "marker": {
          "color": [
           0,
           1,
           2,
           3,
           4,
           5,
           6,
           7,
           8,
           9
          ],
          "colorbar": {
           "title": {
            "text": "Trial"
           },
           "x": 1,
           "xpad": 40
          },
          "colorscale": [
           [
            0,
            "rgb(247,251,255)"
           ],
           [
            0.125,
            "rgb(222,235,247)"
           ],
           [
            0.25,
            "rgb(198,219,239)"
           ],
           [
            0.375,
            "rgb(158,202,225)"
           ],
           [
            0.5,
            "rgb(107,174,214)"
           ],
           [
            0.625,
            "rgb(66,146,198)"
           ],
           [
            0.75,
            "rgb(33,113,181)"
           ],
           [
            0.875,
            "rgb(8,81,156)"
           ],
           [
            1,
            "rgb(8,48,107)"
           ]
          ],
          "line": {
           "color": "Grey",
           "width": 0.5
          },
          "showscale": false
         },
         "mode": "markers",
         "showlegend": false,
         "type": "scatter",
         "x": [
          0.5,
          0.9,
          0.8,
          0.9,
          0.5,
          0.9,
          0.7,
          0.7,
          0.2,
          0.8
         ],
         "xaxis": "x8",
         "y": [
          8.303862686323146e+72,
          0.005930147395731221,
          9.028579821821336e+72,
          0.006119618690723678,
          0.052701122779549366,
          0.014330310988065397,
          0.015203831216800577,
          0.017893792635816478,
          0.020438803633784794,
          0.004798704541338985
         ],
         "yaxis": "y8"
        }
       ],
       "layout": {
        "template": {
         "data": {
          "bar": [
           {
            "error_x": {
             "color": "#2a3f5f"
            },
            "error_y": {
             "color": "#2a3f5f"
            },
            "marker": {
             "line": {
              "color": "#E5ECF6",
              "width": 0.5
             },
             "pattern": {
              "fillmode": "overlay",
              "size": 10,
              "solidity": 0.2
             }
            },
            "type": "bar"
           }
          ],
          "barpolar": [
           {
            "marker": {
             "line": {
              "color": "#E5ECF6",
              "width": 0.5
             },
             "pattern": {
              "fillmode": "overlay",
              "size": 10,
              "solidity": 0.2
             }
            },
            "type": "barpolar"
           }
          ],
          "carpet": [
           {
            "aaxis": {
             "endlinecolor": "#2a3f5f",
             "gridcolor": "white",
             "linecolor": "white",
             "minorgridcolor": "white",
             "startlinecolor": "#2a3f5f"
            },
            "baxis": {
             "endlinecolor": "#2a3f5f",
             "gridcolor": "white",
             "linecolor": "white",
             "minorgridcolor": "white",
             "startlinecolor": "#2a3f5f"
            },
            "type": "carpet"
           }
          ],
          "choropleth": [
           {
            "colorbar": {
             "outlinewidth": 0,
             "ticks": ""
            },
            "type": "choropleth"
           }
          ],
          "contour": [
           {
            "colorbar": {
             "outlinewidth": 0,
             "ticks": ""
            },
            "colorscale": [
             [
              0,
              "#0d0887"
             ],
             [
              0.1111111111111111,
              "#46039f"
             ],
             [
              0.2222222222222222,
              "#7201a8"
             ],
             [
              0.3333333333333333,
              "#9c179e"
             ],
             [
              0.4444444444444444,
              "#bd3786"
             ],
             [
              0.5555555555555556,
              "#d8576b"
             ],
             [
              0.6666666666666666,
              "#ed7953"
             ],
             [
              0.7777777777777778,
              "#fb9f3a"
             ],
             [
              0.8888888888888888,
              "#fdca26"
             ],
             [
              1,
              "#f0f921"
             ]
            ],
            "type": "contour"
           }
          ],
          "contourcarpet": [
           {
            "colorbar": {
             "outlinewidth": 0,
             "ticks": ""
            },
            "type": "contourcarpet"
           }
          ],
          "heatmap": [
           {
            "colorbar": {
             "outlinewidth": 0,
             "ticks": ""
            },
            "colorscale": [
             [
              0,
              "#0d0887"
             ],
             [
              0.1111111111111111,
              "#46039f"
             ],
             [
              0.2222222222222222,
              "#7201a8"
             ],
             [
              0.3333333333333333,
              "#9c179e"
             ],
             [
              0.4444444444444444,
              "#bd3786"
             ],
             [
              0.5555555555555556,
              "#d8576b"
             ],
             [
              0.6666666666666666,
              "#ed7953"
             ],
             [
              0.7777777777777778,
              "#fb9f3a"
             ],
             [
              0.8888888888888888,
              "#fdca26"
             ],
             [
              1,
              "#f0f921"
             ]
            ],
            "type": "heatmap"
           }
          ],
          "heatmapgl": [
           {
            "colorbar": {
             "outlinewidth": 0,
             "ticks": ""
            },
            "colorscale": [
             [
              0,
              "#0d0887"
             ],
             [
              0.1111111111111111,
              "#46039f"
             ],
             [
              0.2222222222222222,
              "#7201a8"
             ],
             [
              0.3333333333333333,
              "#9c179e"
             ],
             [
              0.4444444444444444,
              "#bd3786"
             ],
             [
              0.5555555555555556,
              "#d8576b"
             ],
             [
              0.6666666666666666,
              "#ed7953"
             ],
             [
              0.7777777777777778,
              "#fb9f3a"
             ],
             [
              0.8888888888888888,
              "#fdca26"
             ],
             [
              1,
              "#f0f921"
             ]
            ],
            "type": "heatmapgl"
           }
          ],
          "histogram": [
           {
            "marker": {
             "pattern": {
              "fillmode": "overlay",
              "size": 10,
              "solidity": 0.2
             }
            },
            "type": "histogram"
           }
          ],
          "histogram2d": [
           {
            "colorbar": {
             "outlinewidth": 0,
             "ticks": ""
            },
            "colorscale": [
             [
              0,
              "#0d0887"
             ],
             [
              0.1111111111111111,
              "#46039f"
             ],
             [
              0.2222222222222222,
              "#7201a8"
             ],
             [
              0.3333333333333333,
              "#9c179e"
             ],
             [
              0.4444444444444444,
              "#bd3786"
             ],
             [
              0.5555555555555556,
              "#d8576b"
             ],
             [
              0.6666666666666666,
              "#ed7953"
             ],
             [
              0.7777777777777778,
              "#fb9f3a"
             ],
             [
              0.8888888888888888,
              "#fdca26"
             ],
             [
              1,
              "#f0f921"
             ]
            ],
            "type": "histogram2d"
           }
          ],
          "histogram2dcontour": [
           {
            "colorbar": {
             "outlinewidth": 0,
             "ticks": ""
            },
            "colorscale": [
             [
              0,
              "#0d0887"
             ],
             [
              0.1111111111111111,
              "#46039f"
             ],
             [
              0.2222222222222222,
              "#7201a8"
             ],
             [
              0.3333333333333333,
              "#9c179e"
             ],
             [
              0.4444444444444444,
              "#bd3786"
             ],
             [
              0.5555555555555556,
              "#d8576b"
             ],
             [
              0.6666666666666666,
              "#ed7953"
             ],
             [
              0.7777777777777778,
              "#fb9f3a"
             ],
             [
              0.8888888888888888,
              "#fdca26"
             ],
             [
              1,
              "#f0f921"
             ]
            ],
            "type": "histogram2dcontour"
           }
          ],
          "mesh3d": [
           {
            "colorbar": {
             "outlinewidth": 0,
             "ticks": ""
            },
            "type": "mesh3d"
           }
          ],
          "parcoords": [
           {
            "line": {
             "colorbar": {
              "outlinewidth": 0,
              "ticks": ""
             }
            },
            "type": "parcoords"
           }
          ],
          "pie": [
           {
            "automargin": true,
            "type": "pie"
           }
          ],
          "scatter": [
           {
            "fillpattern": {
             "fillmode": "overlay",
             "size": 10,
             "solidity": 0.2
            },
            "type": "scatter"
           }
          ],
          "scatter3d": [
           {
            "line": {
             "colorbar": {
              "outlinewidth": 0,
              "ticks": ""
             }
            },
            "marker": {
             "colorbar": {
              "outlinewidth": 0,
              "ticks": ""
             }
            },
            "type": "scatter3d"
           }
          ],
          "scattercarpet": [
           {
            "marker": {
             "colorbar": {
              "outlinewidth": 0,
              "ticks": ""
             }
            },
            "type": "scattercarpet"
           }
          ],
          "scattergeo": [
           {
            "marker": {
             "colorbar": {
              "outlinewidth": 0,
              "ticks": ""
             }
            },
            "type": "scattergeo"
           }
          ],
          "scattergl": [
           {
            "marker": {
             "colorbar": {
              "outlinewidth": 0,
              "ticks": ""
             }
            },
            "type": "scattergl"
           }
          ],
          "scattermapbox": [
           {
            "marker": {
             "colorbar": {
              "outlinewidth": 0,
              "ticks": ""
             }
            },
            "type": "scattermapbox"
           }
          ],
          "scatterpolar": [
           {
            "marker": {
             "colorbar": {
              "outlinewidth": 0,
              "ticks": ""
             }
            },
            "type": "scatterpolar"
           }
          ],
          "scatterpolargl": [
           {
            "marker": {
             "colorbar": {
              "outlinewidth": 0,
              "ticks": ""
             }
            },
            "type": "scatterpolargl"
           }
          ],
          "scatterternary": [
           {
            "marker": {
             "colorbar": {
              "outlinewidth": 0,
              "ticks": ""
             }
            },
            "type": "scatterternary"
           }
          ],
          "surface": [
           {
            "colorbar": {
             "outlinewidth": 0,
             "ticks": ""
            },
            "colorscale": [
             [
              0,
              "#0d0887"
             ],
             [
              0.1111111111111111,
              "#46039f"
             ],
             [
              0.2222222222222222,
              "#7201a8"
             ],
             [
              0.3333333333333333,
              "#9c179e"
             ],
             [
              0.4444444444444444,
              "#bd3786"
             ],
             [
              0.5555555555555556,
              "#d8576b"
             ],
             [
              0.6666666666666666,
              "#ed7953"
             ],
             [
              0.7777777777777778,
              "#fb9f3a"
             ],
             [
              0.8888888888888888,
              "#fdca26"
             ],
             [
              1,
              "#f0f921"
             ]
            ],
            "type": "surface"
           }
          ],
          "table": [
           {
            "cells": {
             "fill": {
              "color": "#EBF0F8"
             },
             "line": {
              "color": "white"
             }
            },
            "header": {
             "fill": {
              "color": "#C8D4E3"
             },
             "line": {
              "color": "white"
             }
            },
            "type": "table"
           }
          ]
         },
         "layout": {
          "annotationdefaults": {
           "arrowcolor": "#2a3f5f",
           "arrowhead": 0,
           "arrowwidth": 1
          },
          "autotypenumbers": "strict",
          "coloraxis": {
           "colorbar": {
            "outlinewidth": 0,
            "ticks": ""
           }
          },
          "colorscale": {
           "diverging": [
            [
             0,
             "#8e0152"
            ],
            [
             0.1,
             "#c51b7d"
            ],
            [
             0.2,
             "#de77ae"
            ],
            [
             0.3,
             "#f1b6da"
            ],
            [
             0.4,
             "#fde0ef"
            ],
            [
             0.5,
             "#f7f7f7"
            ],
            [
             0.6,
             "#e6f5d0"
            ],
            [
             0.7,
             "#b8e186"
            ],
            [
             0.8,
             "#7fbc41"
            ],
            [
             0.9,
             "#4d9221"
            ],
            [
             1,
             "#276419"
            ]
           ],
           "sequential": [
            [
             0,
             "#0d0887"
            ],
            [
             0.1111111111111111,
             "#46039f"
            ],
            [
             0.2222222222222222,
             "#7201a8"
            ],
            [
             0.3333333333333333,
             "#9c179e"
            ],
            [
             0.4444444444444444,
             "#bd3786"
            ],
            [
             0.5555555555555556,
             "#d8576b"
            ],
            [
             0.6666666666666666,
             "#ed7953"
            ],
            [
             0.7777777777777778,
             "#fb9f3a"
            ],
            [
             0.8888888888888888,
             "#fdca26"
            ],
            [
             1,
             "#f0f921"
            ]
           ],
           "sequentialminus": [
            [
             0,
             "#0d0887"
            ],
            [
             0.1111111111111111,
             "#46039f"
            ],
            [
             0.2222222222222222,
             "#7201a8"
            ],
            [
             0.3333333333333333,
             "#9c179e"
            ],
            [
             0.4444444444444444,
             "#bd3786"
            ],
            [
             0.5555555555555556,
             "#d8576b"
            ],
            [
             0.6666666666666666,
             "#ed7953"
            ],
            [
             0.7777777777777778,
             "#fb9f3a"
            ],
            [
             0.8888888888888888,
             "#fdca26"
            ],
            [
             1,
             "#f0f921"
            ]
           ]
          },
          "colorway": [
           "#636efa",
           "#EF553B",
           "#00cc96",
           "#ab63fa",
           "#FFA15A",
           "#19d3f3",
           "#FF6692",
           "#B6E880",
           "#FF97FF",
           "#FECB52"
          ],
          "font": {
           "color": "#2a3f5f"
          },
          "geo": {
           "bgcolor": "white",
           "lakecolor": "white",
           "landcolor": "#E5ECF6",
           "showlakes": true,
           "showland": true,
           "subunitcolor": "white"
          },
          "hoverlabel": {
           "align": "left"
          },
          "hovermode": "closest",
          "mapbox": {
           "style": "light"
          },
          "paper_bgcolor": "white",
          "plot_bgcolor": "#E5ECF6",
          "polar": {
           "angularaxis": {
            "gridcolor": "white",
            "linecolor": "white",
            "ticks": ""
           },
           "bgcolor": "#E5ECF6",
           "radialaxis": {
            "gridcolor": "white",
            "linecolor": "white",
            "ticks": ""
           }
          },
          "scene": {
           "xaxis": {
            "backgroundcolor": "#E5ECF6",
            "gridcolor": "white",
            "gridwidth": 2,
            "linecolor": "white",
            "showbackground": true,
            "ticks": "",
            "zerolinecolor": "white"
           },
           "yaxis": {
            "backgroundcolor": "#E5ECF6",
            "gridcolor": "white",
            "gridwidth": 2,
            "linecolor": "white",
            "showbackground": true,
            "ticks": "",
            "zerolinecolor": "white"
           },
           "zaxis": {
            "backgroundcolor": "#E5ECF6",
            "gridcolor": "white",
            "gridwidth": 2,
            "linecolor": "white",
            "showbackground": true,
            "ticks": "",
            "zerolinecolor": "white"
           }
          },
          "shapedefaults": {
           "line": {
            "color": "#2a3f5f"
           }
          },
          "ternary": {
           "aaxis": {
            "gridcolor": "white",
            "linecolor": "white",
            "ticks": ""
           },
           "baxis": {
            "gridcolor": "white",
            "linecolor": "white",
            "ticks": ""
           },
           "bgcolor": "#E5ECF6",
           "caxis": {
            "gridcolor": "white",
            "linecolor": "white",
            "ticks": ""
           }
          },
          "title": {
           "x": 0.05
          },
          "xaxis": {
           "automargin": true,
           "gridcolor": "white",
           "linecolor": "white",
           "ticks": "",
           "title": {
            "standoff": 15
           },
           "zerolinecolor": "white",
           "zerolinewidth": 2
          },
          "yaxis": {
           "automargin": true,
           "gridcolor": "white",
           "linecolor": "white",
           "ticks": "",
           "title": {
            "standoff": 15
           },
           "zerolinecolor": "white",
           "zerolinewidth": 2
          }
         }
        },
        "title": {
         "text": "Slice Plot"
        },
        "width": 2400,
        "xaxis": {
         "anchor": "y",
         "domain": [
          0,
          0.103125
         ],
         "title": {
          "text": "alpha"
         },
         "type": "log"
        },
        "xaxis2": {
         "anchor": "y2",
         "domain": [
          0.128125,
          0.23124999999999998
         ],
         "title": {
          "text": "colsample_bytree"
         }
        },
        "xaxis3": {
         "anchor": "y3",
         "domain": [
          0.25625,
          0.359375
         ],
         "title": {
          "text": "lambda"
         },
         "type": "log"
        },
        "xaxis4": {
         "anchor": "y4",
         "domain": [
          0.38437499999999997,
          0.48749999999999993
         ],
         "title": {
          "text": "learning_rate"
         }
        },
        "xaxis5": {
         "anchor": "y5",
         "domain": [
          0.5125,
          0.615625
         ],
         "title": {
          "text": "max_depth"
         }
        },
        "xaxis6": {
         "anchor": "y6",
         "domain": [
          0.640625,
          0.74375
         ],
         "title": {
          "text": "min_child_weight"
         }
        },
        "xaxis7": {
         "anchor": "y7",
         "domain": [
          0.76875,
          0.8718750000000001
         ],
         "title": {
          "text": "random_state"
         }
        },
        "xaxis8": {
         "anchor": "y8",
         "domain": [
          0.8968750000000001,
          1
         ],
         "title": {
          "text": "subsample"
         }
        },
        "yaxis": {
         "anchor": "x",
         "domain": [
          0,
          1
         ],
         "title": {
          "text": "Objective Value"
         }
        },
        "yaxis2": {
         "anchor": "x2",
         "domain": [
          0,
          1
         ],
         "matches": "y",
         "showticklabels": false
        },
        "yaxis3": {
         "anchor": "x3",
         "domain": [
          0,
          1
         ],
         "matches": "y",
         "showticklabels": false
        },
        "yaxis4": {
         "anchor": "x4",
         "domain": [
          0,
          1
         ],
         "matches": "y",
         "showticklabels": false
        },
        "yaxis5": {
         "anchor": "x5",
         "domain": [
          0,
          1
         ],
         "matches": "y",
         "showticklabels": false
        },
        "yaxis6": {
         "anchor": "x6",
         "domain": [
          0,
          1
         ],
         "matches": "y",
         "showticklabels": false
        },
        "yaxis7": {
         "anchor": "x7",
         "domain": [
          0,
          1
         ],
         "matches": "y",
         "showticklabels": false
        },
        "yaxis8": {
         "anchor": "x8",
         "domain": [
          0,
          1
         ],
         "matches": "y",
         "showticklabels": false
        }
       }
      },
      "text/html": [
       "<div>                            <div id=\"082560e0-bc12-4ce9-89d9-7888db56878e\" class=\"plotly-graph-div\" style=\"height:525px; width:2400px;\"></div>            <script type=\"text/javascript\">                require([\"plotly\"], function(Plotly) {                    window.PLOTLYENV=window.PLOTLYENV || {};                                    if (document.getElementById(\"082560e0-bc12-4ce9-89d9-7888db56878e\")) {                    Plotly.newPlot(                        \"082560e0-bc12-4ce9-89d9-7888db56878e\",                        [{\"marker\":{\"color\":[0,1,2,3,4,5,6,7,8,9],\"colorbar\":{\"title\":{\"text\":\"Trial\"},\"x\":1.0,\"xpad\":40},\"colorscale\":[[0.0,\"rgb(247,251,255)\"],[0.125,\"rgb(222,235,247)\"],[0.25,\"rgb(198,219,239)\"],[0.375,\"rgb(158,202,225)\"],[0.5,\"rgb(107,174,214)\"],[0.625,\"rgb(66,146,198)\"],[0.75,\"rgb(33,113,181)\"],[0.875,\"rgb(8,81,156)\"],[1.0,\"rgb(8,48,107)\"]],\"line\":{\"color\":\"Grey\",\"width\":0.5},\"showscale\":true},\"mode\":\"markers\",\"showlegend\":false,\"x\":[5.243727508262309,0.9995506024274605,0.001159057281885609,0.010213825209498817,0.009368214306835458,0.01569132847003637,1.622432331738912,0.520041367568177,0.08535460217348156,0.023857162070464837],\"y\":[8.303862686323146e+72,0.005930147395731221,9.028579821821336e+72,0.006119618690723678,0.052701122779549366,0.014330310988065397,0.015203831216800577,0.017893792635816478,0.020438803633784794,0.004798704541338985],\"type\":\"scatter\",\"xaxis\":\"x\",\"yaxis\":\"y\"},{\"marker\":{\"color\":[0,1,2,3,4,5,6,7,8,9],\"colorbar\":{\"title\":{\"text\":\"Trial\"},\"x\":1.0,\"xpad\":40},\"colorscale\":[[0.0,\"rgb(247,251,255)\"],[0.125,\"rgb(222,235,247)\"],[0.25,\"rgb(198,219,239)\"],[0.375,\"rgb(158,202,225)\"],[0.5,\"rgb(107,174,214)\"],[0.625,\"rgb(66,146,198)\"],[0.75,\"rgb(33,113,181)\"],[0.875,\"rgb(8,81,156)\"],[1.0,\"rgb(8,48,107)\"]],\"line\":{\"color\":\"Grey\",\"width\":0.5},\"showscale\":false},\"mode\":\"markers\",\"showlegend\":false,\"x\":[0.3,0.3,0.6,0.4,0.4,0.9,0.4,0.8,0.3,1],\"y\":[8.303862686323146e+72,0.005930147395731221,9.028579821821336e+72,0.006119618690723678,0.052701122779549366,0.014330310988065397,0.015203831216800577,0.017893792635816478,0.020438803633784794,0.004798704541338985],\"type\":\"scatter\",\"xaxis\":\"x2\",\"yaxis\":\"y2\"},{\"marker\":{\"color\":[0,1,2,3,4,5,6,7,8,9],\"colorbar\":{\"title\":{\"text\":\"Trial\"},\"x\":1.0,\"xpad\":40},\"colorscale\":[[0.0,\"rgb(247,251,255)\"],[0.125,\"rgb(222,235,247)\"],[0.25,\"rgb(198,219,239)\"],[0.375,\"rgb(158,202,225)\"],[0.5,\"rgb(107,174,214)\"],[0.625,\"rgb(66,146,198)\"],[0.75,\"rgb(33,113,181)\"],[0.875,\"rgb(8,81,156)\"],[1.0,\"rgb(8,48,107)\"]],\"line\":{\"color\":\"Grey\",\"width\":0.5},\"showscale\":false},\"mode\":\"markers\",\"showlegend\":false,\"x\":[0.014196913209920862,0.0025704462445794328,0.350606819393763,0.01505916471731097,0.13982004622695032,0.00016611553729766674,7.01576329586579,0.008951729841361741,0.02206793877957743,0.0021989489904092083],\"y\":[8.303862686323146e+72,0.005930147395731221,9.028579821821336e+72,0.006119618690723678,0.052701122779549366,0.014330310988065397,0.015203831216800577,0.017893792635816478,0.020438803633784794,0.004798704541338985],\"type\":\"scatter\",\"xaxis\":\"x3\",\"yaxis\":\"y3\"},{\"marker\":{\"color\":[0,1,2,3,4,5,6,7,8,9],\"colorbar\":{\"title\":{\"text\":\"Trial\"},\"x\":1.0,\"xpad\":40},\"colorscale\":[[0.0,\"rgb(247,251,255)\"],[0.125,\"rgb(222,235,247)\"],[0.25,\"rgb(198,219,239)\"],[0.375,\"rgb(158,202,225)\"],[0.5,\"rgb(107,174,214)\"],[0.625,\"rgb(66,146,198)\"],[0.75,\"rgb(33,113,181)\"],[0.875,\"rgb(8,81,156)\"],[1.0,\"rgb(8,48,107)\"]],\"line\":{\"color\":\"Grey\",\"width\":0.5},\"showscale\":false},\"mode\":\"markers\",\"showlegend\":false,\"x\":[8,0.02,8,1,0.0003,0.008,0.01,0.02,0.01,1],\"y\":[8.303862686323146e+72,0.005930147395731221,9.028579821821336e+72,0.006119618690723678,0.052701122779549366,0.014330310988065397,0.015203831216800577,0.017893792635816478,0.020438803633784794,0.004798704541338985],\"type\":\"scatter\",\"xaxis\":\"x4\",\"yaxis\":\"y4\"},{\"marker\":{\"color\":[0,1,2,3,4,5,6,7,8,9],\"colorbar\":{\"title\":{\"text\":\"Trial\"},\"x\":1.0,\"xpad\":40},\"colorscale\":[[0.0,\"rgb(247,251,255)\"],[0.125,\"rgb(222,235,247)\"],[0.25,\"rgb(198,219,239)\"],[0.375,\"rgb(158,202,225)\"],[0.5,\"rgb(107,174,214)\"],[0.625,\"rgb(66,146,198)\"],[0.75,\"rgb(33,113,181)\"],[0.875,\"rgb(8,81,156)\"],[1.0,\"rgb(8,48,107)\"]],\"line\":{\"color\":\"Grey\",\"width\":0.5},\"showscale\":false},\"mode\":\"markers\",\"showlegend\":false,\"x\":[7,8,10,5,5,12,12,3,5,5],\"y\":[8.303862686323146e+72,0.005930147395731221,9.028579821821336e+72,0.006119618690723678,0.052701122779549366,0.014330310988065397,0.015203831216800577,0.017893792635816478,0.020438803633784794,0.004798704541338985],\"type\":\"scatter\",\"xaxis\":\"x5\",\"yaxis\":\"y5\"},{\"marker\":{\"color\":[0,1,2,3,4,5,6,7,8,9],\"colorbar\":{\"title\":{\"text\":\"Trial\"},\"x\":1.0,\"xpad\":40},\"colorscale\":[[0.0,\"rgb(247,251,255)\"],[0.125,\"rgb(222,235,247)\"],[0.25,\"rgb(198,219,239)\"],[0.375,\"rgb(158,202,225)\"],[0.5,\"rgb(107,174,214)\"],[0.625,\"rgb(66,146,198)\"],[0.75,\"rgb(33,113,181)\"],[0.875,\"rgb(8,81,156)\"],[1.0,\"rgb(8,48,107)\"]],\"line\":{\"color\":\"Grey\",\"width\":0.5},\"showscale\":false},\"mode\":\"markers\",\"showlegend\":false,\"x\":[142,81,66,101,173,75,127,183,55,64],\"y\":[8.303862686323146e+72,0.005930147395731221,9.028579821821336e+72,0.006119618690723678,0.052701122779549366,0.014330310988065397,0.015203831216800577,0.017893792635816478,0.020438803633784794,0.004798704541338985],\"type\":\"scatter\",\"xaxis\":\"x6\",\"yaxis\":\"y6\"},{\"marker\":{\"color\":[0,1,2,3,4,5,6,7,8,9],\"colorbar\":{\"title\":{\"text\":\"Trial\"},\"x\":1.0,\"xpad\":40},\"colorscale\":[[0.0,\"rgb(247,251,255)\"],[0.125,\"rgb(222,235,247)\"],[0.25,\"rgb(198,219,239)\"],[0.375,\"rgb(158,202,225)\"],[0.5,\"rgb(107,174,214)\"],[0.625,\"rgb(66,146,198)\"],[0.75,\"rgb(33,113,181)\"],[0.875,\"rgb(8,81,156)\"],[1.0,\"rgb(8,48,107)\"]],\"line\":{\"color\":\"Grey\",\"width\":0.5},\"showscale\":false},\"mode\":\"markers\",\"showlegend\":false,\"x\":[20,243123,10,10,243123,243123,2000,243123,2000,20],\"y\":[8.303862686323146e+72,0.005930147395731221,9.028579821821336e+72,0.006119618690723678,0.052701122779549366,0.014330310988065397,0.015203831216800577,0.017893792635816478,0.020438803633784794,0.004798704541338985],\"type\":\"scatter\",\"xaxis\":\"x7\",\"yaxis\":\"y7\"},{\"marker\":{\"color\":[0,1,2,3,4,5,6,7,8,9],\"colorbar\":{\"title\":{\"text\":\"Trial\"},\"x\":1.0,\"xpad\":40},\"colorscale\":[[0.0,\"rgb(247,251,255)\"],[0.125,\"rgb(222,235,247)\"],[0.25,\"rgb(198,219,239)\"],[0.375,\"rgb(158,202,225)\"],[0.5,\"rgb(107,174,214)\"],[0.625,\"rgb(66,146,198)\"],[0.75,\"rgb(33,113,181)\"],[0.875,\"rgb(8,81,156)\"],[1.0,\"rgb(8,48,107)\"]],\"line\":{\"color\":\"Grey\",\"width\":0.5},\"showscale\":false},\"mode\":\"markers\",\"showlegend\":false,\"x\":[0.5,0.9,0.8,0.9,0.5,0.9,0.7,0.7,0.2,0.8],\"y\":[8.303862686323146e+72,0.005930147395731221,9.028579821821336e+72,0.006119618690723678,0.052701122779549366,0.014330310988065397,0.015203831216800577,0.017893792635816478,0.020438803633784794,0.004798704541338985],\"type\":\"scatter\",\"xaxis\":\"x8\",\"yaxis\":\"y8\"}],                        {\"template\":{\"data\":{\"histogram2dcontour\":[{\"type\":\"histogram2dcontour\",\"colorbar\":{\"outlinewidth\":0,\"ticks\":\"\"},\"colorscale\":[[0.0,\"#0d0887\"],[0.1111111111111111,\"#46039f\"],[0.2222222222222222,\"#7201a8\"],[0.3333333333333333,\"#9c179e\"],[0.4444444444444444,\"#bd3786\"],[0.5555555555555556,\"#d8576b\"],[0.6666666666666666,\"#ed7953\"],[0.7777777777777778,\"#fb9f3a\"],[0.8888888888888888,\"#fdca26\"],[1.0,\"#f0f921\"]]}],\"choropleth\":[{\"type\":\"choropleth\",\"colorbar\":{\"outlinewidth\":0,\"ticks\":\"\"}}],\"histogram2d\":[{\"type\":\"histogram2d\",\"colorbar\":{\"outlinewidth\":0,\"ticks\":\"\"},\"colorscale\":[[0.0,\"#0d0887\"],[0.1111111111111111,\"#46039f\"],[0.2222222222222222,\"#7201a8\"],[0.3333333333333333,\"#9c179e\"],[0.4444444444444444,\"#bd3786\"],[0.5555555555555556,\"#d8576b\"],[0.6666666666666666,\"#ed7953\"],[0.7777777777777778,\"#fb9f3a\"],[0.8888888888888888,\"#fdca26\"],[1.0,\"#f0f921\"]]}],\"heatmap\":[{\"type\":\"heatmap\",\"colorbar\":{\"outlinewidth\":0,\"ticks\":\"\"},\"colorscale\":[[0.0,\"#0d0887\"],[0.1111111111111111,\"#46039f\"],[0.2222222222222222,\"#7201a8\"],[0.3333333333333333,\"#9c179e\"],[0.4444444444444444,\"#bd3786\"],[0.5555555555555556,\"#d8576b\"],[0.6666666666666666,\"#ed7953\"],[0.7777777777777778,\"#fb9f3a\"],[0.8888888888888888,\"#fdca26\"],[1.0,\"#f0f921\"]]}],\"heatmapgl\":[{\"type\":\"heatmapgl\",\"colorbar\":{\"outlinewidth\":0,\"ticks\":\"\"},\"colorscale\":[[0.0,\"#0d0887\"],[0.1111111111111111,\"#46039f\"],[0.2222222222222222,\"#7201a8\"],[0.3333333333333333,\"#9c179e\"],[0.4444444444444444,\"#bd3786\"],[0.5555555555555556,\"#d8576b\"],[0.6666666666666666,\"#ed7953\"],[0.7777777777777778,\"#fb9f3a\"],[0.8888888888888888,\"#fdca26\"],[1.0,\"#f0f921\"]]}],\"contourcarpet\":[{\"type\":\"contourcarpet\",\"colorbar\":{\"outlinewidth\":0,\"ticks\":\"\"}}],\"contour\":[{\"type\":\"contour\",\"colorbar\":{\"outlinewidth\":0,\"ticks\":\"\"},\"colorscale\":[[0.0,\"#0d0887\"],[0.1111111111111111,\"#46039f\"],[0.2222222222222222,\"#7201a8\"],[0.3333333333333333,\"#9c179e\"],[0.4444444444444444,\"#bd3786\"],[0.5555555555555556,\"#d8576b\"],[0.6666666666666666,\"#ed7953\"],[0.7777777777777778,\"#fb9f3a\"],[0.8888888888888888,\"#fdca26\"],[1.0,\"#f0f921\"]]}],\"surface\":[{\"type\":\"surface\",\"colorbar\":{\"outlinewidth\":0,\"ticks\":\"\"},\"colorscale\":[[0.0,\"#0d0887\"],[0.1111111111111111,\"#46039f\"],[0.2222222222222222,\"#7201a8\"],[0.3333333333333333,\"#9c179e\"],[0.4444444444444444,\"#bd3786\"],[0.5555555555555556,\"#d8576b\"],[0.6666666666666666,\"#ed7953\"],[0.7777777777777778,\"#fb9f3a\"],[0.8888888888888888,\"#fdca26\"],[1.0,\"#f0f921\"]]}],\"mesh3d\":[{\"type\":\"mesh3d\",\"colorbar\":{\"outlinewidth\":0,\"ticks\":\"\"}}],\"scatter\":[{\"fillpattern\":{\"fillmode\":\"overlay\",\"size\":10,\"solidity\":0.2},\"type\":\"scatter\"}],\"parcoords\":[{\"type\":\"parcoords\",\"line\":{\"colorbar\":{\"outlinewidth\":0,\"ticks\":\"\"}}}],\"scatterpolargl\":[{\"type\":\"scatterpolargl\",\"marker\":{\"colorbar\":{\"outlinewidth\":0,\"ticks\":\"\"}}}],\"bar\":[{\"error_x\":{\"color\":\"#2a3f5f\"},\"error_y\":{\"color\":\"#2a3f5f\"},\"marker\":{\"line\":{\"color\":\"#E5ECF6\",\"width\":0.5},\"pattern\":{\"fillmode\":\"overlay\",\"size\":10,\"solidity\":0.2}},\"type\":\"bar\"}],\"scattergeo\":[{\"type\":\"scattergeo\",\"marker\":{\"colorbar\":{\"outlinewidth\":0,\"ticks\":\"\"}}}],\"scatterpolar\":[{\"type\":\"scatterpolar\",\"marker\":{\"colorbar\":{\"outlinewidth\":0,\"ticks\":\"\"}}}],\"histogram\":[{\"marker\":{\"pattern\":{\"fillmode\":\"overlay\",\"size\":10,\"solidity\":0.2}},\"type\":\"histogram\"}],\"scattergl\":[{\"type\":\"scattergl\",\"marker\":{\"colorbar\":{\"outlinewidth\":0,\"ticks\":\"\"}}}],\"scatter3d\":[{\"type\":\"scatter3d\",\"line\":{\"colorbar\":{\"outlinewidth\":0,\"ticks\":\"\"}},\"marker\":{\"colorbar\":{\"outlinewidth\":0,\"ticks\":\"\"}}}],\"scattermapbox\":[{\"type\":\"scattermapbox\",\"marker\":{\"colorbar\":{\"outlinewidth\":0,\"ticks\":\"\"}}}],\"scatterternary\":[{\"type\":\"scatterternary\",\"marker\":{\"colorbar\":{\"outlinewidth\":0,\"ticks\":\"\"}}}],\"scattercarpet\":[{\"type\":\"scattercarpet\",\"marker\":{\"colorbar\":{\"outlinewidth\":0,\"ticks\":\"\"}}}],\"carpet\":[{\"aaxis\":{\"endlinecolor\":\"#2a3f5f\",\"gridcolor\":\"white\",\"linecolor\":\"white\",\"minorgridcolor\":\"white\",\"startlinecolor\":\"#2a3f5f\"},\"baxis\":{\"endlinecolor\":\"#2a3f5f\",\"gridcolor\":\"white\",\"linecolor\":\"white\",\"minorgridcolor\":\"white\",\"startlinecolor\":\"#2a3f5f\"},\"type\":\"carpet\"}],\"table\":[{\"cells\":{\"fill\":{\"color\":\"#EBF0F8\"},\"line\":{\"color\":\"white\"}},\"header\":{\"fill\":{\"color\":\"#C8D4E3\"},\"line\":{\"color\":\"white\"}},\"type\":\"table\"}],\"barpolar\":[{\"marker\":{\"line\":{\"color\":\"#E5ECF6\",\"width\":0.5},\"pattern\":{\"fillmode\":\"overlay\",\"size\":10,\"solidity\":0.2}},\"type\":\"barpolar\"}],\"pie\":[{\"automargin\":true,\"type\":\"pie\"}]},\"layout\":{\"autotypenumbers\":\"strict\",\"colorway\":[\"#636efa\",\"#EF553B\",\"#00cc96\",\"#ab63fa\",\"#FFA15A\",\"#19d3f3\",\"#FF6692\",\"#B6E880\",\"#FF97FF\",\"#FECB52\"],\"font\":{\"color\":\"#2a3f5f\"},\"hovermode\":\"closest\",\"hoverlabel\":{\"align\":\"left\"},\"paper_bgcolor\":\"white\",\"plot_bgcolor\":\"#E5ECF6\",\"polar\":{\"bgcolor\":\"#E5ECF6\",\"angularaxis\":{\"gridcolor\":\"white\",\"linecolor\":\"white\",\"ticks\":\"\"},\"radialaxis\":{\"gridcolor\":\"white\",\"linecolor\":\"white\",\"ticks\":\"\"}},\"ternary\":{\"bgcolor\":\"#E5ECF6\",\"aaxis\":{\"gridcolor\":\"white\",\"linecolor\":\"white\",\"ticks\":\"\"},\"baxis\":{\"gridcolor\":\"white\",\"linecolor\":\"white\",\"ticks\":\"\"},\"caxis\":{\"gridcolor\":\"white\",\"linecolor\":\"white\",\"ticks\":\"\"}},\"coloraxis\":{\"colorbar\":{\"outlinewidth\":0,\"ticks\":\"\"}},\"colorscale\":{\"sequential\":[[0.0,\"#0d0887\"],[0.1111111111111111,\"#46039f\"],[0.2222222222222222,\"#7201a8\"],[0.3333333333333333,\"#9c179e\"],[0.4444444444444444,\"#bd3786\"],[0.5555555555555556,\"#d8576b\"],[0.6666666666666666,\"#ed7953\"],[0.7777777777777778,\"#fb9f3a\"],[0.8888888888888888,\"#fdca26\"],[1.0,\"#f0f921\"]],\"sequentialminus\":[[0.0,\"#0d0887\"],[0.1111111111111111,\"#46039f\"],[0.2222222222222222,\"#7201a8\"],[0.3333333333333333,\"#9c179e\"],[0.4444444444444444,\"#bd3786\"],[0.5555555555555556,\"#d8576b\"],[0.6666666666666666,\"#ed7953\"],[0.7777777777777778,\"#fb9f3a\"],[0.8888888888888888,\"#fdca26\"],[1.0,\"#f0f921\"]],\"diverging\":[[0,\"#8e0152\"],[0.1,\"#c51b7d\"],[0.2,\"#de77ae\"],[0.3,\"#f1b6da\"],[0.4,\"#fde0ef\"],[0.5,\"#f7f7f7\"],[0.6,\"#e6f5d0\"],[0.7,\"#b8e186\"],[0.8,\"#7fbc41\"],[0.9,\"#4d9221\"],[1,\"#276419\"]]},\"xaxis\":{\"gridcolor\":\"white\",\"linecolor\":\"white\",\"ticks\":\"\",\"title\":{\"standoff\":15},\"zerolinecolor\":\"white\",\"automargin\":true,\"zerolinewidth\":2},\"yaxis\":{\"gridcolor\":\"white\",\"linecolor\":\"white\",\"ticks\":\"\",\"title\":{\"standoff\":15},\"zerolinecolor\":\"white\",\"automargin\":true,\"zerolinewidth\":2},\"scene\":{\"xaxis\":{\"backgroundcolor\":\"#E5ECF6\",\"gridcolor\":\"white\",\"linecolor\":\"white\",\"showbackground\":true,\"ticks\":\"\",\"zerolinecolor\":\"white\",\"gridwidth\":2},\"yaxis\":{\"backgroundcolor\":\"#E5ECF6\",\"gridcolor\":\"white\",\"linecolor\":\"white\",\"showbackground\":true,\"ticks\":\"\",\"zerolinecolor\":\"white\",\"gridwidth\":2},\"zaxis\":{\"backgroundcolor\":\"#E5ECF6\",\"gridcolor\":\"white\",\"linecolor\":\"white\",\"showbackground\":true,\"ticks\":\"\",\"zerolinecolor\":\"white\",\"gridwidth\":2}},\"shapedefaults\":{\"line\":{\"color\":\"#2a3f5f\"}},\"annotationdefaults\":{\"arrowcolor\":\"#2a3f5f\",\"arrowhead\":0,\"arrowwidth\":1},\"geo\":{\"bgcolor\":\"white\",\"landcolor\":\"#E5ECF6\",\"subunitcolor\":\"white\",\"showland\":true,\"showlakes\":true,\"lakecolor\":\"white\"},\"title\":{\"x\":0.05},\"mapbox\":{\"style\":\"light\"}}},\"xaxis\":{\"anchor\":\"y\",\"domain\":[0.0,0.103125],\"title\":{\"text\":\"alpha\"},\"type\":\"log\"},\"yaxis\":{\"anchor\":\"x\",\"domain\":[0.0,1.0],\"title\":{\"text\":\"Objective Value\"}},\"xaxis2\":{\"anchor\":\"y2\",\"domain\":[0.128125,0.23124999999999998],\"title\":{\"text\":\"colsample_bytree\"}},\"yaxis2\":{\"anchor\":\"x2\",\"domain\":[0.0,1.0],\"matches\":\"y\",\"showticklabels\":false},\"xaxis3\":{\"anchor\":\"y3\",\"domain\":[0.25625,0.359375],\"title\":{\"text\":\"lambda\"},\"type\":\"log\"},\"yaxis3\":{\"anchor\":\"x3\",\"domain\":[0.0,1.0],\"matches\":\"y\",\"showticklabels\":false},\"xaxis4\":{\"anchor\":\"y4\",\"domain\":[0.38437499999999997,0.48749999999999993],\"title\":{\"text\":\"learning_rate\"}},\"yaxis4\":{\"anchor\":\"x4\",\"domain\":[0.0,1.0],\"matches\":\"y\",\"showticklabels\":false},\"xaxis5\":{\"anchor\":\"y5\",\"domain\":[0.5125,0.615625],\"title\":{\"text\":\"max_depth\"}},\"yaxis5\":{\"anchor\":\"x5\",\"domain\":[0.0,1.0],\"matches\":\"y\",\"showticklabels\":false},\"xaxis6\":{\"anchor\":\"y6\",\"domain\":[0.640625,0.74375],\"title\":{\"text\":\"min_child_weight\"}},\"yaxis6\":{\"anchor\":\"x6\",\"domain\":[0.0,1.0],\"matches\":\"y\",\"showticklabels\":false},\"xaxis7\":{\"anchor\":\"y7\",\"domain\":[0.76875,0.8718750000000001],\"title\":{\"text\":\"random_state\"}},\"yaxis7\":{\"anchor\":\"x7\",\"domain\":[0.0,1.0],\"matches\":\"y\",\"showticklabels\":false},\"xaxis8\":{\"anchor\":\"y8\",\"domain\":[0.8968750000000001,1.0],\"title\":{\"text\":\"subsample\"}},\"yaxis8\":{\"anchor\":\"x8\",\"domain\":[0.0,1.0],\"matches\":\"y\",\"showticklabels\":false},\"title\":{\"text\":\"Slice Plot\"},\"width\":2400},                        {\"responsive\": true}                    ).then(function(){\n",
       "                            \n",
       "var gd = document.getElementById('082560e0-bc12-4ce9-89d9-7888db56878e');\n",
       "var x = new MutationObserver(function (mutations, observer) {{\n",
       "        var display = window.getComputedStyle(gd).display;\n",
       "        if (!display || display === 'none') {{\n",
       "            console.log([gd, 'removed!']);\n",
       "            Plotly.purge(gd);\n",
       "            observer.disconnect();\n",
       "        }}\n",
       "}});\n",
       "\n",
       "// Listen for the removal of the full notebook cells\n",
       "var notebookContainer = gd.closest('#notebook-container');\n",
       "if (notebookContainer) {{\n",
       "    x.observe(notebookContainer, {childList: true});\n",
       "}}\n",
       "\n",
       "// Listen for the clearing of the current output cell\n",
       "var outputEl = gd.closest('.output');\n",
       "if (outputEl) {{\n",
       "    x.observe(outputEl, {childList: true});\n",
       "}}\n",
       "\n",
       "                        })                };                });            </script>        </div>"
      ]
     },
     "metadata": {},
     "output_type": "display_data"
    }
   ],
   "source": [
    "optuna.visualization.plot_slice(find_params)"
   ]
  },
  {
   "cell_type": "code",
   "execution_count": 84,
   "id": "0b17b41d",
   "metadata": {},
   "outputs": [
    {
     "data": {
      "application/vnd.plotly.v1+json": {
       "config": {
        "plotlyServerURL": "https://plot.ly"
       },
       "data": [
        {
         "colorbar": {
          "title": {
           "text": "Objective Value"
          }
         },
         "colorscale": [
          [
           0,
           "rgb(247,251,255)"
          ],
          [
           0.125,
           "rgb(222,235,247)"
          ],
          [
           0.25,
           "rgb(198,219,239)"
          ],
          [
           0.375,
           "rgb(158,202,225)"
          ],
          [
           0.5,
           "rgb(107,174,214)"
          ],
          [
           0.625,
           "rgb(66,146,198)"
          ],
          [
           0.75,
           "rgb(33,113,181)"
          ],
          [
           0.875,
           "rgb(8,81,156)"
          ],
          [
           1,
           "rgb(8,48,107)"
          ]
         ],
         "connectgaps": true,
         "contours": {
          "coloring": "heatmap"
         },
         "hoverinfo": "none",
         "line": {
          "smoothing": 1.3
         },
         "reversescale": true,
         "type": "contour",
         "x": [
          0.0007609009722514769,
          0.001159057281885609,
          0.009368214306835458,
          0.010213825209498817,
          0.01569132847003637,
          0.023857162070464837,
          0.08535460217348156,
          0.520041367568177,
          0.9995506024274605,
          1.622432331738912,
          5.243727508262309,
          7.987610443828701
         ],
         "y": [
          9.752748425167884e-05,
          0.00016611553729766674,
          0.0021989489904092083,
          0.0025704462445794328,
          0.008951729841361741,
          0.014196913209920862,
          0.01505916471731097,
          0.02206793877957743,
          0.13982004622695032,
          0.350606819393763,
          7.01576329586579,
          11.949731897507984
         ],
         "z": [
          [
           null,
           null,
           null,
           null,
           null,
           null,
           null,
           null,
           null,
           null,
           null,
           null
          ],
          [
           null,
           null,
           null,
           null,
           0.014330310988065397,
           null,
           null,
           null,
           null,
           null,
           null,
           null
          ],
          [
           null,
           null,
           null,
           null,
           null,
           0.004798704541338985,
           null,
           null,
           null,
           null,
           null,
           null
          ],
          [
           null,
           null,
           null,
           null,
           null,
           null,
           null,
           null,
           0.005930147395731221,
           null,
           null,
           null
          ],
          [
           null,
           null,
           null,
           null,
           null,
           null,
           null,
           0.017893792635816478,
           null,
           null,
           null,
           null
          ],
          [
           null,
           null,
           null,
           null,
           null,
           null,
           null,
           null,
           null,
           null,
           8.303862686323146e+72,
           null
          ],
          [
           null,
           null,
           null,
           0.006119618690723678,
           null,
           null,
           null,
           null,
           null,
           null,
           null,
           null
          ],
          [
           null,
           null,
           null,
           null,
           null,
           null,
           0.020438803633784794,
           null,
           null,
           null,
           null,
           null
          ],
          [
           null,
           null,
           0.052701122779549366,
           null,
           null,
           null,
           null,
           null,
           null,
           null,
           null,
           null
          ],
          [
           null,
           9.028579821821336e+72,
           null,
           null,
           null,
           null,
           null,
           null,
           null,
           null,
           null,
           null
          ],
          [
           null,
           null,
           null,
           null,
           null,
           null,
           null,
           null,
           null,
           0.015203831216800577,
           null,
           null
          ],
          [
           null,
           null,
           null,
           null,
           null,
           null,
           null,
           null,
           null,
           null,
           null,
           null
          ]
         ]
        },
        {
         "marker": {
          "color": "black",
          "line": {
           "color": "Grey",
           "width": 2
          }
         },
         "mode": "markers",
         "showlegend": false,
         "type": "scatter",
         "x": [
          5.243727508262309,
          0.9995506024274605,
          0.001159057281885609,
          0.010213825209498817,
          0.009368214306835458,
          0.01569132847003637,
          1.622432331738912,
          0.520041367568177,
          0.08535460217348156,
          0.023857162070464837
         ],
         "y": [
          0.014196913209920862,
          0.0025704462445794328,
          0.350606819393763,
          0.01505916471731097,
          0.13982004622695032,
          0.00016611553729766674,
          7.01576329586579,
          0.008951729841361741,
          0.02206793877957743,
          0.0021989489904092083
         ]
        }
       ],
       "layout": {
        "template": {
         "data": {
          "bar": [
           {
            "error_x": {
             "color": "#2a3f5f"
            },
            "error_y": {
             "color": "#2a3f5f"
            },
            "marker": {
             "line": {
              "color": "#E5ECF6",
              "width": 0.5
             },
             "pattern": {
              "fillmode": "overlay",
              "size": 10,
              "solidity": 0.2
             }
            },
            "type": "bar"
           }
          ],
          "barpolar": [
           {
            "marker": {
             "line": {
              "color": "#E5ECF6",
              "width": 0.5
             },
             "pattern": {
              "fillmode": "overlay",
              "size": 10,
              "solidity": 0.2
             }
            },
            "type": "barpolar"
           }
          ],
          "carpet": [
           {
            "aaxis": {
             "endlinecolor": "#2a3f5f",
             "gridcolor": "white",
             "linecolor": "white",
             "minorgridcolor": "white",
             "startlinecolor": "#2a3f5f"
            },
            "baxis": {
             "endlinecolor": "#2a3f5f",
             "gridcolor": "white",
             "linecolor": "white",
             "minorgridcolor": "white",
             "startlinecolor": "#2a3f5f"
            },
            "type": "carpet"
           }
          ],
          "choropleth": [
           {
            "colorbar": {
             "outlinewidth": 0,
             "ticks": ""
            },
            "type": "choropleth"
           }
          ],
          "contour": [
           {
            "colorbar": {
             "outlinewidth": 0,
             "ticks": ""
            },
            "colorscale": [
             [
              0,
              "#0d0887"
             ],
             [
              0.1111111111111111,
              "#46039f"
             ],
             [
              0.2222222222222222,
              "#7201a8"
             ],
             [
              0.3333333333333333,
              "#9c179e"
             ],
             [
              0.4444444444444444,
              "#bd3786"
             ],
             [
              0.5555555555555556,
              "#d8576b"
             ],
             [
              0.6666666666666666,
              "#ed7953"
             ],
             [
              0.7777777777777778,
              "#fb9f3a"
             ],
             [
              0.8888888888888888,
              "#fdca26"
             ],
             [
              1,
              "#f0f921"
             ]
            ],
            "type": "contour"
           }
          ],
          "contourcarpet": [
           {
            "colorbar": {
             "outlinewidth": 0,
             "ticks": ""
            },
            "type": "contourcarpet"
           }
          ],
          "heatmap": [
           {
            "colorbar": {
             "outlinewidth": 0,
             "ticks": ""
            },
            "colorscale": [
             [
              0,
              "#0d0887"
             ],
             [
              0.1111111111111111,
              "#46039f"
             ],
             [
              0.2222222222222222,
              "#7201a8"
             ],
             [
              0.3333333333333333,
              "#9c179e"
             ],
             [
              0.4444444444444444,
              "#bd3786"
             ],
             [
              0.5555555555555556,
              "#d8576b"
             ],
             [
              0.6666666666666666,
              "#ed7953"
             ],
             [
              0.7777777777777778,
              "#fb9f3a"
             ],
             [
              0.8888888888888888,
              "#fdca26"
             ],
             [
              1,
              "#f0f921"
             ]
            ],
            "type": "heatmap"
           }
          ],
          "heatmapgl": [
           {
            "colorbar": {
             "outlinewidth": 0,
             "ticks": ""
            },
            "colorscale": [
             [
              0,
              "#0d0887"
             ],
             [
              0.1111111111111111,
              "#46039f"
             ],
             [
              0.2222222222222222,
              "#7201a8"
             ],
             [
              0.3333333333333333,
              "#9c179e"
             ],
             [
              0.4444444444444444,
              "#bd3786"
             ],
             [
              0.5555555555555556,
              "#d8576b"
             ],
             [
              0.6666666666666666,
              "#ed7953"
             ],
             [
              0.7777777777777778,
              "#fb9f3a"
             ],
             [
              0.8888888888888888,
              "#fdca26"
             ],
             [
              1,
              "#f0f921"
             ]
            ],
            "type": "heatmapgl"
           }
          ],
          "histogram": [
           {
            "marker": {
             "pattern": {
              "fillmode": "overlay",
              "size": 10,
              "solidity": 0.2
             }
            },
            "type": "histogram"
           }
          ],
          "histogram2d": [
           {
            "colorbar": {
             "outlinewidth": 0,
             "ticks": ""
            },
            "colorscale": [
             [
              0,
              "#0d0887"
             ],
             [
              0.1111111111111111,
              "#46039f"
             ],
             [
              0.2222222222222222,
              "#7201a8"
             ],
             [
              0.3333333333333333,
              "#9c179e"
             ],
             [
              0.4444444444444444,
              "#bd3786"
             ],
             [
              0.5555555555555556,
              "#d8576b"
             ],
             [
              0.6666666666666666,
              "#ed7953"
             ],
             [
              0.7777777777777778,
              "#fb9f3a"
             ],
             [
              0.8888888888888888,
              "#fdca26"
             ],
             [
              1,
              "#f0f921"
             ]
            ],
            "type": "histogram2d"
           }
          ],
          "histogram2dcontour": [
           {
            "colorbar": {
             "outlinewidth": 0,
             "ticks": ""
            },
            "colorscale": [
             [
              0,
              "#0d0887"
             ],
             [
              0.1111111111111111,
              "#46039f"
             ],
             [
              0.2222222222222222,
              "#7201a8"
             ],
             [
              0.3333333333333333,
              "#9c179e"
             ],
             [
              0.4444444444444444,
              "#bd3786"
             ],
             [
              0.5555555555555556,
              "#d8576b"
             ],
             [
              0.6666666666666666,
              "#ed7953"
             ],
             [
              0.7777777777777778,
              "#fb9f3a"
             ],
             [
              0.8888888888888888,
              "#fdca26"
             ],
             [
              1,
              "#f0f921"
             ]
            ],
            "type": "histogram2dcontour"
           }
          ],
          "mesh3d": [
           {
            "colorbar": {
             "outlinewidth": 0,
             "ticks": ""
            },
            "type": "mesh3d"
           }
          ],
          "parcoords": [
           {
            "line": {
             "colorbar": {
              "outlinewidth": 0,
              "ticks": ""
             }
            },
            "type": "parcoords"
           }
          ],
          "pie": [
           {
            "automargin": true,
            "type": "pie"
           }
          ],
          "scatter": [
           {
            "fillpattern": {
             "fillmode": "overlay",
             "size": 10,
             "solidity": 0.2
            },
            "type": "scatter"
           }
          ],
          "scatter3d": [
           {
            "line": {
             "colorbar": {
              "outlinewidth": 0,
              "ticks": ""
             }
            },
            "marker": {
             "colorbar": {
              "outlinewidth": 0,
              "ticks": ""
             }
            },
            "type": "scatter3d"
           }
          ],
          "scattercarpet": [
           {
            "marker": {
             "colorbar": {
              "outlinewidth": 0,
              "ticks": ""
             }
            },
            "type": "scattercarpet"
           }
          ],
          "scattergeo": [
           {
            "marker": {
             "colorbar": {
              "outlinewidth": 0,
              "ticks": ""
             }
            },
            "type": "scattergeo"
           }
          ],
          "scattergl": [
           {
            "marker": {
             "colorbar": {
              "outlinewidth": 0,
              "ticks": ""
             }
            },
            "type": "scattergl"
           }
          ],
          "scattermapbox": [
           {
            "marker": {
             "colorbar": {
              "outlinewidth": 0,
              "ticks": ""
             }
            },
            "type": "scattermapbox"
           }
          ],
          "scatterpolar": [
           {
            "marker": {
             "colorbar": {
              "outlinewidth": 0,
              "ticks": ""
             }
            },
            "type": "scatterpolar"
           }
          ],
          "scatterpolargl": [
           {
            "marker": {
             "colorbar": {
              "outlinewidth": 0,
              "ticks": ""
             }
            },
            "type": "scatterpolargl"
           }
          ],
          "scatterternary": [
           {
            "marker": {
             "colorbar": {
              "outlinewidth": 0,
              "ticks": ""
             }
            },
            "type": "scatterternary"
           }
          ],
          "surface": [
           {
            "colorbar": {
             "outlinewidth": 0,
             "ticks": ""
            },
            "colorscale": [
             [
              0,
              "#0d0887"
             ],
             [
              0.1111111111111111,
              "#46039f"
             ],
             [
              0.2222222222222222,
              "#7201a8"
             ],
             [
              0.3333333333333333,
              "#9c179e"
             ],
             [
              0.4444444444444444,
              "#bd3786"
             ],
             [
              0.5555555555555556,
              "#d8576b"
             ],
             [
              0.6666666666666666,
              "#ed7953"
             ],
             [
              0.7777777777777778,
              "#fb9f3a"
             ],
             [
              0.8888888888888888,
              "#fdca26"
             ],
             [
              1,
              "#f0f921"
             ]
            ],
            "type": "surface"
           }
          ],
          "table": [
           {
            "cells": {
             "fill": {
              "color": "#EBF0F8"
             },
             "line": {
              "color": "white"
             }
            },
            "header": {
             "fill": {
              "color": "#C8D4E3"
             },
             "line": {
              "color": "white"
             }
            },
            "type": "table"
           }
          ]
         },
         "layout": {
          "annotationdefaults": {
           "arrowcolor": "#2a3f5f",
           "arrowhead": 0,
           "arrowwidth": 1
          },
          "autotypenumbers": "strict",
          "coloraxis": {
           "colorbar": {
            "outlinewidth": 0,
            "ticks": ""
           }
          },
          "colorscale": {
           "diverging": [
            [
             0,
             "#8e0152"
            ],
            [
             0.1,
             "#c51b7d"
            ],
            [
             0.2,
             "#de77ae"
            ],
            [
             0.3,
             "#f1b6da"
            ],
            [
             0.4,
             "#fde0ef"
            ],
            [
             0.5,
             "#f7f7f7"
            ],
            [
             0.6,
             "#e6f5d0"
            ],
            [
             0.7,
             "#b8e186"
            ],
            [
             0.8,
             "#7fbc41"
            ],
            [
             0.9,
             "#4d9221"
            ],
            [
             1,
             "#276419"
            ]
           ],
           "sequential": [
            [
             0,
             "#0d0887"
            ],
            [
             0.1111111111111111,
             "#46039f"
            ],
            [
             0.2222222222222222,
             "#7201a8"
            ],
            [
             0.3333333333333333,
             "#9c179e"
            ],
            [
             0.4444444444444444,
             "#bd3786"
            ],
            [
             0.5555555555555556,
             "#d8576b"
            ],
            [
             0.6666666666666666,
             "#ed7953"
            ],
            [
             0.7777777777777778,
             "#fb9f3a"
            ],
            [
             0.8888888888888888,
             "#fdca26"
            ],
            [
             1,
             "#f0f921"
            ]
           ],
           "sequentialminus": [
            [
             0,
             "#0d0887"
            ],
            [
             0.1111111111111111,
             "#46039f"
            ],
            [
             0.2222222222222222,
             "#7201a8"
            ],
            [
             0.3333333333333333,
             "#9c179e"
            ],
            [
             0.4444444444444444,
             "#bd3786"
            ],
            [
             0.5555555555555556,
             "#d8576b"
            ],
            [
             0.6666666666666666,
             "#ed7953"
            ],
            [
             0.7777777777777778,
             "#fb9f3a"
            ],
            [
             0.8888888888888888,
             "#fdca26"
            ],
            [
             1,
             "#f0f921"
            ]
           ]
          },
          "colorway": [
           "#636efa",
           "#EF553B",
           "#00cc96",
           "#ab63fa",
           "#FFA15A",
           "#19d3f3",
           "#FF6692",
           "#B6E880",
           "#FF97FF",
           "#FECB52"
          ],
          "font": {
           "color": "#2a3f5f"
          },
          "geo": {
           "bgcolor": "white",
           "lakecolor": "white",
           "landcolor": "#E5ECF6",
           "showlakes": true,
           "showland": true,
           "subunitcolor": "white"
          },
          "hoverlabel": {
           "align": "left"
          },
          "hovermode": "closest",
          "mapbox": {
           "style": "light"
          },
          "paper_bgcolor": "white",
          "plot_bgcolor": "#E5ECF6",
          "polar": {
           "angularaxis": {
            "gridcolor": "white",
            "linecolor": "white",
            "ticks": ""
           },
           "bgcolor": "#E5ECF6",
           "radialaxis": {
            "gridcolor": "white",
            "linecolor": "white",
            "ticks": ""
           }
          },
          "scene": {
           "xaxis": {
            "backgroundcolor": "#E5ECF6",
            "gridcolor": "white",
            "gridwidth": 2,
            "linecolor": "white",
            "showbackground": true,
            "ticks": "",
            "zerolinecolor": "white"
           },
           "yaxis": {
            "backgroundcolor": "#E5ECF6",
            "gridcolor": "white",
            "gridwidth": 2,
            "linecolor": "white",
            "showbackground": true,
            "ticks": "",
            "zerolinecolor": "white"
           },
           "zaxis": {
            "backgroundcolor": "#E5ECF6",
            "gridcolor": "white",
            "gridwidth": 2,
            "linecolor": "white",
            "showbackground": true,
            "ticks": "",
            "zerolinecolor": "white"
           }
          },
          "shapedefaults": {
           "line": {
            "color": "#2a3f5f"
           }
          },
          "ternary": {
           "aaxis": {
            "gridcolor": "white",
            "linecolor": "white",
            "ticks": ""
           },
           "baxis": {
            "gridcolor": "white",
            "linecolor": "white",
            "ticks": ""
           },
           "bgcolor": "#E5ECF6",
           "caxis": {
            "gridcolor": "white",
            "linecolor": "white",
            "ticks": ""
           }
          },
          "title": {
           "x": 0.05
          },
          "xaxis": {
           "automargin": true,
           "gridcolor": "white",
           "linecolor": "white",
           "ticks": "",
           "title": {
            "standoff": 15
           },
           "zerolinecolor": "white",
           "zerolinewidth": 2
          },
          "yaxis": {
           "automargin": true,
           "gridcolor": "white",
           "linecolor": "white",
           "ticks": "",
           "title": {
            "standoff": 15
           },
           "zerolinecolor": "white",
           "zerolinewidth": 2
          }
         }
        },
        "title": {
         "text": "Contour Plot"
        },
        "xaxis": {
         "range": [
          -3.118671860973464,
          0.9024168761509648
         ],
         "title": {
          "text": "alpha"
         },
         "type": "log"
        },
        "yaxis": {
         "range": [
          -4.010872978385516,
          1.0773581616239873
         ],
         "title": {
          "text": "lambda"
         },
         "type": "log"
        }
       }
      },
      "text/html": [
       "<div>                            <div id=\"bde7baad-b463-438d-94d5-f7613437aedb\" class=\"plotly-graph-div\" style=\"height:525px; width:100%;\"></div>            <script type=\"text/javascript\">                require([\"plotly\"], function(Plotly) {                    window.PLOTLYENV=window.PLOTLYENV || {};                                    if (document.getElementById(\"bde7baad-b463-438d-94d5-f7613437aedb\")) {                    Plotly.newPlot(                        \"bde7baad-b463-438d-94d5-f7613437aedb\",                        [{\"colorbar\":{\"title\":{\"text\":\"Objective Value\"}},\"colorscale\":[[0.0,\"rgb(247,251,255)\"],[0.125,\"rgb(222,235,247)\"],[0.25,\"rgb(198,219,239)\"],[0.375,\"rgb(158,202,225)\"],[0.5,\"rgb(107,174,214)\"],[0.625,\"rgb(66,146,198)\"],[0.75,\"rgb(33,113,181)\"],[0.875,\"rgb(8,81,156)\"],[1.0,\"rgb(8,48,107)\"]],\"connectgaps\":true,\"contours\":{\"coloring\":\"heatmap\"},\"hoverinfo\":\"none\",\"line\":{\"smoothing\":1.3},\"reversescale\":true,\"x\":[0.0007609009722514769,0.001159057281885609,0.009368214306835458,0.010213825209498817,0.01569132847003637,0.023857162070464837,0.08535460217348156,0.520041367568177,0.9995506024274605,1.622432331738912,5.243727508262309,7.987610443828701],\"y\":[9.752748425167884e-05,0.00016611553729766674,0.0021989489904092083,0.0025704462445794328,0.008951729841361741,0.014196913209920862,0.01505916471731097,0.02206793877957743,0.13982004622695032,0.350606819393763,7.01576329586579,11.949731897507984],\"z\":[[null,null,null,null,null,null,null,null,null,null,null,null],[null,null,null,null,0.014330310988065397,null,null,null,null,null,null,null],[null,null,null,null,null,0.004798704541338985,null,null,null,null,null,null],[null,null,null,null,null,null,null,null,0.005930147395731221,null,null,null],[null,null,null,null,null,null,null,0.017893792635816478,null,null,null,null],[null,null,null,null,null,null,null,null,null,null,8.303862686323146e+72,null],[null,null,null,0.006119618690723678,null,null,null,null,null,null,null,null],[null,null,null,null,null,null,0.020438803633784794,null,null,null,null,null],[null,null,0.052701122779549366,null,null,null,null,null,null,null,null,null],[null,9.028579821821336e+72,null,null,null,null,null,null,null,null,null,null],[null,null,null,null,null,null,null,null,null,0.015203831216800577,null,null],[null,null,null,null,null,null,null,null,null,null,null,null]],\"type\":\"contour\"},{\"marker\":{\"color\":\"black\",\"line\":{\"color\":\"Grey\",\"width\":2.0}},\"mode\":\"markers\",\"showlegend\":false,\"x\":[5.243727508262309,0.9995506024274605,0.001159057281885609,0.010213825209498817,0.009368214306835458,0.01569132847003637,1.622432331738912,0.520041367568177,0.08535460217348156,0.023857162070464837],\"y\":[0.014196913209920862,0.0025704462445794328,0.350606819393763,0.01505916471731097,0.13982004622695032,0.00016611553729766674,7.01576329586579,0.008951729841361741,0.02206793877957743,0.0021989489904092083],\"type\":\"scatter\"}],                        {\"title\":{\"text\":\"Contour Plot\"},\"template\":{\"data\":{\"histogram2dcontour\":[{\"type\":\"histogram2dcontour\",\"colorbar\":{\"outlinewidth\":0,\"ticks\":\"\"},\"colorscale\":[[0.0,\"#0d0887\"],[0.1111111111111111,\"#46039f\"],[0.2222222222222222,\"#7201a8\"],[0.3333333333333333,\"#9c179e\"],[0.4444444444444444,\"#bd3786\"],[0.5555555555555556,\"#d8576b\"],[0.6666666666666666,\"#ed7953\"],[0.7777777777777778,\"#fb9f3a\"],[0.8888888888888888,\"#fdca26\"],[1.0,\"#f0f921\"]]}],\"choropleth\":[{\"type\":\"choropleth\",\"colorbar\":{\"outlinewidth\":0,\"ticks\":\"\"}}],\"histogram2d\":[{\"type\":\"histogram2d\",\"colorbar\":{\"outlinewidth\":0,\"ticks\":\"\"},\"colorscale\":[[0.0,\"#0d0887\"],[0.1111111111111111,\"#46039f\"],[0.2222222222222222,\"#7201a8\"],[0.3333333333333333,\"#9c179e\"],[0.4444444444444444,\"#bd3786\"],[0.5555555555555556,\"#d8576b\"],[0.6666666666666666,\"#ed7953\"],[0.7777777777777778,\"#fb9f3a\"],[0.8888888888888888,\"#fdca26\"],[1.0,\"#f0f921\"]]}],\"heatmap\":[{\"type\":\"heatmap\",\"colorbar\":{\"outlinewidth\":0,\"ticks\":\"\"},\"colorscale\":[[0.0,\"#0d0887\"],[0.1111111111111111,\"#46039f\"],[0.2222222222222222,\"#7201a8\"],[0.3333333333333333,\"#9c179e\"],[0.4444444444444444,\"#bd3786\"],[0.5555555555555556,\"#d8576b\"],[0.6666666666666666,\"#ed7953\"],[0.7777777777777778,\"#fb9f3a\"],[0.8888888888888888,\"#fdca26\"],[1.0,\"#f0f921\"]]}],\"heatmapgl\":[{\"type\":\"heatmapgl\",\"colorbar\":{\"outlinewidth\":0,\"ticks\":\"\"},\"colorscale\":[[0.0,\"#0d0887\"],[0.1111111111111111,\"#46039f\"],[0.2222222222222222,\"#7201a8\"],[0.3333333333333333,\"#9c179e\"],[0.4444444444444444,\"#bd3786\"],[0.5555555555555556,\"#d8576b\"],[0.6666666666666666,\"#ed7953\"],[0.7777777777777778,\"#fb9f3a\"],[0.8888888888888888,\"#fdca26\"],[1.0,\"#f0f921\"]]}],\"contourcarpet\":[{\"type\":\"contourcarpet\",\"colorbar\":{\"outlinewidth\":0,\"ticks\":\"\"}}],\"contour\":[{\"type\":\"contour\",\"colorbar\":{\"outlinewidth\":0,\"ticks\":\"\"},\"colorscale\":[[0.0,\"#0d0887\"],[0.1111111111111111,\"#46039f\"],[0.2222222222222222,\"#7201a8\"],[0.3333333333333333,\"#9c179e\"],[0.4444444444444444,\"#bd3786\"],[0.5555555555555556,\"#d8576b\"],[0.6666666666666666,\"#ed7953\"],[0.7777777777777778,\"#fb9f3a\"],[0.8888888888888888,\"#fdca26\"],[1.0,\"#f0f921\"]]}],\"surface\":[{\"type\":\"surface\",\"colorbar\":{\"outlinewidth\":0,\"ticks\":\"\"},\"colorscale\":[[0.0,\"#0d0887\"],[0.1111111111111111,\"#46039f\"],[0.2222222222222222,\"#7201a8\"],[0.3333333333333333,\"#9c179e\"],[0.4444444444444444,\"#bd3786\"],[0.5555555555555556,\"#d8576b\"],[0.6666666666666666,\"#ed7953\"],[0.7777777777777778,\"#fb9f3a\"],[0.8888888888888888,\"#fdca26\"],[1.0,\"#f0f921\"]]}],\"mesh3d\":[{\"type\":\"mesh3d\",\"colorbar\":{\"outlinewidth\":0,\"ticks\":\"\"}}],\"scatter\":[{\"fillpattern\":{\"fillmode\":\"overlay\",\"size\":10,\"solidity\":0.2},\"type\":\"scatter\"}],\"parcoords\":[{\"type\":\"parcoords\",\"line\":{\"colorbar\":{\"outlinewidth\":0,\"ticks\":\"\"}}}],\"scatterpolargl\":[{\"type\":\"scatterpolargl\",\"marker\":{\"colorbar\":{\"outlinewidth\":0,\"ticks\":\"\"}}}],\"bar\":[{\"error_x\":{\"color\":\"#2a3f5f\"},\"error_y\":{\"color\":\"#2a3f5f\"},\"marker\":{\"line\":{\"color\":\"#E5ECF6\",\"width\":0.5},\"pattern\":{\"fillmode\":\"overlay\",\"size\":10,\"solidity\":0.2}},\"type\":\"bar\"}],\"scattergeo\":[{\"type\":\"scattergeo\",\"marker\":{\"colorbar\":{\"outlinewidth\":0,\"ticks\":\"\"}}}],\"scatterpolar\":[{\"type\":\"scatterpolar\",\"marker\":{\"colorbar\":{\"outlinewidth\":0,\"ticks\":\"\"}}}],\"histogram\":[{\"marker\":{\"pattern\":{\"fillmode\":\"overlay\",\"size\":10,\"solidity\":0.2}},\"type\":\"histogram\"}],\"scattergl\":[{\"type\":\"scattergl\",\"marker\":{\"colorbar\":{\"outlinewidth\":0,\"ticks\":\"\"}}}],\"scatter3d\":[{\"type\":\"scatter3d\",\"line\":{\"colorbar\":{\"outlinewidth\":0,\"ticks\":\"\"}},\"marker\":{\"colorbar\":{\"outlinewidth\":0,\"ticks\":\"\"}}}],\"scattermapbox\":[{\"type\":\"scattermapbox\",\"marker\":{\"colorbar\":{\"outlinewidth\":0,\"ticks\":\"\"}}}],\"scatterternary\":[{\"type\":\"scatterternary\",\"marker\":{\"colorbar\":{\"outlinewidth\":0,\"ticks\":\"\"}}}],\"scattercarpet\":[{\"type\":\"scattercarpet\",\"marker\":{\"colorbar\":{\"outlinewidth\":0,\"ticks\":\"\"}}}],\"carpet\":[{\"aaxis\":{\"endlinecolor\":\"#2a3f5f\",\"gridcolor\":\"white\",\"linecolor\":\"white\",\"minorgridcolor\":\"white\",\"startlinecolor\":\"#2a3f5f\"},\"baxis\":{\"endlinecolor\":\"#2a3f5f\",\"gridcolor\":\"white\",\"linecolor\":\"white\",\"minorgridcolor\":\"white\",\"startlinecolor\":\"#2a3f5f\"},\"type\":\"carpet\"}],\"table\":[{\"cells\":{\"fill\":{\"color\":\"#EBF0F8\"},\"line\":{\"color\":\"white\"}},\"header\":{\"fill\":{\"color\":\"#C8D4E3\"},\"line\":{\"color\":\"white\"}},\"type\":\"table\"}],\"barpolar\":[{\"marker\":{\"line\":{\"color\":\"#E5ECF6\",\"width\":0.5},\"pattern\":{\"fillmode\":\"overlay\",\"size\":10,\"solidity\":0.2}},\"type\":\"barpolar\"}],\"pie\":[{\"automargin\":true,\"type\":\"pie\"}]},\"layout\":{\"autotypenumbers\":\"strict\",\"colorway\":[\"#636efa\",\"#EF553B\",\"#00cc96\",\"#ab63fa\",\"#FFA15A\",\"#19d3f3\",\"#FF6692\",\"#B6E880\",\"#FF97FF\",\"#FECB52\"],\"font\":{\"color\":\"#2a3f5f\"},\"hovermode\":\"closest\",\"hoverlabel\":{\"align\":\"left\"},\"paper_bgcolor\":\"white\",\"plot_bgcolor\":\"#E5ECF6\",\"polar\":{\"bgcolor\":\"#E5ECF6\",\"angularaxis\":{\"gridcolor\":\"white\",\"linecolor\":\"white\",\"ticks\":\"\"},\"radialaxis\":{\"gridcolor\":\"white\",\"linecolor\":\"white\",\"ticks\":\"\"}},\"ternary\":{\"bgcolor\":\"#E5ECF6\",\"aaxis\":{\"gridcolor\":\"white\",\"linecolor\":\"white\",\"ticks\":\"\"},\"baxis\":{\"gridcolor\":\"white\",\"linecolor\":\"white\",\"ticks\":\"\"},\"caxis\":{\"gridcolor\":\"white\",\"linecolor\":\"white\",\"ticks\":\"\"}},\"coloraxis\":{\"colorbar\":{\"outlinewidth\":0,\"ticks\":\"\"}},\"colorscale\":{\"sequential\":[[0.0,\"#0d0887\"],[0.1111111111111111,\"#46039f\"],[0.2222222222222222,\"#7201a8\"],[0.3333333333333333,\"#9c179e\"],[0.4444444444444444,\"#bd3786\"],[0.5555555555555556,\"#d8576b\"],[0.6666666666666666,\"#ed7953\"],[0.7777777777777778,\"#fb9f3a\"],[0.8888888888888888,\"#fdca26\"],[1.0,\"#f0f921\"]],\"sequentialminus\":[[0.0,\"#0d0887\"],[0.1111111111111111,\"#46039f\"],[0.2222222222222222,\"#7201a8\"],[0.3333333333333333,\"#9c179e\"],[0.4444444444444444,\"#bd3786\"],[0.5555555555555556,\"#d8576b\"],[0.6666666666666666,\"#ed7953\"],[0.7777777777777778,\"#fb9f3a\"],[0.8888888888888888,\"#fdca26\"],[1.0,\"#f0f921\"]],\"diverging\":[[0,\"#8e0152\"],[0.1,\"#c51b7d\"],[0.2,\"#de77ae\"],[0.3,\"#f1b6da\"],[0.4,\"#fde0ef\"],[0.5,\"#f7f7f7\"],[0.6,\"#e6f5d0\"],[0.7,\"#b8e186\"],[0.8,\"#7fbc41\"],[0.9,\"#4d9221\"],[1,\"#276419\"]]},\"xaxis\":{\"gridcolor\":\"white\",\"linecolor\":\"white\",\"ticks\":\"\",\"title\":{\"standoff\":15},\"zerolinecolor\":\"white\",\"automargin\":true,\"zerolinewidth\":2},\"yaxis\":{\"gridcolor\":\"white\",\"linecolor\":\"white\",\"ticks\":\"\",\"title\":{\"standoff\":15},\"zerolinecolor\":\"white\",\"automargin\":true,\"zerolinewidth\":2},\"scene\":{\"xaxis\":{\"backgroundcolor\":\"#E5ECF6\",\"gridcolor\":\"white\",\"linecolor\":\"white\",\"showbackground\":true,\"ticks\":\"\",\"zerolinecolor\":\"white\",\"gridwidth\":2},\"yaxis\":{\"backgroundcolor\":\"#E5ECF6\",\"gridcolor\":\"white\",\"linecolor\":\"white\",\"showbackground\":true,\"ticks\":\"\",\"zerolinecolor\":\"white\",\"gridwidth\":2},\"zaxis\":{\"backgroundcolor\":\"#E5ECF6\",\"gridcolor\":\"white\",\"linecolor\":\"white\",\"showbackground\":true,\"ticks\":\"\",\"zerolinecolor\":\"white\",\"gridwidth\":2}},\"shapedefaults\":{\"line\":{\"color\":\"#2a3f5f\"}},\"annotationdefaults\":{\"arrowcolor\":\"#2a3f5f\",\"arrowhead\":0,\"arrowwidth\":1},\"geo\":{\"bgcolor\":\"white\",\"landcolor\":\"#E5ECF6\",\"subunitcolor\":\"white\",\"showland\":true,\"showlakes\":true,\"lakecolor\":\"white\"},\"title\":{\"x\":0.05},\"mapbox\":{\"style\":\"light\"}}},\"xaxis\":{\"title\":{\"text\":\"alpha\"},\"range\":[-3.118671860973464,0.9024168761509648],\"type\":\"log\"},\"yaxis\":{\"title\":{\"text\":\"lambda\"},\"range\":[-4.010872978385516,1.0773581616239873],\"type\":\"log\"}},                        {\"responsive\": true}                    ).then(function(){\n",
       "                            \n",
       "var gd = document.getElementById('bde7baad-b463-438d-94d5-f7613437aedb');\n",
       "var x = new MutationObserver(function (mutations, observer) {{\n",
       "        var display = window.getComputedStyle(gd).display;\n",
       "        if (!display || display === 'none') {{\n",
       "            console.log([gd, 'removed!']);\n",
       "            Plotly.purge(gd);\n",
       "            observer.disconnect();\n",
       "        }}\n",
       "}});\n",
       "\n",
       "// Listen for the removal of the full notebook cells\n",
       "var notebookContainer = gd.closest('#notebook-container');\n",
       "if (notebookContainer) {{\n",
       "    x.observe(notebookContainer, {childList: true});\n",
       "}}\n",
       "\n",
       "// Listen for the clearing of the current output cell\n",
       "var outputEl = gd.closest('.output');\n",
       "if (outputEl) {{\n",
       "    x.observe(outputEl, {childList: true});\n",
       "}}\n",
       "\n",
       "                        })                };                });            </script>        </div>"
      ]
     },
     "metadata": {},
     "output_type": "display_data"
    }
   ],
   "source": [
    "optuna.visualization.plot_contour(find_params,params=['alpha','lambda'])"
   ]
  },
  {
   "cell_type": "code",
   "execution_count": 85,
   "id": "b5e8bd1b",
   "metadata": {},
   "outputs": [],
   "source": [
    "best_params={'lambda': 0.009664478610044897,\n",
    " 'alpha': 1.212494550192719,\n",
    " 'colsample_bytree': 0.8,\n",
    " 'subsample': 0.8,\n",
    " 'learning_rate': 0.008,\n",
    " 'max_depth': 7,\n",
    " 'random_state': 10,\n",
    " 'min_child_weight': 5}"
   ]
  },
  {
   "cell_type": "code",
   "execution_count": 86,
   "id": "84ea6b3f",
   "metadata": {},
   "outputs": [],
   "source": [
    "xgb_final_model=xgb.XGBRegressor(**best_params)"
   ]
  },
  {
   "cell_type": "code",
   "execution_count": 87,
   "id": "77f66b8c",
   "metadata": {},
   "outputs": [
    {
     "data": {
      "text/plain": [
       "XGBRegressor(alpha=1.212494550192719, base_score=None, booster=None,\n",
       "             callbacks=None, colsample_bylevel=None, colsample_bynode=None,\n",
       "             colsample_bytree=0.8, early_stopping_rounds=None,\n",
       "             enable_categorical=False, eval_metric=None, feature_types=None,\n",
       "             gamma=None, gpu_id=None, grow_policy=None, importance_type=None,\n",
       "             interaction_constraints=None, lambda=0.009664478610044897,\n",
       "             learning_rate=0.008, max_bin=None, max_cat_threshold=None,\n",
       "             max_cat_to_onehot=None, max_delta_step=None, max_depth=7,\n",
       "             max_leaves=None, min_child_weight=5, missing=nan,\n",
       "             monotone_constraints=None, n_estimators=100, n_jobs=None,\n",
       "             num_parallel_tree=None, ...)"
      ]
     },
     "execution_count": 87,
     "metadata": {},
     "output_type": "execute_result"
    }
   ],
   "source": [
    "xgb_final_model.fit(x,y)"
   ]
  },
  {
   "cell_type": "code",
   "execution_count": 88,
   "id": "50f35e26",
   "metadata": {},
   "outputs": [
    {
     "data": {
      "text/plain": [
       "0.044422148939256"
      ]
     },
     "execution_count": 88,
     "metadata": {},
     "output_type": "execute_result"
    }
   ],
   "source": [
    "xgb_final_model.score(x,y)"
   ]
  },
  {
   "cell_type": "code",
   "execution_count": null,
   "id": "4056e2d2",
   "metadata": {},
   "outputs": [],
   "source": []
  }
 ],
 "metadata": {
  "kernelspec": {
   "display_name": "Python 3 (ipykernel)",
   "language": "python",
   "name": "python3"
  },
  "language_info": {
   "codemirror_mode": {
    "name": "ipython",
    "version": 3
   },
   "file_extension": ".py",
   "mimetype": "text/x-python",
   "name": "python",
   "nbconvert_exporter": "python",
   "pygments_lexer": "ipython3",
   "version": "3.9.7"
  }
 },
 "nbformat": 4,
 "nbformat_minor": 5
}
